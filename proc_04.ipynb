{
 "cells": [
  {
   "cell_type": "code",
   "execution_count": 1,
   "metadata": {},
   "outputs": [],
   "source": [
    "import pandas as pd\n",
    "import numpy as np\n",
    "import matplotlib.pyplot as plt\n",
    "from time import time\n",
    "import datetime as dt\n",
    "import importlib\n",
    "\n",
    "import aux_funcs as aux"
   ]
  },
  {
   "cell_type": "markdown",
   "metadata": {},
   "source": [
    "# Read files"
   ]
  },
  {
   "cell_type": "code",
   "execution_count": 2,
   "metadata": {},
   "outputs": [
    {
     "name": "stdout",
     "output_type": "stream",
     "text": [
      "train.csv read in 11.1 s\n",
      "Mem. usage decreased to 289.19 Mb (53.1% reduction)\n",
      "(20216100, 11)\n",
      "   building_id  meter  timestamp  meter_reading  hour  day  year  weeknumber  \\\n",
      "0            0      0 2016-01-01            0.0     0    1  2016          53   \n",
      "1            1      0 2016-01-01            0.0     0    1  2016          53   \n",
      "2            2      0 2016-01-01            0.0     0    1  2016          53   \n",
      "3            3      0 2016-01-01            0.0     0    1  2016          53   \n",
      "4            4      0 2016-01-01            0.0     0    1  2016          53   \n",
      "\n",
      "   weekday  month  log_meter_reading  \n",
      "0        4      1                0.0  \n",
      "1        4      1                0.0  \n",
      "2        4      1                0.0  \n",
      "3        4      1                0.0  \n",
      "4        4      1                0.0  \n"
     ]
    }
   ],
   "source": [
    "train = aux.read_train_data()"
   ]
  },
  {
   "cell_type": "code",
   "execution_count": 3,
   "metadata": {},
   "outputs": [
    {
     "name": "stdout",
     "output_type": "stream",
     "text": [
      "building_metadata.csv read in 0.1 s\n",
      "Mem. usage decreased to  0.03 Mb (60.3% reduction)\n",
      "(1449, 7)\n",
      "   site_id  building_id primary_use  square_feet  year_built  floor_count  \\\n",
      "0        0            0   Education         7432      2008.0          NaN   \n",
      "1        0            1   Education         2720      2004.0          NaN   \n",
      "2        0            2   Education         5376      1991.0          NaN   \n",
      "3        0            3   Education        23685      2002.0          NaN   \n",
      "4        0            4   Education       116607      1975.0          NaN   \n",
      "\n",
      "   log_square_feet  \n",
      "0         8.913550  \n",
      "1         7.908387  \n",
      "2         8.589700  \n",
      "3        10.072597  \n",
      "4        11.666565  \n"
     ]
    }
   ],
   "source": [
    "building = aux.read_building_data()"
   ]
  },
  {
   "cell_type": "code",
   "execution_count": 43,
   "metadata": {},
   "outputs": [
    {
     "data": {
      "text/plain": [
       "array(['Education', 'Lodging/residential', 'Office',\n",
       "       'Entertainment/public assembly', 'Other', 'Retail', 'Parking',\n",
       "       'Public services', 'Warehouse/storage', 'Food sales and service',\n",
       "       'Religious worship', 'Healthcare', 'Utility', 'Technology/science',\n",
       "       'Manufacturing/industrial', 'Services'], dtype=object)"
      ]
     },
     "execution_count": 43,
     "metadata": {},
     "output_type": "execute_result"
    }
   ],
   "source": [
    "building['primary_use'].unique()"
   ]
  },
  {
   "cell_type": "code",
   "execution_count": 15,
   "metadata": {},
   "outputs": [
    {
     "data": {
      "text/plain": [
       "<module 'aux_funcs' from 'C:\\\\rob\\\\Kaggle\\\\ASHRAE\\\\aux_funcs.py'>"
      ]
     },
     "execution_count": 15,
     "metadata": {},
     "output_type": "execute_result"
    }
   ],
   "source": [
    "importlib.reload(aux)"
   ]
  },
  {
   "cell_type": "code",
   "execution_count": 6,
   "metadata": {},
   "outputs": [
    {
     "name": "stdout",
     "output_type": "stream",
     "text": [
      "weather_test.csv read in 0.2 s\n",
      "Mem. usage decreased to  6.08 Mb (68.1% reduction)\n"
     ]
    }
   ],
   "source": [
    "weather_test = aux.read_weather_test_data()"
   ]
  },
  {
   "cell_type": "code",
   "execution_count": 16,
   "metadata": {},
   "outputs": [
    {
     "name": "stdout",
     "output_type": "stream",
     "text": [
      "weather_train.csv read in 0.3 s\n",
      "Mem. usage decreased to  3.07 Mb (68.1% reduction)\n"
     ]
    }
   ],
   "source": [
    "weather_train = aux.read_weather_train_data()"
   ]
  },
  {
   "cell_type": "code",
   "execution_count": 22,
   "metadata": {},
   "outputs": [
    {
     "data": {
      "text/html": [
       "<div>\n",
       "<style scoped>\n",
       "    .dataframe tbody tr th:only-of-type {\n",
       "        vertical-align: middle;\n",
       "    }\n",
       "\n",
       "    .dataframe tbody tr th {\n",
       "        vertical-align: top;\n",
       "    }\n",
       "\n",
       "    .dataframe thead th {\n",
       "        text-align: right;\n",
       "    }\n",
       "</style>\n",
       "<table border=\"1\" class=\"dataframe\">\n",
       "  <thead>\n",
       "    <tr style=\"text-align: right;\">\n",
       "      <th></th>\n",
       "      <th>building_id</th>\n",
       "      <th>meter</th>\n",
       "      <th>timestamp</th>\n",
       "      <th>meter_reading</th>\n",
       "      <th>hour</th>\n",
       "      <th>day</th>\n",
       "      <th>year</th>\n",
       "      <th>weeknumber</th>\n",
       "      <th>weekday</th>\n",
       "      <th>month</th>\n",
       "      <th>log_meter_reading</th>\n",
       "      <th>building_idr</th>\n",
       "      <th>primary_use</th>\n",
       "      <th>site_id</th>\n",
       "      <th>square_feet</th>\n",
       "      <th>log_square_feet</th>\n",
       "    </tr>\n",
       "  </thead>\n",
       "  <tbody>\n",
       "    <tr>\n",
       "      <th>0</th>\n",
       "      <td>0</td>\n",
       "      <td>0</td>\n",
       "      <td>2016-01-01</td>\n",
       "      <td>0.0</td>\n",
       "      <td>0</td>\n",
       "      <td>1</td>\n",
       "      <td>2016</td>\n",
       "      <td>53</td>\n",
       "      <td>4</td>\n",
       "      <td>1</td>\n",
       "      <td>0.0</td>\n",
       "      <td>0</td>\n",
       "      <td>Education</td>\n",
       "      <td>0</td>\n",
       "      <td>7432</td>\n",
       "      <td>8.913550</td>\n",
       "    </tr>\n",
       "    <tr>\n",
       "      <th>1</th>\n",
       "      <td>1</td>\n",
       "      <td>0</td>\n",
       "      <td>2016-01-01</td>\n",
       "      <td>0.0</td>\n",
       "      <td>0</td>\n",
       "      <td>1</td>\n",
       "      <td>2016</td>\n",
       "      <td>53</td>\n",
       "      <td>4</td>\n",
       "      <td>1</td>\n",
       "      <td>0.0</td>\n",
       "      <td>1</td>\n",
       "      <td>Education</td>\n",
       "      <td>0</td>\n",
       "      <td>2720</td>\n",
       "      <td>7.908387</td>\n",
       "    </tr>\n",
       "    <tr>\n",
       "      <th>2</th>\n",
       "      <td>2</td>\n",
       "      <td>0</td>\n",
       "      <td>2016-01-01</td>\n",
       "      <td>0.0</td>\n",
       "      <td>0</td>\n",
       "      <td>1</td>\n",
       "      <td>2016</td>\n",
       "      <td>53</td>\n",
       "      <td>4</td>\n",
       "      <td>1</td>\n",
       "      <td>0.0</td>\n",
       "      <td>2</td>\n",
       "      <td>Education</td>\n",
       "      <td>0</td>\n",
       "      <td>5376</td>\n",
       "      <td>8.589700</td>\n",
       "    </tr>\n",
       "    <tr>\n",
       "      <th>3</th>\n",
       "      <td>3</td>\n",
       "      <td>0</td>\n",
       "      <td>2016-01-01</td>\n",
       "      <td>0.0</td>\n",
       "      <td>0</td>\n",
       "      <td>1</td>\n",
       "      <td>2016</td>\n",
       "      <td>53</td>\n",
       "      <td>4</td>\n",
       "      <td>1</td>\n",
       "      <td>0.0</td>\n",
       "      <td>3</td>\n",
       "      <td>Education</td>\n",
       "      <td>0</td>\n",
       "      <td>23685</td>\n",
       "      <td>10.072597</td>\n",
       "    </tr>\n",
       "    <tr>\n",
       "      <th>4</th>\n",
       "      <td>4</td>\n",
       "      <td>0</td>\n",
       "      <td>2016-01-01</td>\n",
       "      <td>0.0</td>\n",
       "      <td>0</td>\n",
       "      <td>1</td>\n",
       "      <td>2016</td>\n",
       "      <td>53</td>\n",
       "      <td>4</td>\n",
       "      <td>1</td>\n",
       "      <td>0.0</td>\n",
       "      <td>4</td>\n",
       "      <td>Education</td>\n",
       "      <td>0</td>\n",
       "      <td>116607</td>\n",
       "      <td>11.666565</td>\n",
       "    </tr>\n",
       "  </tbody>\n",
       "</table>\n",
       "</div>"
      ],
      "text/plain": [
       "   building_id  meter  timestamp  meter_reading  hour  day  year  weeknumber  \\\n",
       "0            0      0 2016-01-01            0.0     0    1  2016          53   \n",
       "1            1      0 2016-01-01            0.0     0    1  2016          53   \n",
       "2            2      0 2016-01-01            0.0     0    1  2016          53   \n",
       "3            3      0 2016-01-01            0.0     0    1  2016          53   \n",
       "4            4      0 2016-01-01            0.0     0    1  2016          53   \n",
       "\n",
       "   weekday  month  log_meter_reading  building_idr primary_use  site_id  \\\n",
       "0        4      1                0.0             0   Education        0   \n",
       "1        4      1                0.0             1   Education        0   \n",
       "2        4      1                0.0             2   Education        0   \n",
       "3        4      1                0.0             3   Education        0   \n",
       "4        4      1                0.0             4   Education        0   \n",
       "\n",
       "   square_feet  log_square_feet  \n",
       "0         7432         8.913550  \n",
       "1         2720         7.908387  \n",
       "2         5376         8.589700  \n",
       "3        23685        10.072597  \n",
       "4       116607        11.666565  "
      ]
     },
     "execution_count": 22,
     "metadata": {},
     "output_type": "execute_result"
    }
   ],
   "source": [
    "tbw = train.join(building.loc[:,['building_id','primary_use','site_id','square_feet','log_square_feet']], on='building_id',rsuffix='r')\n",
    "tbw.head()"
   ]
  },
  {
   "cell_type": "code",
   "execution_count": 23,
   "metadata": {},
   "outputs": [
    {
     "data": {
      "text/html": [
       "<div>\n",
       "<style scoped>\n",
       "    .dataframe tbody tr th:only-of-type {\n",
       "        vertical-align: middle;\n",
       "    }\n",
       "\n",
       "    .dataframe tbody tr th {\n",
       "        vertical-align: top;\n",
       "    }\n",
       "\n",
       "    .dataframe thead th {\n",
       "        text-align: right;\n",
       "    }\n",
       "</style>\n",
       "<table border=\"1\" class=\"dataframe\">\n",
       "  <thead>\n",
       "    <tr style=\"text-align: right;\">\n",
       "      <th></th>\n",
       "      <th>building_id</th>\n",
       "      <th>meter</th>\n",
       "      <th>timestamp</th>\n",
       "      <th>meter_reading</th>\n",
       "      <th>hour</th>\n",
       "      <th>day</th>\n",
       "      <th>year</th>\n",
       "      <th>weeknumber</th>\n",
       "      <th>weekday</th>\n",
       "      <th>month</th>\n",
       "      <th>log_meter_reading</th>\n",
       "      <th>building_idr</th>\n",
       "      <th>primary_use</th>\n",
       "      <th>site_id</th>\n",
       "      <th>square_feet</th>\n",
       "      <th>log_square_feet</th>\n",
       "      <th>air_temperature</th>\n",
       "    </tr>\n",
       "  </thead>\n",
       "  <tbody>\n",
       "    <tr>\n",
       "      <th>0</th>\n",
       "      <td>0</td>\n",
       "      <td>0</td>\n",
       "      <td>2016-01-01</td>\n",
       "      <td>0.0</td>\n",
       "      <td>0</td>\n",
       "      <td>1</td>\n",
       "      <td>2016</td>\n",
       "      <td>53</td>\n",
       "      <td>4</td>\n",
       "      <td>1</td>\n",
       "      <td>0.0</td>\n",
       "      <td>0</td>\n",
       "      <td>Education</td>\n",
       "      <td>0</td>\n",
       "      <td>7432</td>\n",
       "      <td>8.913550</td>\n",
       "      <td>25.0</td>\n",
       "    </tr>\n",
       "    <tr>\n",
       "      <th>1</th>\n",
       "      <td>1</td>\n",
       "      <td>0</td>\n",
       "      <td>2016-01-01</td>\n",
       "      <td>0.0</td>\n",
       "      <td>0</td>\n",
       "      <td>1</td>\n",
       "      <td>2016</td>\n",
       "      <td>53</td>\n",
       "      <td>4</td>\n",
       "      <td>1</td>\n",
       "      <td>0.0</td>\n",
       "      <td>1</td>\n",
       "      <td>Education</td>\n",
       "      <td>0</td>\n",
       "      <td>2720</td>\n",
       "      <td>7.908387</td>\n",
       "      <td>25.0</td>\n",
       "    </tr>\n",
       "    <tr>\n",
       "      <th>2</th>\n",
       "      <td>2</td>\n",
       "      <td>0</td>\n",
       "      <td>2016-01-01</td>\n",
       "      <td>0.0</td>\n",
       "      <td>0</td>\n",
       "      <td>1</td>\n",
       "      <td>2016</td>\n",
       "      <td>53</td>\n",
       "      <td>4</td>\n",
       "      <td>1</td>\n",
       "      <td>0.0</td>\n",
       "      <td>2</td>\n",
       "      <td>Education</td>\n",
       "      <td>0</td>\n",
       "      <td>5376</td>\n",
       "      <td>8.589700</td>\n",
       "      <td>25.0</td>\n",
       "    </tr>\n",
       "    <tr>\n",
       "      <th>3</th>\n",
       "      <td>3</td>\n",
       "      <td>0</td>\n",
       "      <td>2016-01-01</td>\n",
       "      <td>0.0</td>\n",
       "      <td>0</td>\n",
       "      <td>1</td>\n",
       "      <td>2016</td>\n",
       "      <td>53</td>\n",
       "      <td>4</td>\n",
       "      <td>1</td>\n",
       "      <td>0.0</td>\n",
       "      <td>3</td>\n",
       "      <td>Education</td>\n",
       "      <td>0</td>\n",
       "      <td>23685</td>\n",
       "      <td>10.072597</td>\n",
       "      <td>25.0</td>\n",
       "    </tr>\n",
       "    <tr>\n",
       "      <th>4</th>\n",
       "      <td>4</td>\n",
       "      <td>0</td>\n",
       "      <td>2016-01-01</td>\n",
       "      <td>0.0</td>\n",
       "      <td>0</td>\n",
       "      <td>1</td>\n",
       "      <td>2016</td>\n",
       "      <td>53</td>\n",
       "      <td>4</td>\n",
       "      <td>1</td>\n",
       "      <td>0.0</td>\n",
       "      <td>4</td>\n",
       "      <td>Education</td>\n",
       "      <td>0</td>\n",
       "      <td>116607</td>\n",
       "      <td>11.666565</td>\n",
       "      <td>25.0</td>\n",
       "    </tr>\n",
       "  </tbody>\n",
       "</table>\n",
       "</div>"
      ],
      "text/plain": [
       "   building_id  meter  timestamp  meter_reading  hour  day  year  weeknumber  \\\n",
       "0            0      0 2016-01-01            0.0     0    1  2016          53   \n",
       "1            1      0 2016-01-01            0.0     0    1  2016          53   \n",
       "2            2      0 2016-01-01            0.0     0    1  2016          53   \n",
       "3            3      0 2016-01-01            0.0     0    1  2016          53   \n",
       "4            4      0 2016-01-01            0.0     0    1  2016          53   \n",
       "\n",
       "   weekday  month  log_meter_reading  building_idr primary_use  site_id  \\\n",
       "0        4      1                0.0             0   Education        0   \n",
       "1        4      1                0.0             1   Education        0   \n",
       "2        4      1                0.0             2   Education        0   \n",
       "3        4      1                0.0             3   Education        0   \n",
       "4        4      1                0.0             4   Education        0   \n",
       "\n",
       "   square_feet  log_square_feet  air_temperature  \n",
       "0         7432         8.913550             25.0  \n",
       "1         2720         7.908387             25.0  \n",
       "2         5376         8.589700             25.0  \n",
       "3        23685        10.072597             25.0  \n",
       "4       116607        11.666565             25.0  "
      ]
     },
     "execution_count": 23,
     "metadata": {},
     "output_type": "execute_result"
    }
   ],
   "source": [
    "tbw = pd.merge(tbw, weather_train.loc[:,['site_id','timestamp','air_temperature']],\\\n",
    "               left_on=['site_id','timestamp'], right_on=['site_id','timestamp'])\n",
    "tbw.head()"
   ]
  },
  {
   "cell_type": "code",
   "execution_count": 56,
   "metadata": {},
   "outputs": [],
   "source": [
    "use='Office'\n",
    "meter = 3\n",
    "ts = dt.datetime(2016, 4,6,12,0,0)"
   ]
  },
  {
   "cell_type": "code",
   "execution_count": 57,
   "metadata": {},
   "outputs": [
    {
     "data": {
      "text/html": [
       "<div>\n",
       "<style scoped>\n",
       "    .dataframe tbody tr th:only-of-type {\n",
       "        vertical-align: middle;\n",
       "    }\n",
       "\n",
       "    .dataframe tbody tr th {\n",
       "        vertical-align: top;\n",
       "    }\n",
       "\n",
       "    .dataframe thead th {\n",
       "        text-align: right;\n",
       "    }\n",
       "</style>\n",
       "<table border=\"1\" class=\"dataframe\">\n",
       "  <thead>\n",
       "    <tr style=\"text-align: right;\">\n",
       "      <th></th>\n",
       "      <th>building_id</th>\n",
       "      <th>meter</th>\n",
       "      <th>timestamp</th>\n",
       "      <th>meter_reading</th>\n",
       "      <th>hour</th>\n",
       "      <th>day</th>\n",
       "      <th>year</th>\n",
       "      <th>weeknumber</th>\n",
       "      <th>weekday</th>\n",
       "      <th>month</th>\n",
       "      <th>log_meter_reading</th>\n",
       "      <th>building_idr</th>\n",
       "      <th>primary_use</th>\n",
       "      <th>site_id</th>\n",
       "      <th>square_feet</th>\n",
       "      <th>log_square_feet</th>\n",
       "      <th>air_temperature</th>\n",
       "    </tr>\n",
       "  </thead>\n",
       "  <tbody>\n",
       "    <tr>\n",
       "      <th>5056007</th>\n",
       "      <td>144</td>\n",
       "      <td>3</td>\n",
       "      <td>2016-04-06 12:00:00</td>\n",
       "      <td>10.000000</td>\n",
       "      <td>12</td>\n",
       "      <td>6</td>\n",
       "      <td>2016</td>\n",
       "      <td>14</td>\n",
       "      <td>2</td>\n",
       "      <td>4</td>\n",
       "      <td>2.397895</td>\n",
       "      <td>144</td>\n",
       "      <td>Office</td>\n",
       "      <td>1</td>\n",
       "      <td>57673</td>\n",
       "      <td>10.962544</td>\n",
       "      <td>11.703125</td>\n",
       "    </tr>\n",
       "    <tr>\n",
       "      <th>5056009</th>\n",
       "      <td>145</td>\n",
       "      <td>3</td>\n",
       "      <td>2016-04-06 12:00:00</td>\n",
       "      <td>128.630005</td>\n",
       "      <td>12</td>\n",
       "      <td>6</td>\n",
       "      <td>2016</td>\n",
       "      <td>14</td>\n",
       "      <td>2</td>\n",
       "      <td>4</td>\n",
       "      <td>4.864684</td>\n",
       "      <td>145</td>\n",
       "      <td>Office</td>\n",
       "      <td>1</td>\n",
       "      <td>14219</td>\n",
       "      <td>9.562334</td>\n",
       "      <td>11.703125</td>\n",
       "    </tr>\n",
       "    <tr>\n",
       "      <th>5056050</th>\n",
       "      <td>171</td>\n",
       "      <td>3</td>\n",
       "      <td>2016-04-06 12:00:00</td>\n",
       "      <td>0.000000</td>\n",
       "      <td>12</td>\n",
       "      <td>6</td>\n",
       "      <td>2016</td>\n",
       "      <td>14</td>\n",
       "      <td>2</td>\n",
       "      <td>4</td>\n",
       "      <td>0.000000</td>\n",
       "      <td>171</td>\n",
       "      <td>Office</td>\n",
       "      <td>2</td>\n",
       "      <td>131797</td>\n",
       "      <td>11.789018</td>\n",
       "      <td>21.703125</td>\n",
       "    </tr>\n",
       "    <tr>\n",
       "      <th>5056105</th>\n",
       "      <td>195</td>\n",
       "      <td>3</td>\n",
       "      <td>2016-04-06 12:00:00</td>\n",
       "      <td>0.000000</td>\n",
       "      <td>12</td>\n",
       "      <td>6</td>\n",
       "      <td>2016</td>\n",
       "      <td>14</td>\n",
       "      <td>2</td>\n",
       "      <td>4</td>\n",
       "      <td>0.000000</td>\n",
       "      <td>195</td>\n",
       "      <td>Office</td>\n",
       "      <td>2</td>\n",
       "      <td>9703</td>\n",
       "      <td>9.180190</td>\n",
       "      <td>21.703125</td>\n",
       "    </tr>\n",
       "    <tr>\n",
       "      <th>5056179</th>\n",
       "      <td>226</td>\n",
       "      <td>3</td>\n",
       "      <td>2016-04-06 12:00:00</td>\n",
       "      <td>14.653600</td>\n",
       "      <td>12</td>\n",
       "      <td>6</td>\n",
       "      <td>2016</td>\n",
       "      <td>14</td>\n",
       "      <td>2</td>\n",
       "      <td>4</td>\n",
       "      <td>2.750701</td>\n",
       "      <td>226</td>\n",
       "      <td>Office</td>\n",
       "      <td>2</td>\n",
       "      <td>74180</td>\n",
       "      <td>11.214250</td>\n",
       "      <td>21.703125</td>\n",
       "    </tr>\n",
       "  </tbody>\n",
       "</table>\n",
       "</div>"
      ],
      "text/plain": [
       "         building_id  meter           timestamp  meter_reading  hour  day  \\\n",
       "5056007          144      3 2016-04-06 12:00:00      10.000000    12    6   \n",
       "5056009          145      3 2016-04-06 12:00:00     128.630005    12    6   \n",
       "5056050          171      3 2016-04-06 12:00:00       0.000000    12    6   \n",
       "5056105          195      3 2016-04-06 12:00:00       0.000000    12    6   \n",
       "5056179          226      3 2016-04-06 12:00:00      14.653600    12    6   \n",
       "\n",
       "         year  weeknumber  weekday  month  log_meter_reading  building_idr  \\\n",
       "5056007  2016          14        2      4           2.397895           144   \n",
       "5056009  2016          14        2      4           4.864684           145   \n",
       "5056050  2016          14        2      4           0.000000           171   \n",
       "5056105  2016          14        2      4           0.000000           195   \n",
       "5056179  2016          14        2      4           2.750701           226   \n",
       "\n",
       "        primary_use  site_id  square_feet  log_square_feet  air_temperature  \n",
       "5056007      Office        1        57673        10.962544        11.703125  \n",
       "5056009      Office        1        14219         9.562334        11.703125  \n",
       "5056050      Office        2       131797        11.789018        21.703125  \n",
       "5056105      Office        2         9703         9.180190        21.703125  \n",
       "5056179      Office        2        74180        11.214250        21.703125  "
      ]
     },
     "execution_count": 57,
     "metadata": {},
     "output_type": "execute_result"
    }
   ],
   "source": [
    "sec = tbw[(tbw['primary_use']==use) & (tbw['meter']==meter) & (tbw['timestamp']==ts)]\n",
    "sec.head()"
   ]
  },
  {
   "cell_type": "code",
   "execution_count": 58,
   "metadata": {},
   "outputs": [
    {
     "data": {
      "text/plain": [
       "<matplotlib.axes._subplots.AxesSubplot at 0x1aa9cb884c8>"
      ]
     },
     "execution_count": 58,
     "metadata": {},
     "output_type": "execute_result"
    },
    {
     "data": {
      "image/png": "[encoded data removed]",
      "text/plain": [
       "<Figure size 432x288 with 1 Axes>"
      ]
     },
     "metadata": {
      "needs_background": "light"
     },
     "output_type": "display_data"
    }
   ],
   "source": [
    "sec['log_meter_reading'].plot(kind='hist')"
   ]
  },
  {
   "cell_type": "code",
   "execution_count": 59,
   "metadata": {},
   "outputs": [
    {
     "data": {
      "image/png": "[encoded data removed]",
      "text/plain": [
       "<Figure size 432x288 with 1 Axes>"
      ]
     },
     "metadata": {
      "needs_background": "light"
     },
     "output_type": "display_data"
    }
   ],
   "source": [
    "sec.plot(x='log_square_feet',y='log_meter_reading',marker='.',linewidth=0)\n",
    "plt.grid()"
   ]
  },
  {
   "cell_type": "code",
   "execution_count": 47,
   "metadata": {},
   "outputs": [
    {
     "data": {
      "text/plain": [
       "<matplotlib.axes._subplots.AxesSubplot at 0x1aa9c691288>"
      ]
     },
     "execution_count": 47,
     "metadata": {},
     "output_type": "execute_result"
    },
    {
     "data": {
      "image/png": "[encoded data removed]",
      "text/plain": [
       "<Figure size 432x288 with 1 Axes>"
      ]
     },
     "metadata": {
      "needs_background": "light"
     },
     "output_type": "display_data"
    }
   ],
   "source": [
    "sec['air_temperature'].plot(kind='hist')"
   ]
  },
  {
   "cell_type": "code",
   "execution_count": 60,
   "metadata": {},
   "outputs": [
    {
     "data": {
      "image/png": "[encoded data removed]",
      "text/plain": [
       "<Figure size 432x288 with 1 Axes>"
      ]
     },
     "metadata": {
      "needs_background": "light"
     },
     "output_type": "display_data"
    }
   ],
   "source": [
    "sec.plot(x='air_temperature',y='log_meter_reading',marker='.',linewidth=0)\n",
    "plt.grid()"
   ]
  },
  {
   "cell_type": "code",
   "execution_count": null,
   "metadata": {},
   "outputs": [],
   "source": []
  }
 ],
 "metadata": {
  "kernelspec": {
   "display_name": "Python 3",
   "language": "python",
   "name": "python3"
  },
  "language_info": {
   "codemirror_mode": {
    "name": "ipython",
    "version": 3
   },
   "file_extension": ".py",
   "mimetype": "text/x-python",
   "name": "python",
   "nbconvert_exporter": "python",
   "pygments_lexer": "ipython3",
   "version": "3.7.4"
  }
 },
 "nbformat": 4,
 "nbformat_minor": 2
}
