{
 "cells": [
  {
   "cell_type": "code",
   "execution_count": 1,
   "metadata": {},
   "outputs": [],
   "source": [
    "import pandas as pd\n",
    "import numpy as np\n",
    "import matplotlib.pyplot as plt\n",
    "from time import time\n",
    "import datetime as dt\n",
    "from sklearn.linear_model import LinearRegression"
   ]
  },
  {
   "cell_type": "markdown",
   "metadata": {},
   "source": [
    "# Aux"
   ]
  },
  {
   "cell_type": "code",
   "execution_count": 2,
   "metadata": {},
   "outputs": [],
   "source": [
    "## Function to reduce the DF size\n",
    "def reduce_mem_usage(df, verbose=True):\n",
    "    numerics = ['int16', 'int32', 'int64', 'float16', 'float32', 'float64']\n",
    "    start_mem = df.memory_usage().sum() / 1024**2    \n",
    "    for col in df.columns:\n",
    "        col_type = df[col].dtypes\n",
    "        if col_type in numerics:\n",
    "            c_min = df[col].min()\n",
    "            c_max = df[col].max()\n",
    "            if str(col_type)[:3] == 'int':\n",
    "                if c_min > np.iinfo(np.int8).min and c_max < np.iinfo(np.int8).max:\n",
    "                    df[col] = df[col].astype(np.int8)\n",
    "                elif c_min > np.iinfo(np.int16).min and c_max < np.iinfo(np.int16).max:\n",
    "                    df[col] = df[col].astype(np.int16)\n",
    "                elif c_min > np.iinfo(np.int32).min and c_max < np.iinfo(np.int32).max:\n",
    "                    df[col] = df[col].astype(np.int32)\n",
    "                elif c_min > np.iinfo(np.int64).min and c_max < np.iinfo(np.int64).max:\n",
    "                    df[col] = df[col].astype(np.int64)  \n",
    "            else:\n",
    "                if c_min > np.finfo(np.float16).min and c_max < np.finfo(np.float16).max:\n",
    "                    df[col] = df[col].astype(np.float16)\n",
    "                elif c_min > np.finfo(np.float32).min and c_max < np.finfo(np.float32).max:\n",
    "                    df[col] = df[col].astype(np.float32)\n",
    "                else:\n",
    "                    df[col] = df[col].astype(np.float64)    \n",
    "    end_mem = df.memory_usage().sum() / 1024**2\n",
    "    if verbose: print('Mem. usage decreased to {:5.2f} Mb ({:.1f}% reduction)'.format(end_mem, 100 * (start_mem - end_mem) / start_mem))\n",
    "    return df"
   ]
  },
  {
   "cell_type": "code",
   "execution_count": 3,
   "metadata": {},
   "outputs": [],
   "source": [
    "def mem_usage(df):\n",
    "    return df.memory_usage().sum()/1024**2"
   ]
  },
  {
   "cell_type": "code",
   "execution_count": 4,
   "metadata": {},
   "outputs": [],
   "source": [
    "def read_file(filename):\n",
    "    t0 = time()\n",
    "    df = pd.read_csv(filename)\n",
    "    load_time = time()-t0\n",
    "    print(f'{filename} read in {load_time:.1f} s')\n",
    "    # reduce mem usage\n",
    "    df = reduce_mem_usage(df)\n",
    "    return df"
   ]
  },
  {
   "cell_type": "code",
   "execution_count": 212,
   "metadata": {},
   "outputs": [],
   "source": [
    "def split_timestamp(df):\n",
    "    # dataframe must have a column called timestamp\n",
    "    df[\"hour\"] = df[\"timestamp\"].dt.hour.astype('int8')\n",
    "    df[\"day\"] = df[\"timestamp\"].dt.day.astype('int8')\n",
    "    df[\"year\"] = df[\"timestamp\"].dt.year.astype('int32')\n",
    "    df[\"weeknumber\"] = df[\"timestamp\"].dt.week.astype('int8')\n",
    "    df[\"weekday\"] = df[\"timestamp\"].dt.weekday.astype('int8')\n",
    "    df[\"month\"] = df[\"timestamp\"].dt.month.astype('int8')\n",
    "    return df"
   ]
  },
  {
   "cell_type": "markdown",
   "metadata": {},
   "source": [
    "# Read data files"
   ]
  },
  {
   "cell_type": "code",
   "execution_count": 5,
   "metadata": {},
   "outputs": [
    {
     "name": "stdout",
     "output_type": "stream",
     "text": [
      "train.csv read in 10.9 s\n",
      "Mem. usage decreased to 289.19 Mb (53.1% reduction)\n"
     ]
    }
   ],
   "source": [
    "train_df = read_file('train.csv')\n",
    "# convert into timestamp object\n",
    "train_df['timestamp'] = pd.to_datetime(train_df['timestamp'],format='%Y-%m-%d %H:%M:%S')\n",
    "# split timestamp\n",
    "train_df = split_timestamp(train_df)"
   ]
  },
  {
   "cell_type": "code",
   "execution_count": 6,
   "metadata": {},
   "outputs": [],
   "source": [
    "train_df['log_meter_reading'] = np.log(1+train_df['meter_reading'])\n"
   ]
  },
  {
   "cell_type": "code",
   "execution_count": 7,
   "metadata": {},
   "outputs": [],
   "source": [
    "# split date values\n",
    "train_df[\"hour\"] = train_df[\"timestamp\"].dt.hour.astype('int8')\n",
    "train_df[\"day\"] = train_df[\"timestamp\"].dt.day.astype('int8')\n",
    "train_df[\"year\"] = train_df[\"timestamp\"].dt.year.astype('int32')\n",
    "train_df[\"weeknumber\"] = train_df[\"timestamp\"].dt.week.astype('int8')\n",
    "train_df[\"weekday\"] = train_df[\"timestamp\"].dt.weekday.astype('int8')\n",
    "train_df[\"month\"] = train_df[\"timestamp\"].dt.month.astype('int8')"
   ]
  },
  {
   "cell_type": "code",
   "execution_count": 8,
   "metadata": {},
   "outputs": [
    {
     "data": {
      "text/plain": [
       "539.8282318115234"
      ]
     },
     "execution_count": 8,
     "metadata": {},
     "output_type": "execute_result"
    }
   ],
   "source": [
    "mem_usage(train_df)"
   ]
  },
  {
   "cell_type": "code",
   "execution_count": 9,
   "metadata": {},
   "outputs": [
    {
     "data": {
      "text/html": [
       "<div>\n",
       "<style scoped>\n",
       "    .dataframe tbody tr th:only-of-type {\n",
       "        vertical-align: middle;\n",
       "    }\n",
       "\n",
       "    .dataframe tbody tr th {\n",
       "        vertical-align: top;\n",
       "    }\n",
       "\n",
       "    .dataframe thead th {\n",
       "        text-align: right;\n",
       "    }\n",
       "</style>\n",
       "<table border=\"1\" class=\"dataframe\">\n",
       "  <thead>\n",
       "    <tr style=\"text-align: right;\">\n",
       "      <th></th>\n",
       "      <th>building_id</th>\n",
       "      <th>meter</th>\n",
       "      <th>timestamp</th>\n",
       "      <th>meter_reading</th>\n",
       "      <th>log_meter_reading</th>\n",
       "      <th>hour</th>\n",
       "      <th>day</th>\n",
       "      <th>year</th>\n",
       "      <th>weeknumber</th>\n",
       "      <th>weekday</th>\n",
       "      <th>month</th>\n",
       "    </tr>\n",
       "  </thead>\n",
       "  <tbody>\n",
       "    <tr>\n",
       "      <th>0</th>\n",
       "      <td>0</td>\n",
       "      <td>0</td>\n",
       "      <td>2016-01-01</td>\n",
       "      <td>0.0</td>\n",
       "      <td>0.0</td>\n",
       "      <td>0</td>\n",
       "      <td>1</td>\n",
       "      <td>2016</td>\n",
       "      <td>53</td>\n",
       "      <td>4</td>\n",
       "      <td>1</td>\n",
       "    </tr>\n",
       "    <tr>\n",
       "      <th>1</th>\n",
       "      <td>1</td>\n",
       "      <td>0</td>\n",
       "      <td>2016-01-01</td>\n",
       "      <td>0.0</td>\n",
       "      <td>0.0</td>\n",
       "      <td>0</td>\n",
       "      <td>1</td>\n",
       "      <td>2016</td>\n",
       "      <td>53</td>\n",
       "      <td>4</td>\n",
       "      <td>1</td>\n",
       "    </tr>\n",
       "    <tr>\n",
       "      <th>2</th>\n",
       "      <td>2</td>\n",
       "      <td>0</td>\n",
       "      <td>2016-01-01</td>\n",
       "      <td>0.0</td>\n",
       "      <td>0.0</td>\n",
       "      <td>0</td>\n",
       "      <td>1</td>\n",
       "      <td>2016</td>\n",
       "      <td>53</td>\n",
       "      <td>4</td>\n",
       "      <td>1</td>\n",
       "    </tr>\n",
       "    <tr>\n",
       "      <th>3</th>\n",
       "      <td>3</td>\n",
       "      <td>0</td>\n",
       "      <td>2016-01-01</td>\n",
       "      <td>0.0</td>\n",
       "      <td>0.0</td>\n",
       "      <td>0</td>\n",
       "      <td>1</td>\n",
       "      <td>2016</td>\n",
       "      <td>53</td>\n",
       "      <td>4</td>\n",
       "      <td>1</td>\n",
       "    </tr>\n",
       "    <tr>\n",
       "      <th>4</th>\n",
       "      <td>4</td>\n",
       "      <td>0</td>\n",
       "      <td>2016-01-01</td>\n",
       "      <td>0.0</td>\n",
       "      <td>0.0</td>\n",
       "      <td>0</td>\n",
       "      <td>1</td>\n",
       "      <td>2016</td>\n",
       "      <td>53</td>\n",
       "      <td>4</td>\n",
       "      <td>1</td>\n",
       "    </tr>\n",
       "  </tbody>\n",
       "</table>\n",
       "</div>"
      ],
      "text/plain": [
       "   building_id  meter  timestamp  meter_reading  log_meter_reading  hour  day  \\\n",
       "0            0      0 2016-01-01            0.0                0.0     0    1   \n",
       "1            1      0 2016-01-01            0.0                0.0     0    1   \n",
       "2            2      0 2016-01-01            0.0                0.0     0    1   \n",
       "3            3      0 2016-01-01            0.0                0.0     0    1   \n",
       "4            4      0 2016-01-01            0.0                0.0     0    1   \n",
       "\n",
       "   year  weeknumber  weekday  month  \n",
       "0  2016          53        4      1  \n",
       "1  2016          53        4      1  \n",
       "2  2016          53        4      1  \n",
       "3  2016          53        4      1  \n",
       "4  2016          53        4      1  "
      ]
     },
     "execution_count": 9,
     "metadata": {},
     "output_type": "execute_result"
    }
   ],
   "source": [
    "train_df.head()"
   ]
  },
  {
   "cell_type": "code",
   "execution_count": 10,
   "metadata": {},
   "outputs": [
    {
     "data": {
      "text/html": [
       "<div>\n",
       "<style scoped>\n",
       "    .dataframe tbody tr th:only-of-type {\n",
       "        vertical-align: middle;\n",
       "    }\n",
       "\n",
       "    .dataframe tbody tr th {\n",
       "        vertical-align: top;\n",
       "    }\n",
       "\n",
       "    .dataframe thead th {\n",
       "        text-align: right;\n",
       "    }\n",
       "</style>\n",
       "<table border=\"1\" class=\"dataframe\">\n",
       "  <thead>\n",
       "    <tr style=\"text-align: right;\">\n",
       "      <th></th>\n",
       "      <th>building_id</th>\n",
       "      <th>meter</th>\n",
       "      <th>timestamp</th>\n",
       "      <th>meter_reading</th>\n",
       "      <th>log_meter_reading</th>\n",
       "      <th>hour</th>\n",
       "      <th>day</th>\n",
       "      <th>year</th>\n",
       "      <th>weeknumber</th>\n",
       "      <th>weekday</th>\n",
       "      <th>month</th>\n",
       "    </tr>\n",
       "  </thead>\n",
       "  <tbody>\n",
       "    <tr>\n",
       "      <th>20216095</th>\n",
       "      <td>1444</td>\n",
       "      <td>0</td>\n",
       "      <td>2016-12-31 23:00:00</td>\n",
       "      <td>8.750000</td>\n",
       "      <td>2.277267</td>\n",
       "      <td>23</td>\n",
       "      <td>31</td>\n",
       "      <td>2016</td>\n",
       "      <td>52</td>\n",
       "      <td>5</td>\n",
       "      <td>12</td>\n",
       "    </tr>\n",
       "    <tr>\n",
       "      <th>20216096</th>\n",
       "      <td>1445</td>\n",
       "      <td>0</td>\n",
       "      <td>2016-12-31 23:00:00</td>\n",
       "      <td>4.825000</td>\n",
       "      <td>1.762159</td>\n",
       "      <td>23</td>\n",
       "      <td>31</td>\n",
       "      <td>2016</td>\n",
       "      <td>52</td>\n",
       "      <td>5</td>\n",
       "      <td>12</td>\n",
       "    </tr>\n",
       "    <tr>\n",
       "      <th>20216097</th>\n",
       "      <td>1446</td>\n",
       "      <td>0</td>\n",
       "      <td>2016-12-31 23:00:00</td>\n",
       "      <td>0.000000</td>\n",
       "      <td>0.000000</td>\n",
       "      <td>23</td>\n",
       "      <td>31</td>\n",
       "      <td>2016</td>\n",
       "      <td>52</td>\n",
       "      <td>5</td>\n",
       "      <td>12</td>\n",
       "    </tr>\n",
       "    <tr>\n",
       "      <th>20216098</th>\n",
       "      <td>1447</td>\n",
       "      <td>0</td>\n",
       "      <td>2016-12-31 23:00:00</td>\n",
       "      <td>159.574997</td>\n",
       "      <td>5.078761</td>\n",
       "      <td>23</td>\n",
       "      <td>31</td>\n",
       "      <td>2016</td>\n",
       "      <td>52</td>\n",
       "      <td>5</td>\n",
       "      <td>12</td>\n",
       "    </tr>\n",
       "    <tr>\n",
       "      <th>20216099</th>\n",
       "      <td>1448</td>\n",
       "      <td>0</td>\n",
       "      <td>2016-12-31 23:00:00</td>\n",
       "      <td>2.850000</td>\n",
       "      <td>1.348073</td>\n",
       "      <td>23</td>\n",
       "      <td>31</td>\n",
       "      <td>2016</td>\n",
       "      <td>52</td>\n",
       "      <td>5</td>\n",
       "      <td>12</td>\n",
       "    </tr>\n",
       "  </tbody>\n",
       "</table>\n",
       "</div>"
      ],
      "text/plain": [
       "          building_id  meter           timestamp  meter_reading  \\\n",
       "20216095         1444      0 2016-12-31 23:00:00       8.750000   \n",
       "20216096         1445      0 2016-12-31 23:00:00       4.825000   \n",
       "20216097         1446      0 2016-12-31 23:00:00       0.000000   \n",
       "20216098         1447      0 2016-12-31 23:00:00     159.574997   \n",
       "20216099         1448      0 2016-12-31 23:00:00       2.850000   \n",
       "\n",
       "          log_meter_reading  hour  day  year  weeknumber  weekday  month  \n",
       "20216095           2.277267    23   31  2016          52        5     12  \n",
       "20216096           1.762159    23   31  2016          52        5     12  \n",
       "20216097           0.000000    23   31  2016          52        5     12  \n",
       "20216098           5.078761    23   31  2016          52        5     12  \n",
       "20216099           1.348073    23   31  2016          52        5     12  "
      ]
     },
     "execution_count": 10,
     "metadata": {},
     "output_type": "execute_result"
    }
   ],
   "source": [
    "train_df.tail()"
   ]
  },
  {
   "cell_type": "code",
   "execution_count": 51,
   "metadata": {},
   "outputs": [],
   "source": [
    "xx = train_df.groupby('building_id')['meter'].nunique()"
   ]
  },
  {
   "cell_type": "code",
   "execution_count": 52,
   "metadata": {},
   "outputs": [
    {
     "data": {
      "text/plain": [
       "13"
      ]
     },
     "execution_count": 52,
     "metadata": {},
     "output_type": "execute_result"
    }
   ],
   "source": [
    "sum(xx==4)"
   ]
  },
  {
   "cell_type": "code",
   "execution_count": 17,
   "metadata": {},
   "outputs": [
    {
     "data": {
      "image/png": "[encoded data removed]",
      "text/plain": [
       "<Figure size 432x288 with 1 Axes>"
      ]
     },
     "metadata": {
      "needs_background": "light"
     },
     "output_type": "display_data"
    }
   ],
   "source": [
    "train_df.groupby('building_id')['meter'].nunique().hist(bins= np.arange(0.5,5.5,1));\n",
    "plt.xticks(np.arange(1,5));\n",
    "plt.ylabel('# of buildings')\n",
    "plt.xlabel('# of different meter values per building');"
   ]
  },
  {
   "cell_type": "code",
   "execution_count": 47,
   "metadata": {},
   "outputs": [
    {
     "data": {
      "text/plain": [
       "array([   0. , 1000. , 2000. , 3000. , 4000. , 5000. , 6000. , 7000. ,\n",
       "       8000. , 8783.5])"
      ]
     },
     "execution_count": 47,
     "metadata": {},
     "output_type": "execute_result"
    }
   ],
   "source": [
    "max_data_points = 366*24\n",
    "bins = np.concatenate( ( np.arange(0,9000,1000), np.array([max_data_points-.5]) ) )\n",
    "max_bin = np.array([max_data_points-.5, max_data_points+50])\n",
    "bins"
   ]
  },
  {
   "cell_type": "code",
   "execution_count": 33,
   "metadata": {},
   "outputs": [
    {
     "data": {
      "text/html": [
       "<div>\n",
       "<style scoped>\n",
       "    .dataframe tbody tr th:only-of-type {\n",
       "        vertical-align: middle;\n",
       "    }\n",
       "\n",
       "    .dataframe tbody tr th {\n",
       "        vertical-align: top;\n",
       "    }\n",
       "\n",
       "    .dataframe thead th {\n",
       "        text-align: right;\n",
       "    }\n",
       "</style>\n",
       "<table border=\"1\" class=\"dataframe\">\n",
       "  <thead>\n",
       "    <tr style=\"text-align: right;\">\n",
       "      <th></th>\n",
       "      <th></th>\n",
       "      <th>meter_reading</th>\n",
       "    </tr>\n",
       "    <tr>\n",
       "      <th>building_id</th>\n",
       "      <th>meter</th>\n",
       "      <th></th>\n",
       "    </tr>\n",
       "  </thead>\n",
       "  <tbody>\n",
       "    <tr>\n",
       "      <th>0</th>\n",
       "      <th>0</th>\n",
       "      <td>8784</td>\n",
       "    </tr>\n",
       "    <tr>\n",
       "      <th>1</th>\n",
       "      <th>0</th>\n",
       "      <td>8784</td>\n",
       "    </tr>\n",
       "    <tr>\n",
       "      <th>2</th>\n",
       "      <th>0</th>\n",
       "      <td>8784</td>\n",
       "    </tr>\n",
       "    <tr>\n",
       "      <th>3</th>\n",
       "      <th>0</th>\n",
       "      <td>8784</td>\n",
       "    </tr>\n",
       "    <tr>\n",
       "      <th>4</th>\n",
       "      <th>0</th>\n",
       "      <td>8784</td>\n",
       "    </tr>\n",
       "  </tbody>\n",
       "</table>\n",
       "</div>"
      ],
      "text/plain": [
       "                   meter_reading\n",
       "building_id meter               \n",
       "0           0               8784\n",
       "1           0               8784\n",
       "2           0               8784\n",
       "3           0               8784\n",
       "4           0               8784"
      ]
     },
     "execution_count": 33,
     "metadata": {},
     "output_type": "execute_result"
    }
   ],
   "source": [
    "building_meter_datapoints = train_df.groupby(['building_id','meter'])['meter_reading'].count().to_frame()\n",
    "building_meter_datapoints.head()"
   ]
  },
  {
   "cell_type": "code",
   "execution_count": 46,
   "metadata": {},
   "outputs": [
    {
     "data": {
      "text/plain": [
       "(2380, 1)"
      ]
     },
     "execution_count": 46,
     "metadata": {},
     "output_type": "execute_result"
    }
   ],
   "source": [
    "building_meter_datapoints.shape"
   ]
  },
  {
   "cell_type": "code",
   "execution_count": 27,
   "metadata": {},
   "outputs": [
    {
     "data": {
      "text/plain": [
       "720"
      ]
     },
     "execution_count": 27,
     "metadata": {},
     "output_type": "execute_result"
    }
   ],
   "source": [
    "sum(building_meter_datapoints==max_data_points)"
   ]
  },
  {
   "cell_type": "code",
   "execution_count": 70,
   "metadata": {},
   "outputs": [
    {
     "data": {
      "image/png": "[encoded data removed]",
      "text/plain": [
       "<Figure size 576x432 with 1 Axes>"
      ]
     },
     "metadata": {
      "needs_background": "light"
     },
     "output_type": "display_data"
    }
   ],
   "source": [
    "fig, ax = plt.subplots(figsize=(8,6))\n",
    "ax.hist(building_meter_datapoints.meter_reading, bins=bins,histtype='bar')\n",
    "ax.hist(building_meter_datapoints.meter_reading, bins=max_bin)\n",
    "plt.grid();\n",
    "#plt.yscale('log');\n",
    "plt.xlabel('# of data points');\n",
    "plt.ylabel('building-meter occurrences');"
   ]
  },
  {
   "cell_type": "code",
   "execution_count": 55,
   "metadata": {},
   "outputs": [
    {
     "data": {
      "text/html": [
       "<div>\n",
       "<style scoped>\n",
       "    .dataframe tbody tr th:only-of-type {\n",
       "        vertical-align: middle;\n",
       "    }\n",
       "\n",
       "    .dataframe tbody tr th {\n",
       "        vertical-align: top;\n",
       "    }\n",
       "\n",
       "    .dataframe thead th {\n",
       "        text-align: right;\n",
       "    }\n",
       "</style>\n",
       "<table border=\"1\" class=\"dataframe\">\n",
       "  <thead>\n",
       "    <tr style=\"text-align: right;\">\n",
       "      <th></th>\n",
       "      <th></th>\n",
       "      <th>meter_reading</th>\n",
       "    </tr>\n",
       "    <tr>\n",
       "      <th>building_id</th>\n",
       "      <th>meter</th>\n",
       "      <th></th>\n",
       "    </tr>\n",
       "  </thead>\n",
       "  <tbody>\n",
       "    <tr>\n",
       "      <th>403</th>\n",
       "      <th>0</th>\n",
       "      <td>479</td>\n",
       "    </tr>\n",
       "  </tbody>\n",
       "</table>\n",
       "</div>"
      ],
      "text/plain": [
       "                   meter_reading\n",
       "building_id meter               \n",
       "403         0                479"
      ]
     },
     "execution_count": 55,
     "metadata": {},
     "output_type": "execute_result"
    }
   ],
   "source": [
    "building_meter_datapoints.loc[building_meter_datapoints.idxmin()]"
   ]
  },
  {
   "cell_type": "code",
   "execution_count": 67,
   "metadata": {},
   "outputs": [
    {
     "data": {
      "text/plain": [
       "0           False\n",
       "1           False\n",
       "2           False\n",
       "3           False\n",
       "4           False\n",
       "            ...  \n",
       "20216095    False\n",
       "20216096    False\n",
       "20216097    False\n",
       "20216098    False\n",
       "20216099    False\n",
       "Length: 20216100, dtype: bool"
      ]
     },
     "execution_count": 67,
     "metadata": {},
     "output_type": "execute_result"
    }
   ],
   "source": [
    "(train_df['building_id']==403) & (train_df['meter']==0)"
   ]
  },
  {
   "cell_type": "code",
   "execution_count": 68,
   "metadata": {},
   "outputs": [],
   "source": [
    "b_403_0 = train_df[(train_df['building_id']==403) & (train_df['meter']==0)]\n"
   ]
  },
  {
   "cell_type": "code",
   "execution_count": 69,
   "metadata": {},
   "outputs": [
    {
     "data": {
      "text/plain": [
       "<matplotlib.axes._subplots.AxesSubplot at 0x1d8b9890e48>"
      ]
     },
     "execution_count": 69,
     "metadata": {},
     "output_type": "execute_result"
    },
    {
     "data": {
      "image/png": "[encoded data removed]",
      "text/plain": [
       "<Figure size 432x288 with 1 Axes>"
      ]
     },
     "metadata": {
      "needs_background": "light"
     },
     "output_type": "display_data"
    }
   ],
   "source": [
    "b_403_0.plot(x='timestamp',y='meter_reading')"
   ]
  },
  {
   "cell_type": "code",
   "execution_count": 71,
   "metadata": {},
   "outputs": [
    {
     "data": {
      "text/html": [
       "<div>\n",
       "<style scoped>\n",
       "    .dataframe tbody tr th:only-of-type {\n",
       "        vertical-align: middle;\n",
       "    }\n",
       "\n",
       "    .dataframe tbody tr th {\n",
       "        vertical-align: top;\n",
       "    }\n",
       "\n",
       "    .dataframe thead th {\n",
       "        text-align: right;\n",
       "    }\n",
       "</style>\n",
       "<table border=\"1\" class=\"dataframe\">\n",
       "  <thead>\n",
       "    <tr style=\"text-align: right;\">\n",
       "      <th></th>\n",
       "      <th>building_id</th>\n",
       "      <th>meter</th>\n",
       "      <th>timestamp</th>\n",
       "      <th>meter_reading</th>\n",
       "      <th>log_meter_reading</th>\n",
       "      <th>hour</th>\n",
       "      <th>day</th>\n",
       "      <th>year</th>\n",
       "      <th>weeknumber</th>\n",
       "      <th>weekday</th>\n",
       "      <th>month</th>\n",
       "    </tr>\n",
       "  </thead>\n",
       "  <tbody>\n",
       "    <tr>\n",
       "      <th>19085659</th>\n",
       "      <td>403</td>\n",
       "      <td>0</td>\n",
       "      <td>2016-12-12 01:00:00</td>\n",
       "      <td>44.349998</td>\n",
       "      <td>3.814410</td>\n",
       "      <td>1</td>\n",
       "      <td>12</td>\n",
       "      <td>2016</td>\n",
       "      <td>50</td>\n",
       "      <td>0</td>\n",
       "      <td>12</td>\n",
       "    </tr>\n",
       "    <tr>\n",
       "      <th>19088023</th>\n",
       "      <td>403</td>\n",
       "      <td>0</td>\n",
       "      <td>2016-12-12 02:00:00</td>\n",
       "      <td>45.450001</td>\n",
       "      <td>3.838377</td>\n",
       "      <td>2</td>\n",
       "      <td>12</td>\n",
       "      <td>2016</td>\n",
       "      <td>50</td>\n",
       "      <td>0</td>\n",
       "      <td>12</td>\n",
       "    </tr>\n",
       "    <tr>\n",
       "      <th>19090387</th>\n",
       "      <td>403</td>\n",
       "      <td>0</td>\n",
       "      <td>2016-12-12 03:00:00</td>\n",
       "      <td>44.820000</td>\n",
       "      <td>3.824721</td>\n",
       "      <td>3</td>\n",
       "      <td>12</td>\n",
       "      <td>2016</td>\n",
       "      <td>50</td>\n",
       "      <td>0</td>\n",
       "      <td>12</td>\n",
       "    </tr>\n",
       "    <tr>\n",
       "      <th>19092751</th>\n",
       "      <td>403</td>\n",
       "      <td>0</td>\n",
       "      <td>2016-12-12 04:00:00</td>\n",
       "      <td>45.110001</td>\n",
       "      <td>3.831030</td>\n",
       "      <td>4</td>\n",
       "      <td>12</td>\n",
       "      <td>2016</td>\n",
       "      <td>50</td>\n",
       "      <td>0</td>\n",
       "      <td>12</td>\n",
       "    </tr>\n",
       "    <tr>\n",
       "      <th>19095115</th>\n",
       "      <td>403</td>\n",
       "      <td>0</td>\n",
       "      <td>2016-12-12 05:00:00</td>\n",
       "      <td>44.730000</td>\n",
       "      <td>3.822755</td>\n",
       "      <td>5</td>\n",
       "      <td>12</td>\n",
       "      <td>2016</td>\n",
       "      <td>50</td>\n",
       "      <td>0</td>\n",
       "      <td>12</td>\n",
       "    </tr>\n",
       "  </tbody>\n",
       "</table>\n",
       "</div>"
      ],
      "text/plain": [
       "          building_id  meter           timestamp  meter_reading  \\\n",
       "19085659          403      0 2016-12-12 01:00:00      44.349998   \n",
       "19088023          403      0 2016-12-12 02:00:00      45.450001   \n",
       "19090387          403      0 2016-12-12 03:00:00      44.820000   \n",
       "19092751          403      0 2016-12-12 04:00:00      45.110001   \n",
       "19095115          403      0 2016-12-12 05:00:00      44.730000   \n",
       "\n",
       "          log_meter_reading  hour  day  year  weeknumber  weekday  month  \n",
       "19085659           3.814410     1   12  2016          50        0     12  \n",
       "19088023           3.838377     2   12  2016          50        0     12  \n",
       "19090387           3.824721     3   12  2016          50        0     12  \n",
       "19092751           3.831030     4   12  2016          50        0     12  \n",
       "19095115           3.822755     5   12  2016          50        0     12  "
      ]
     },
     "execution_count": 71,
     "metadata": {},
     "output_type": "execute_result"
    }
   ],
   "source": [
    "b_403_0.head()"
   ]
  },
  {
   "cell_type": "code",
   "execution_count": null,
   "metadata": {},
   "outputs": [],
   "source": []
  },
  {
   "cell_type": "code",
   "execution_count": 11,
   "metadata": {},
   "outputs": [
    {
     "name": "stdout",
     "output_type": "stream",
     "text": [
      "building_metadata.csv read in 0.2 s\n",
      "Mem. usage decreased to  0.03 Mb (60.3% reduction)\n"
     ]
    }
   ],
   "source": [
    "# building table\n",
    "building_df = read_file('building_metadata.csv')"
   ]
  },
  {
   "cell_type": "code",
   "execution_count": 12,
   "metadata": {},
   "outputs": [],
   "source": [
    "building_df['log_square_feet'] = np.log(building_df['square_feet'])"
   ]
  },
  {
   "cell_type": "code",
   "execution_count": 75,
   "metadata": {},
   "outputs": [
    {
     "data": {
      "text/html": [
       "<div>\n",
       "<style scoped>\n",
       "    .dataframe tbody tr th:only-of-type {\n",
       "        vertical-align: middle;\n",
       "    }\n",
       "\n",
       "    .dataframe tbody tr th {\n",
       "        vertical-align: top;\n",
       "    }\n",
       "\n",
       "    .dataframe thead th {\n",
       "        text-align: right;\n",
       "    }\n",
       "</style>\n",
       "<table border=\"1\" class=\"dataframe\">\n",
       "  <thead>\n",
       "    <tr style=\"text-align: right;\">\n",
       "      <th></th>\n",
       "      <th>site_id</th>\n",
       "      <th>building_id</th>\n",
       "      <th>primary_use</th>\n",
       "      <th>square_feet</th>\n",
       "      <th>year_built</th>\n",
       "      <th>floor_count</th>\n",
       "      <th>log_square_feet</th>\n",
       "    </tr>\n",
       "  </thead>\n",
       "  <tbody>\n",
       "    <tr>\n",
       "      <th>0</th>\n",
       "      <td>0</td>\n",
       "      <td>0</td>\n",
       "      <td>Education</td>\n",
       "      <td>7432</td>\n",
       "      <td>2008.0</td>\n",
       "      <td>NaN</td>\n",
       "      <td>8.913550</td>\n",
       "    </tr>\n",
       "    <tr>\n",
       "      <th>1</th>\n",
       "      <td>0</td>\n",
       "      <td>1</td>\n",
       "      <td>Education</td>\n",
       "      <td>2720</td>\n",
       "      <td>2004.0</td>\n",
       "      <td>NaN</td>\n",
       "      <td>7.908387</td>\n",
       "    </tr>\n",
       "    <tr>\n",
       "      <th>2</th>\n",
       "      <td>0</td>\n",
       "      <td>2</td>\n",
       "      <td>Education</td>\n",
       "      <td>5376</td>\n",
       "      <td>1991.0</td>\n",
       "      <td>NaN</td>\n",
       "      <td>8.589700</td>\n",
       "    </tr>\n",
       "    <tr>\n",
       "      <th>3</th>\n",
       "      <td>0</td>\n",
       "      <td>3</td>\n",
       "      <td>Education</td>\n",
       "      <td>23685</td>\n",
       "      <td>2002.0</td>\n",
       "      <td>NaN</td>\n",
       "      <td>10.072597</td>\n",
       "    </tr>\n",
       "    <tr>\n",
       "      <th>4</th>\n",
       "      <td>0</td>\n",
       "      <td>4</td>\n",
       "      <td>Education</td>\n",
       "      <td>116607</td>\n",
       "      <td>1975.0</td>\n",
       "      <td>NaN</td>\n",
       "      <td>11.666565</td>\n",
       "    </tr>\n",
       "  </tbody>\n",
       "</table>\n",
       "</div>"
      ],
      "text/plain": [
       "   site_id  building_id primary_use  square_feet  year_built  floor_count  \\\n",
       "0        0            0   Education         7432      2008.0          NaN   \n",
       "1        0            1   Education         2720      2004.0          NaN   \n",
       "2        0            2   Education         5376      1991.0          NaN   \n",
       "3        0            3   Education        23685      2002.0          NaN   \n",
       "4        0            4   Education       116607      1975.0          NaN   \n",
       "\n",
       "   log_square_feet  \n",
       "0         8.913550  \n",
       "1         7.908387  \n",
       "2         8.589700  \n",
       "3        10.072597  \n",
       "4        11.666565  "
      ]
     },
     "execution_count": 75,
     "metadata": {},
     "output_type": "execute_result"
    }
   ],
   "source": [
    "building_df.head()"
   ]
  },
  {
   "cell_type": "code",
   "execution_count": 13,
   "metadata": {},
   "outputs": [
    {
     "name": "stdout",
     "output_type": "stream",
     "text": [
      "weather_train.csv read in 0.3 s\n",
      "Mem. usage decreased to  3.07 Mb (68.1% reduction)\n"
     ]
    }
   ],
   "source": [
    "# weather(train) table\n",
    "weather_train_table = read_file('weather_train.csv')\n",
    "weather_train_table['timestamp'] = pd.to_datetime(weather_train_table['timestamp'],format='%Y-%m-%d %H:%M:%S')"
   ]
  },
  {
   "cell_type": "code",
   "execution_count": 12,
   "metadata": {},
   "outputs": [
    {
     "data": {
      "text/html": [
       "<div>\n",
       "<style scoped>\n",
       "    .dataframe tbody tr th:only-of-type {\n",
       "        vertical-align: middle;\n",
       "    }\n",
       "\n",
       "    .dataframe tbody tr th {\n",
       "        vertical-align: top;\n",
       "    }\n",
       "\n",
       "    .dataframe thead th {\n",
       "        text-align: right;\n",
       "    }\n",
       "</style>\n",
       "<table border=\"1\" class=\"dataframe\">\n",
       "  <thead>\n",
       "    <tr style=\"text-align: right;\">\n",
       "      <th></th>\n",
       "      <th>site_id</th>\n",
       "      <th>timestamp</th>\n",
       "      <th>air_temperature</th>\n",
       "      <th>cloud_coverage</th>\n",
       "      <th>dew_temperature</th>\n",
       "      <th>precip_depth_1_hr</th>\n",
       "      <th>sea_level_pressure</th>\n",
       "      <th>wind_direction</th>\n",
       "      <th>wind_speed</th>\n",
       "    </tr>\n",
       "  </thead>\n",
       "  <tbody>\n",
       "    <tr>\n",
       "      <th>0</th>\n",
       "      <td>0</td>\n",
       "      <td>2016-01-01 00:00:00</td>\n",
       "      <td>25.000000</td>\n",
       "      <td>6.0</td>\n",
       "      <td>20.00000</td>\n",
       "      <td>NaN</td>\n",
       "      <td>1019.5</td>\n",
       "      <td>0.0</td>\n",
       "      <td>0.000000</td>\n",
       "    </tr>\n",
       "    <tr>\n",
       "      <th>1</th>\n",
       "      <td>0</td>\n",
       "      <td>2016-01-01 01:00:00</td>\n",
       "      <td>24.406250</td>\n",
       "      <td>NaN</td>\n",
       "      <td>21.09375</td>\n",
       "      <td>-1.0</td>\n",
       "      <td>1020.0</td>\n",
       "      <td>70.0</td>\n",
       "      <td>1.500000</td>\n",
       "    </tr>\n",
       "    <tr>\n",
       "      <th>2</th>\n",
       "      <td>0</td>\n",
       "      <td>2016-01-01 02:00:00</td>\n",
       "      <td>22.796875</td>\n",
       "      <td>2.0</td>\n",
       "      <td>21.09375</td>\n",
       "      <td>0.0</td>\n",
       "      <td>1020.0</td>\n",
       "      <td>0.0</td>\n",
       "      <td>0.000000</td>\n",
       "    </tr>\n",
       "    <tr>\n",
       "      <th>3</th>\n",
       "      <td>0</td>\n",
       "      <td>2016-01-01 03:00:00</td>\n",
       "      <td>21.093750</td>\n",
       "      <td>2.0</td>\n",
       "      <td>20.59375</td>\n",
       "      <td>0.0</td>\n",
       "      <td>1020.0</td>\n",
       "      <td>0.0</td>\n",
       "      <td>0.000000</td>\n",
       "    </tr>\n",
       "    <tr>\n",
       "      <th>4</th>\n",
       "      <td>0</td>\n",
       "      <td>2016-01-01 04:00:00</td>\n",
       "      <td>20.000000</td>\n",
       "      <td>2.0</td>\n",
       "      <td>20.00000</td>\n",
       "      <td>-1.0</td>\n",
       "      <td>1020.0</td>\n",
       "      <td>250.0</td>\n",
       "      <td>2.599609</td>\n",
       "    </tr>\n",
       "  </tbody>\n",
       "</table>\n",
       "</div>"
      ],
      "text/plain": [
       "   site_id           timestamp  air_temperature  cloud_coverage  \\\n",
       "0        0 2016-01-01 00:00:00        25.000000             6.0   \n",
       "1        0 2016-01-01 01:00:00        24.406250             NaN   \n",
       "2        0 2016-01-01 02:00:00        22.796875             2.0   \n",
       "3        0 2016-01-01 03:00:00        21.093750             2.0   \n",
       "4        0 2016-01-01 04:00:00        20.000000             2.0   \n",
       "\n",
       "   dew_temperature  precip_depth_1_hr  sea_level_pressure  wind_direction  \\\n",
       "0         20.00000                NaN              1019.5             0.0   \n",
       "1         21.09375               -1.0              1020.0            70.0   \n",
       "2         21.09375                0.0              1020.0             0.0   \n",
       "3         20.59375                0.0              1020.0             0.0   \n",
       "4         20.00000               -1.0              1020.0           250.0   \n",
       "\n",
       "   wind_speed  \n",
       "0    0.000000  \n",
       "1    1.500000  \n",
       "2    0.000000  \n",
       "3    0.000000  \n",
       "4    2.599609  "
      ]
     },
     "execution_count": 12,
     "metadata": {},
     "output_type": "execute_result"
    }
   ],
   "source": [
    "weather_train_table.head()"
   ]
  },
  {
   "cell_type": "code",
   "execution_count": 14,
   "metadata": {},
   "outputs": [
    {
     "data": {
      "text/html": [
       "<div>\n",
       "<style scoped>\n",
       "    .dataframe tbody tr th:only-of-type {\n",
       "        vertical-align: middle;\n",
       "    }\n",
       "\n",
       "    .dataframe tbody tr th {\n",
       "        vertical-align: top;\n",
       "    }\n",
       "\n",
       "    .dataframe thead th {\n",
       "        text-align: right;\n",
       "    }\n",
       "</style>\n",
       "<table border=\"1\" class=\"dataframe\">\n",
       "  <thead>\n",
       "    <tr style=\"text-align: right;\">\n",
       "      <th></th>\n",
       "      <th>building_id</th>\n",
       "      <th>meter</th>\n",
       "      <th>timestamp</th>\n",
       "      <th>meter_reading</th>\n",
       "      <th>log_meter_reading</th>\n",
       "      <th>hour</th>\n",
       "      <th>day</th>\n",
       "      <th>year</th>\n",
       "      <th>weeknumber</th>\n",
       "      <th>weekday</th>\n",
       "      <th>month</th>\n",
       "      <th>site_id</th>\n",
       "      <th>primary_use</th>\n",
       "      <th>square_feet</th>\n",
       "      <th>log_square_feet</th>\n",
       "    </tr>\n",
       "  </thead>\n",
       "  <tbody>\n",
       "    <tr>\n",
       "      <th>0</th>\n",
       "      <td>0</td>\n",
       "      <td>0</td>\n",
       "      <td>2016-01-01</td>\n",
       "      <td>0.0</td>\n",
       "      <td>0.0</td>\n",
       "      <td>0</td>\n",
       "      <td>1</td>\n",
       "      <td>2016</td>\n",
       "      <td>53</td>\n",
       "      <td>4</td>\n",
       "      <td>1</td>\n",
       "      <td>0</td>\n",
       "      <td>Education</td>\n",
       "      <td>7432</td>\n",
       "      <td>8.913550</td>\n",
       "    </tr>\n",
       "    <tr>\n",
       "      <th>1</th>\n",
       "      <td>1</td>\n",
       "      <td>0</td>\n",
       "      <td>2016-01-01</td>\n",
       "      <td>0.0</td>\n",
       "      <td>0.0</td>\n",
       "      <td>0</td>\n",
       "      <td>1</td>\n",
       "      <td>2016</td>\n",
       "      <td>53</td>\n",
       "      <td>4</td>\n",
       "      <td>1</td>\n",
       "      <td>0</td>\n",
       "      <td>Education</td>\n",
       "      <td>2720</td>\n",
       "      <td>7.908387</td>\n",
       "    </tr>\n",
       "    <tr>\n",
       "      <th>2</th>\n",
       "      <td>2</td>\n",
       "      <td>0</td>\n",
       "      <td>2016-01-01</td>\n",
       "      <td>0.0</td>\n",
       "      <td>0.0</td>\n",
       "      <td>0</td>\n",
       "      <td>1</td>\n",
       "      <td>2016</td>\n",
       "      <td>53</td>\n",
       "      <td>4</td>\n",
       "      <td>1</td>\n",
       "      <td>0</td>\n",
       "      <td>Education</td>\n",
       "      <td>5376</td>\n",
       "      <td>8.589700</td>\n",
       "    </tr>\n",
       "    <tr>\n",
       "      <th>3</th>\n",
       "      <td>3</td>\n",
       "      <td>0</td>\n",
       "      <td>2016-01-01</td>\n",
       "      <td>0.0</td>\n",
       "      <td>0.0</td>\n",
       "      <td>0</td>\n",
       "      <td>1</td>\n",
       "      <td>2016</td>\n",
       "      <td>53</td>\n",
       "      <td>4</td>\n",
       "      <td>1</td>\n",
       "      <td>0</td>\n",
       "      <td>Education</td>\n",
       "      <td>23685</td>\n",
       "      <td>10.072597</td>\n",
       "    </tr>\n",
       "    <tr>\n",
       "      <th>4</th>\n",
       "      <td>4</td>\n",
       "      <td>0</td>\n",
       "      <td>2016-01-01</td>\n",
       "      <td>0.0</td>\n",
       "      <td>0.0</td>\n",
       "      <td>0</td>\n",
       "      <td>1</td>\n",
       "      <td>2016</td>\n",
       "      <td>53</td>\n",
       "      <td>4</td>\n",
       "      <td>1</td>\n",
       "      <td>0</td>\n",
       "      <td>Education</td>\n",
       "      <td>116607</td>\n",
       "      <td>11.666565</td>\n",
       "    </tr>\n",
       "  </tbody>\n",
       "</table>\n",
       "</div>"
      ],
      "text/plain": [
       "   building_id  meter  timestamp  meter_reading  log_meter_reading  hour  day  \\\n",
       "0            0      0 2016-01-01            0.0                0.0     0    1   \n",
       "1            1      0 2016-01-01            0.0                0.0     0    1   \n",
       "2            2      0 2016-01-01            0.0                0.0     0    1   \n",
       "3            3      0 2016-01-01            0.0                0.0     0    1   \n",
       "4            4      0 2016-01-01            0.0                0.0     0    1   \n",
       "\n",
       "   year  weeknumber  weekday  month  site_id primary_use  square_feet  \\\n",
       "0  2016          53        4      1        0   Education         7432   \n",
       "1  2016          53        4      1        0   Education         2720   \n",
       "2  2016          53        4      1        0   Education         5376   \n",
       "3  2016          53        4      1        0   Education        23685   \n",
       "4  2016          53        4      1        0   Education       116607   \n",
       "\n",
       "   log_square_feet  \n",
       "0         8.913550  \n",
       "1         7.908387  \n",
       "2         8.589700  \n",
       "3        10.072597  \n",
       "4        11.666565  "
      ]
     },
     "execution_count": 14,
     "metadata": {},
     "output_type": "execute_result"
    }
   ],
   "source": [
    "trainbuilding_df = train_df.join(building_df, on='building_id', rsuffix = 'r')\n",
    "trainbuilding_df.drop(columns=['year_built','floor_count','building_idr'],inplace=True)\n",
    "trainbuilding_df.head()"
   ]
  },
  {
   "cell_type": "code",
   "execution_count": 78,
   "metadata": {},
   "outputs": [
    {
     "data": {
      "text/plain": [
       "(20216100, 15)"
      ]
     },
     "execution_count": 78,
     "metadata": {},
     "output_type": "execute_result"
    }
   ],
   "source": [
    "trainbuilding_df.shape"
   ]
  },
  {
   "cell_type": "code",
   "execution_count": 79,
   "metadata": {},
   "outputs": [
    {
     "data": {
      "text/html": [
       "<div>\n",
       "<style scoped>\n",
       "    .dataframe tbody tr th:only-of-type {\n",
       "        vertical-align: middle;\n",
       "    }\n",
       "\n",
       "    .dataframe tbody tr th {\n",
       "        vertical-align: top;\n",
       "    }\n",
       "\n",
       "    .dataframe thead th {\n",
       "        text-align: right;\n",
       "    }\n",
       "</style>\n",
       "<table border=\"1\" class=\"dataframe\">\n",
       "  <thead>\n",
       "    <tr style=\"text-align: right;\">\n",
       "      <th></th>\n",
       "      <th>log_meter_reading</th>\n",
       "      <th>log_square_feet</th>\n",
       "    </tr>\n",
       "  </thead>\n",
       "  <tbody>\n",
       "    <tr>\n",
       "      <th>log_meter_reading</th>\n",
       "      <td>1.000000</td>\n",
       "      <td>0.444647</td>\n",
       "    </tr>\n",
       "    <tr>\n",
       "      <th>log_square_feet</th>\n",
       "      <td>0.444647</td>\n",
       "      <td>1.000000</td>\n",
       "    </tr>\n",
       "  </tbody>\n",
       "</table>\n",
       "</div>"
      ],
      "text/plain": [
       "                   log_meter_reading  log_square_feet\n",
       "log_meter_reading           1.000000         0.444647\n",
       "log_square_feet             0.444647         1.000000"
      ]
     },
     "execution_count": 79,
     "metadata": {},
     "output_type": "execute_result"
    }
   ],
   "source": [
    "trainbuilding_df[['log_meter_reading','log_square_feet']].corr()"
   ]
  },
  {
   "cell_type": "code",
   "execution_count": 80,
   "metadata": {},
   "outputs": [
    {
     "data": {
      "text/html": [
       "<div>\n",
       "<style scoped>\n",
       "    .dataframe tbody tr th:only-of-type {\n",
       "        vertical-align: middle;\n",
       "    }\n",
       "\n",
       "    .dataframe tbody tr th {\n",
       "        vertical-align: top;\n",
       "    }\n",
       "\n",
       "    .dataframe thead th {\n",
       "        text-align: right;\n",
       "    }\n",
       "</style>\n",
       "<table border=\"1\" class=\"dataframe\">\n",
       "  <thead>\n",
       "    <tr style=\"text-align: right;\">\n",
       "      <th></th>\n",
       "      <th>meter_reading</th>\n",
       "      <th>square_feet</th>\n",
       "    </tr>\n",
       "  </thead>\n",
       "  <tbody>\n",
       "    <tr>\n",
       "      <th>meter_reading</th>\n",
       "      <td>1.000000</td>\n",
       "      <td>0.024308</td>\n",
       "    </tr>\n",
       "    <tr>\n",
       "      <th>square_feet</th>\n",
       "      <td>0.024308</td>\n",
       "      <td>1.000000</td>\n",
       "    </tr>\n",
       "  </tbody>\n",
       "</table>\n",
       "</div>"
      ],
      "text/plain": [
       "               meter_reading  square_feet\n",
       "meter_reading       1.000000     0.024308\n",
       "square_feet         0.024308     1.000000"
      ]
     },
     "execution_count": 80,
     "metadata": {},
     "output_type": "execute_result"
    }
   ],
   "source": [
    "trainbuilding_df[['meter_reading','square_feet']].corr()"
   ]
  },
  {
   "cell_type": "code",
   "execution_count": 15,
   "metadata": {},
   "outputs": [],
   "source": [
    "tbw = pd.merge(trainbuilding_df, weather_train_table,left_on=['site_id','timestamp'],right_on=['site_id','timestamp'])"
   ]
  },
  {
   "cell_type": "code",
   "execution_count": 16,
   "metadata": {},
   "outputs": [
    {
     "data": {
      "text/html": [
       "<div>\n",
       "<style scoped>\n",
       "    .dataframe tbody tr th:only-of-type {\n",
       "        vertical-align: middle;\n",
       "    }\n",
       "\n",
       "    .dataframe tbody tr th {\n",
       "        vertical-align: top;\n",
       "    }\n",
       "\n",
       "    .dataframe thead th {\n",
       "        text-align: right;\n",
       "    }\n",
       "</style>\n",
       "<table border=\"1\" class=\"dataframe\">\n",
       "  <thead>\n",
       "    <tr style=\"text-align: right;\">\n",
       "      <th></th>\n",
       "      <th>building_id</th>\n",
       "      <th>meter</th>\n",
       "      <th>timestamp</th>\n",
       "      <th>meter_reading</th>\n",
       "      <th>log_meter_reading</th>\n",
       "      <th>hour</th>\n",
       "      <th>day</th>\n",
       "      <th>year</th>\n",
       "      <th>weeknumber</th>\n",
       "      <th>weekday</th>\n",
       "      <th>...</th>\n",
       "      <th>primary_use</th>\n",
       "      <th>square_feet</th>\n",
       "      <th>log_square_feet</th>\n",
       "      <th>air_temperature</th>\n",
       "      <th>cloud_coverage</th>\n",
       "      <th>dew_temperature</th>\n",
       "      <th>precip_depth_1_hr</th>\n",
       "      <th>sea_level_pressure</th>\n",
       "      <th>wind_direction</th>\n",
       "      <th>wind_speed</th>\n",
       "    </tr>\n",
       "  </thead>\n",
       "  <tbody>\n",
       "    <tr>\n",
       "      <th>0</th>\n",
       "      <td>0</td>\n",
       "      <td>0</td>\n",
       "      <td>2016-01-01</td>\n",
       "      <td>0.0</td>\n",
       "      <td>0.0</td>\n",
       "      <td>0</td>\n",
       "      <td>1</td>\n",
       "      <td>2016</td>\n",
       "      <td>53</td>\n",
       "      <td>4</td>\n",
       "      <td>...</td>\n",
       "      <td>Education</td>\n",
       "      <td>7432</td>\n",
       "      <td>8.913550</td>\n",
       "      <td>25.0</td>\n",
       "      <td>6.0</td>\n",
       "      <td>20.0</td>\n",
       "      <td>NaN</td>\n",
       "      <td>1019.5</td>\n",
       "      <td>0.0</td>\n",
       "      <td>0.0</td>\n",
       "    </tr>\n",
       "    <tr>\n",
       "      <th>1</th>\n",
       "      <td>1</td>\n",
       "      <td>0</td>\n",
       "      <td>2016-01-01</td>\n",
       "      <td>0.0</td>\n",
       "      <td>0.0</td>\n",
       "      <td>0</td>\n",
       "      <td>1</td>\n",
       "      <td>2016</td>\n",
       "      <td>53</td>\n",
       "      <td>4</td>\n",
       "      <td>...</td>\n",
       "      <td>Education</td>\n",
       "      <td>2720</td>\n",
       "      <td>7.908387</td>\n",
       "      <td>25.0</td>\n",
       "      <td>6.0</td>\n",
       "      <td>20.0</td>\n",
       "      <td>NaN</td>\n",
       "      <td>1019.5</td>\n",
       "      <td>0.0</td>\n",
       "      <td>0.0</td>\n",
       "    </tr>\n",
       "    <tr>\n",
       "      <th>2</th>\n",
       "      <td>2</td>\n",
       "      <td>0</td>\n",
       "      <td>2016-01-01</td>\n",
       "      <td>0.0</td>\n",
       "      <td>0.0</td>\n",
       "      <td>0</td>\n",
       "      <td>1</td>\n",
       "      <td>2016</td>\n",
       "      <td>53</td>\n",
       "      <td>4</td>\n",
       "      <td>...</td>\n",
       "      <td>Education</td>\n",
       "      <td>5376</td>\n",
       "      <td>8.589700</td>\n",
       "      <td>25.0</td>\n",
       "      <td>6.0</td>\n",
       "      <td>20.0</td>\n",
       "      <td>NaN</td>\n",
       "      <td>1019.5</td>\n",
       "      <td>0.0</td>\n",
       "      <td>0.0</td>\n",
       "    </tr>\n",
       "    <tr>\n",
       "      <th>3</th>\n",
       "      <td>3</td>\n",
       "      <td>0</td>\n",
       "      <td>2016-01-01</td>\n",
       "      <td>0.0</td>\n",
       "      <td>0.0</td>\n",
       "      <td>0</td>\n",
       "      <td>1</td>\n",
       "      <td>2016</td>\n",
       "      <td>53</td>\n",
       "      <td>4</td>\n",
       "      <td>...</td>\n",
       "      <td>Education</td>\n",
       "      <td>23685</td>\n",
       "      <td>10.072597</td>\n",
       "      <td>25.0</td>\n",
       "      <td>6.0</td>\n",
       "      <td>20.0</td>\n",
       "      <td>NaN</td>\n",
       "      <td>1019.5</td>\n",
       "      <td>0.0</td>\n",
       "      <td>0.0</td>\n",
       "    </tr>\n",
       "    <tr>\n",
       "      <th>4</th>\n",
       "      <td>4</td>\n",
       "      <td>0</td>\n",
       "      <td>2016-01-01</td>\n",
       "      <td>0.0</td>\n",
       "      <td>0.0</td>\n",
       "      <td>0</td>\n",
       "      <td>1</td>\n",
       "      <td>2016</td>\n",
       "      <td>53</td>\n",
       "      <td>4</td>\n",
       "      <td>...</td>\n",
       "      <td>Education</td>\n",
       "      <td>116607</td>\n",
       "      <td>11.666565</td>\n",
       "      <td>25.0</td>\n",
       "      <td>6.0</td>\n",
       "      <td>20.0</td>\n",
       "      <td>NaN</td>\n",
       "      <td>1019.5</td>\n",
       "      <td>0.0</td>\n",
       "      <td>0.0</td>\n",
       "    </tr>\n",
       "  </tbody>\n",
       "</table>\n",
       "<p>5 rows × 22 columns</p>\n",
       "</div>"
      ],
      "text/plain": [
       "   building_id  meter  timestamp  meter_reading  log_meter_reading  hour  day  \\\n",
       "0            0      0 2016-01-01            0.0                0.0     0    1   \n",
       "1            1      0 2016-01-01            0.0                0.0     0    1   \n",
       "2            2      0 2016-01-01            0.0                0.0     0    1   \n",
       "3            3      0 2016-01-01            0.0                0.0     0    1   \n",
       "4            4      0 2016-01-01            0.0                0.0     0    1   \n",
       "\n",
       "   year  weeknumber  weekday  ...  primary_use  square_feet log_square_feet  \\\n",
       "0  2016          53        4  ...    Education         7432        8.913550   \n",
       "1  2016          53        4  ...    Education         2720        7.908387   \n",
       "2  2016          53        4  ...    Education         5376        8.589700   \n",
       "3  2016          53        4  ...    Education        23685       10.072597   \n",
       "4  2016          53        4  ...    Education       116607       11.666565   \n",
       "\n",
       "   air_temperature  cloud_coverage  dew_temperature  precip_depth_1_hr  \\\n",
       "0             25.0             6.0             20.0                NaN   \n",
       "1             25.0             6.0             20.0                NaN   \n",
       "2             25.0             6.0             20.0                NaN   \n",
       "3             25.0             6.0             20.0                NaN   \n",
       "4             25.0             6.0             20.0                NaN   \n",
       "\n",
       "   sea_level_pressure  wind_direction  wind_speed  \n",
       "0              1019.5             0.0         0.0  \n",
       "1              1019.5             0.0         0.0  \n",
       "2              1019.5             0.0         0.0  \n",
       "3              1019.5             0.0         0.0  \n",
       "4              1019.5             0.0         0.0  \n",
       "\n",
       "[5 rows x 22 columns]"
      ]
     },
     "execution_count": 16,
     "metadata": {},
     "output_type": "execute_result"
    }
   ],
   "source": [
    "tbw.head()"
   ]
  },
  {
   "cell_type": "code",
   "execution_count": 19,
   "metadata": {},
   "outputs": [],
   "source": [
    "use_meter_count= tbw.groupby(['primary_use','meter'])['meter_reading'].count().to_frame()"
   ]
  },
  {
   "cell_type": "code",
   "execution_count": 21,
   "metadata": {},
   "outputs": [
    {
     "data": {
      "image/png": "[encoded data removed]",
      "text/plain": [
       "<Figure size 432x288 with 1 Axes>"
      ]
     },
     "metadata": {
      "needs_background": "light"
     },
     "output_type": "display_data"
    }
   ],
   "source": [
    "use_meter_count.plot()\n",
    "plt.yscale('log')\n",
    "plt.grid();"
   ]
  },
  {
   "cell_type": "code",
   "execution_count": 192,
   "metadata": {},
   "outputs": [
    {
     "data": {
      "text/html": [
       "<div>\n",
       "<style scoped>\n",
       "    .dataframe tbody tr th:only-of-type {\n",
       "        vertical-align: middle;\n",
       "    }\n",
       "\n",
       "    .dataframe tbody tr th {\n",
       "        vertical-align: top;\n",
       "    }\n",
       "\n",
       "    .dataframe thead th {\n",
       "        text-align: right;\n",
       "    }\n",
       "</style>\n",
       "<table border=\"1\" class=\"dataframe\">\n",
       "  <thead>\n",
       "    <tr style=\"text-align: right;\">\n",
       "      <th></th>\n",
       "      <th>air_temperature</th>\n",
       "      <th>log_meter_reading</th>\n",
       "    </tr>\n",
       "  </thead>\n",
       "  <tbody>\n",
       "    <tr>\n",
       "      <th>air_temperature</th>\n",
       "      <td>1.000000</td>\n",
       "      <td>-0.004704</td>\n",
       "    </tr>\n",
       "    <tr>\n",
       "      <th>log_meter_reading</th>\n",
       "      <td>-0.004704</td>\n",
       "      <td>1.000000</td>\n",
       "    </tr>\n",
       "  </tbody>\n",
       "</table>\n",
       "</div>"
      ],
      "text/plain": [
       "                   air_temperature  log_meter_reading\n",
       "air_temperature           1.000000          -0.004704\n",
       "log_meter_reading        -0.004704           1.000000"
      ]
     },
     "execution_count": 192,
     "metadata": {},
     "output_type": "execute_result"
    }
   ],
   "source": [
    "tbw[['air_temperature','log_meter_reading']].corr()"
   ]
  },
  {
   "cell_type": "code",
   "execution_count": null,
   "metadata": {},
   "outputs": [],
   "source": []
  },
  {
   "cell_type": "code",
   "execution_count": 15,
   "metadata": {},
   "outputs": [
    {
     "data": {
      "text/html": [
       "<div>\n",
       "<style scoped>\n",
       "    .dataframe tbody tr th:only-of-type {\n",
       "        vertical-align: middle;\n",
       "    }\n",
       "\n",
       "    .dataframe tbody tr th {\n",
       "        vertical-align: top;\n",
       "    }\n",
       "\n",
       "    .dataframe thead th {\n",
       "        text-align: right;\n",
       "    }\n",
       "</style>\n",
       "<table border=\"1\" class=\"dataframe\">\n",
       "  <thead>\n",
       "    <tr style=\"text-align: right;\">\n",
       "      <th></th>\n",
       "      <th>building_id</th>\n",
       "      <th>meter</th>\n",
       "      <th>timestamp</th>\n",
       "      <th>meter_reading</th>\n",
       "      <th>log_meter_reading</th>\n",
       "      <th>hour</th>\n",
       "      <th>day</th>\n",
       "      <th>year</th>\n",
       "      <th>weeknumber</th>\n",
       "      <th>weekday</th>\n",
       "      <th>...</th>\n",
       "      <th>primary_use</th>\n",
       "      <th>square_feet</th>\n",
       "      <th>log_square_feet</th>\n",
       "      <th>air_temperature</th>\n",
       "      <th>cloud_coverage</th>\n",
       "      <th>dew_temperature</th>\n",
       "      <th>precip_depth_1_hr</th>\n",
       "      <th>sea_level_pressure</th>\n",
       "      <th>wind_direction</th>\n",
       "      <th>wind_speed</th>\n",
       "    </tr>\n",
       "  </thead>\n",
       "  <tbody>\n",
       "    <tr>\n",
       "      <th>0</th>\n",
       "      <td>0</td>\n",
       "      <td>0</td>\n",
       "      <td>2016-01-01</td>\n",
       "      <td>0.0</td>\n",
       "      <td>0.0</td>\n",
       "      <td>0</td>\n",
       "      <td>1</td>\n",
       "      <td>2016</td>\n",
       "      <td>53</td>\n",
       "      <td>4</td>\n",
       "      <td>...</td>\n",
       "      <td>Education</td>\n",
       "      <td>7432</td>\n",
       "      <td>8.913550</td>\n",
       "      <td>25.0</td>\n",
       "      <td>6.0</td>\n",
       "      <td>20.0</td>\n",
       "      <td>NaN</td>\n",
       "      <td>1019.5</td>\n",
       "      <td>0.0</td>\n",
       "      <td>0.0</td>\n",
       "    </tr>\n",
       "    <tr>\n",
       "      <th>1</th>\n",
       "      <td>1</td>\n",
       "      <td>0</td>\n",
       "      <td>2016-01-01</td>\n",
       "      <td>0.0</td>\n",
       "      <td>0.0</td>\n",
       "      <td>0</td>\n",
       "      <td>1</td>\n",
       "      <td>2016</td>\n",
       "      <td>53</td>\n",
       "      <td>4</td>\n",
       "      <td>...</td>\n",
       "      <td>Education</td>\n",
       "      <td>2720</td>\n",
       "      <td>7.908387</td>\n",
       "      <td>25.0</td>\n",
       "      <td>6.0</td>\n",
       "      <td>20.0</td>\n",
       "      <td>NaN</td>\n",
       "      <td>1019.5</td>\n",
       "      <td>0.0</td>\n",
       "      <td>0.0</td>\n",
       "    </tr>\n",
       "    <tr>\n",
       "      <th>2</th>\n",
       "      <td>2</td>\n",
       "      <td>0</td>\n",
       "      <td>2016-01-01</td>\n",
       "      <td>0.0</td>\n",
       "      <td>0.0</td>\n",
       "      <td>0</td>\n",
       "      <td>1</td>\n",
       "      <td>2016</td>\n",
       "      <td>53</td>\n",
       "      <td>4</td>\n",
       "      <td>...</td>\n",
       "      <td>Education</td>\n",
       "      <td>5376</td>\n",
       "      <td>8.589700</td>\n",
       "      <td>25.0</td>\n",
       "      <td>6.0</td>\n",
       "      <td>20.0</td>\n",
       "      <td>NaN</td>\n",
       "      <td>1019.5</td>\n",
       "      <td>0.0</td>\n",
       "      <td>0.0</td>\n",
       "    </tr>\n",
       "    <tr>\n",
       "      <th>3</th>\n",
       "      <td>3</td>\n",
       "      <td>0</td>\n",
       "      <td>2016-01-01</td>\n",
       "      <td>0.0</td>\n",
       "      <td>0.0</td>\n",
       "      <td>0</td>\n",
       "      <td>1</td>\n",
       "      <td>2016</td>\n",
       "      <td>53</td>\n",
       "      <td>4</td>\n",
       "      <td>...</td>\n",
       "      <td>Education</td>\n",
       "      <td>23685</td>\n",
       "      <td>10.072597</td>\n",
       "      <td>25.0</td>\n",
       "      <td>6.0</td>\n",
       "      <td>20.0</td>\n",
       "      <td>NaN</td>\n",
       "      <td>1019.5</td>\n",
       "      <td>0.0</td>\n",
       "      <td>0.0</td>\n",
       "    </tr>\n",
       "    <tr>\n",
       "      <th>4</th>\n",
       "      <td>4</td>\n",
       "      <td>0</td>\n",
       "      <td>2016-01-01</td>\n",
       "      <td>0.0</td>\n",
       "      <td>0.0</td>\n",
       "      <td>0</td>\n",
       "      <td>1</td>\n",
       "      <td>2016</td>\n",
       "      <td>53</td>\n",
       "      <td>4</td>\n",
       "      <td>...</td>\n",
       "      <td>Education</td>\n",
       "      <td>116607</td>\n",
       "      <td>11.666565</td>\n",
       "      <td>25.0</td>\n",
       "      <td>6.0</td>\n",
       "      <td>20.0</td>\n",
       "      <td>NaN</td>\n",
       "      <td>1019.5</td>\n",
       "      <td>0.0</td>\n",
       "      <td>0.0</td>\n",
       "    </tr>\n",
       "  </tbody>\n",
       "</table>\n",
       "<p>5 rows × 22 columns</p>\n",
       "</div>"
      ],
      "text/plain": [
       "   building_id  meter  timestamp  meter_reading  log_meter_reading  hour  day  \\\n",
       "0            0      0 2016-01-01            0.0                0.0     0    1   \n",
       "1            1      0 2016-01-01            0.0                0.0     0    1   \n",
       "2            2      0 2016-01-01            0.0                0.0     0    1   \n",
       "3            3      0 2016-01-01            0.0                0.0     0    1   \n",
       "4            4      0 2016-01-01            0.0                0.0     0    1   \n",
       "\n",
       "   year  weeknumber  weekday  ...  primary_use  square_feet log_square_feet  \\\n",
       "0  2016          53        4  ...    Education         7432        8.913550   \n",
       "1  2016          53        4  ...    Education         2720        7.908387   \n",
       "2  2016          53        4  ...    Education         5376        8.589700   \n",
       "3  2016          53        4  ...    Education        23685       10.072597   \n",
       "4  2016          53        4  ...    Education       116607       11.666565   \n",
       "\n",
       "   air_temperature  cloud_coverage  dew_temperature  precip_depth_1_hr  \\\n",
       "0             25.0             6.0             20.0                NaN   \n",
       "1             25.0             6.0             20.0                NaN   \n",
       "2             25.0             6.0             20.0                NaN   \n",
       "3             25.0             6.0             20.0                NaN   \n",
       "4             25.0             6.0             20.0                NaN   \n",
       "\n",
       "   sea_level_pressure  wind_direction  wind_speed  \n",
       "0              1019.5             0.0         0.0  \n",
       "1              1019.5             0.0         0.0  \n",
       "2              1019.5             0.0         0.0  \n",
       "3              1019.5             0.0         0.0  \n",
       "4              1019.5             0.0         0.0  \n",
       "\n",
       "[5 rows x 22 columns]"
      ]
     },
     "execution_count": 15,
     "metadata": {},
     "output_type": "execute_result"
    }
   ],
   "source": [
    "tbw_edu0= tbw[tbw['primary_use']=='Education']\n",
    "tbw_edu0 = tbw_edu0[tbw_edu0['meter']==0]\n",
    "tbw_edu0.head()\n"
   ]
  },
  {
   "cell_type": "code",
   "execution_count": 361,
   "metadata": {},
   "outputs": [
    {
     "data": {
      "text/plain": [
       "(4578935, 21)"
      ]
     },
     "execution_count": 361,
     "metadata": {},
     "output_type": "execute_result"
    }
   ],
   "source": [
    "tb_edu0.shape"
   ]
  },
  {
   "cell_type": "code",
   "execution_count": 66,
   "metadata": {},
   "outputs": [
    {
     "data": {
      "image/png": "[encoded data removed]",
      "text/plain": [
       "<Figure size 1080x360 with 1 Axes>"
      ]
     },
     "metadata": {
      "needs_background": "light"
     },
     "output_type": "display_data"
    }
   ],
   "source": [
    "fig =plt.figure(figsize=(15,5))\n",
    "ax = fig.add_subplot()\n",
    "#tb_edu0.groupby('weeknumber')['meter_reading'].min().plot(ax = ax);\n",
    "tbw_edu0.boxplot(column='meter_reading', by='weeknumber',ax=ax)\n",
    "#tb_edu0.groupby('weeknumber')['meter_reading'].max().plot(ax = ax);\n",
    "plt.yscale('log')\n",
    "#plt.ylim(0,10000)"
   ]
  },
  {
   "cell_type": "code",
   "execution_count": 168,
   "metadata": {},
   "outputs": [
    {
     "data": {
      "text/html": [
       "<div>\n",
       "<style scoped>\n",
       "    .dataframe tbody tr th:only-of-type {\n",
       "        vertical-align: middle;\n",
       "    }\n",
       "\n",
       "    .dataframe tbody tr th {\n",
       "        vertical-align: top;\n",
       "    }\n",
       "\n",
       "    .dataframe thead th {\n",
       "        text-align: right;\n",
       "    }\n",
       "</style>\n",
       "<table border=\"1\" class=\"dataframe\">\n",
       "  <thead>\n",
       "    <tr style=\"text-align: right;\">\n",
       "      <th></th>\n",
       "      <th>meter_reading</th>\n",
       "      <th>air_temperature</th>\n",
       "    </tr>\n",
       "    <tr>\n",
       "      <th>building_id</th>\n",
       "      <th></th>\n",
       "      <th></th>\n",
       "    </tr>\n",
       "  </thead>\n",
       "  <tbody>\n",
       "    <tr>\n",
       "      <th>0</th>\n",
       "      <td>294.638458</td>\n",
       "      <td>28.6875</td>\n",
       "    </tr>\n",
       "    <tr>\n",
       "      <th>1</th>\n",
       "      <td>134.672409</td>\n",
       "      <td>28.6875</td>\n",
       "    </tr>\n",
       "    <tr>\n",
       "      <th>2</th>\n",
       "      <td>27.780201</td>\n",
       "      <td>28.6875</td>\n",
       "    </tr>\n",
       "    <tr>\n",
       "      <th>3</th>\n",
       "      <td>433.427765</td>\n",
       "      <td>28.6875</td>\n",
       "    </tr>\n",
       "    <tr>\n",
       "      <th>4</th>\n",
       "      <td>1657.057129</td>\n",
       "      <td>28.6875</td>\n",
       "    </tr>\n",
       "  </tbody>\n",
       "</table>\n",
       "</div>"
      ],
      "text/plain": [
       "             meter_reading  air_temperature\n",
       "building_id                                \n",
       "0               294.638458          28.6875\n",
       "1               134.672409          28.6875\n",
       "2                27.780201          28.6875\n",
       "3               433.427765          28.6875\n",
       "4              1657.057129          28.6875"
      ]
     },
     "execution_count": 168,
     "metadata": {},
     "output_type": "execute_result"
    }
   ],
   "source": [
    "mm = tbw_edu0[tbw_edu0['weeknumber']==30]\n",
    "build_ave = mm.groupby('building_id')[['meter_reading','air_temperature']].mean()\n",
    "build_ave.head()"
   ]
  },
  {
   "cell_type": "code",
   "execution_count": 183,
   "metadata": {},
   "outputs": [
    {
     "data": {
      "image/png": "[encoded data removed]",
      "text/plain": [
       "<Figure size 432x288 with 1 Axes>"
      ]
     },
     "metadata": {
      "needs_background": "light"
     },
     "output_type": "display_data"
    }
   ],
   "source": [
    "plt.hist(mm.air_temperature);"
   ]
  },
  {
   "cell_type": "code",
   "execution_count": 169,
   "metadata": {},
   "outputs": [
    {
     "data": {
      "text/plain": [
       "(1, 100000)"
      ]
     },
     "execution_count": 169,
     "metadata": {},
     "output_type": "execute_result"
    },
    {
     "data": {
      "image/png": "[encoded data removed]",
      "text/plain": [
       "<Figure size 432x288 with 1 Axes>"
      ]
     },
     "metadata": {
      "needs_background": "light"
     },
     "output_type": "display_data"
    }
   ],
   "source": [
    "build_ave.plot(x='air_temperature',y='meter_reading',kind='scatter');\n",
    "plt.yscale('log')\n",
    "plt.ylim(1,100000)"
   ]
  },
  {
   "cell_type": "code",
   "execution_count": 170,
   "metadata": {},
   "outputs": [
    {
     "data": {
      "text/html": [
       "<div>\n",
       "<style scoped>\n",
       "    .dataframe tbody tr th:only-of-type {\n",
       "        vertical-align: middle;\n",
       "    }\n",
       "\n",
       "    .dataframe tbody tr th {\n",
       "        vertical-align: top;\n",
       "    }\n",
       "\n",
       "    .dataframe thead th {\n",
       "        text-align: right;\n",
       "    }\n",
       "</style>\n",
       "<table border=\"1\" class=\"dataframe\">\n",
       "  <thead>\n",
       "    <tr style=\"text-align: right;\">\n",
       "      <th></th>\n",
       "      <th>meter_reading</th>\n",
       "      <th>air_temperature</th>\n",
       "      <th>site_id</th>\n",
       "      <th>building_id</th>\n",
       "      <th>primary_use</th>\n",
       "      <th>square_feet</th>\n",
       "      <th>year_built</th>\n",
       "      <th>floor_count</th>\n",
       "    </tr>\n",
       "    <tr>\n",
       "      <th>building_id</th>\n",
       "      <th></th>\n",
       "      <th></th>\n",
       "      <th></th>\n",
       "      <th></th>\n",
       "      <th></th>\n",
       "      <th></th>\n",
       "      <th></th>\n",
       "      <th></th>\n",
       "    </tr>\n",
       "  </thead>\n",
       "  <tbody>\n",
       "    <tr>\n",
       "      <th>0</th>\n",
       "      <td>294.638458</td>\n",
       "      <td>28.6875</td>\n",
       "      <td>0</td>\n",
       "      <td>0</td>\n",
       "      <td>Education</td>\n",
       "      <td>7432</td>\n",
       "      <td>2008.0</td>\n",
       "      <td>NaN</td>\n",
       "    </tr>\n",
       "    <tr>\n",
       "      <th>1</th>\n",
       "      <td>134.672409</td>\n",
       "      <td>28.6875</td>\n",
       "      <td>0</td>\n",
       "      <td>1</td>\n",
       "      <td>Education</td>\n",
       "      <td>2720</td>\n",
       "      <td>2004.0</td>\n",
       "      <td>NaN</td>\n",
       "    </tr>\n",
       "    <tr>\n",
       "      <th>2</th>\n",
       "      <td>27.780201</td>\n",
       "      <td>28.6875</td>\n",
       "      <td>0</td>\n",
       "      <td>2</td>\n",
       "      <td>Education</td>\n",
       "      <td>5376</td>\n",
       "      <td>1991.0</td>\n",
       "      <td>NaN</td>\n",
       "    </tr>\n",
       "    <tr>\n",
       "      <th>3</th>\n",
       "      <td>433.427765</td>\n",
       "      <td>28.6875</td>\n",
       "      <td>0</td>\n",
       "      <td>3</td>\n",
       "      <td>Education</td>\n",
       "      <td>23685</td>\n",
       "      <td>2002.0</td>\n",
       "      <td>NaN</td>\n",
       "    </tr>\n",
       "    <tr>\n",
       "      <th>4</th>\n",
       "      <td>1657.057129</td>\n",
       "      <td>28.6875</td>\n",
       "      <td>0</td>\n",
       "      <td>4</td>\n",
       "      <td>Education</td>\n",
       "      <td>116607</td>\n",
       "      <td>1975.0</td>\n",
       "      <td>NaN</td>\n",
       "    </tr>\n",
       "  </tbody>\n",
       "</table>\n",
       "</div>"
      ],
      "text/plain": [
       "             meter_reading  air_temperature  site_id  building_id primary_use  \\\n",
       "building_id                                                                     \n",
       "0               294.638458          28.6875        0            0   Education   \n",
       "1               134.672409          28.6875        0            1   Education   \n",
       "2                27.780201          28.6875        0            2   Education   \n",
       "3               433.427765          28.6875        0            3   Education   \n",
       "4              1657.057129          28.6875        0            4   Education   \n",
       "\n",
       "             square_feet  year_built  floor_count  \n",
       "building_id                                        \n",
       "0                   7432      2008.0          NaN  \n",
       "1                   2720      2004.0          NaN  \n",
       "2                   5376      1991.0          NaN  \n",
       "3                  23685      2002.0          NaN  \n",
       "4                 116607      1975.0          NaN  "
      ]
     },
     "execution_count": 170,
     "metadata": {},
     "output_type": "execute_result"
    }
   ],
   "source": [
    "build_ave = pd.DataFrame(build_ave).join(building_df, on='building_id', rsuffix='r')\n",
    "build_ave.head()"
   ]
  },
  {
   "cell_type": "code",
   "execution_count": 171,
   "metadata": {},
   "outputs": [
    {
     "data": {
      "image/png": "[encoded data removed]",
      "text/plain": [
       "<Figure size 432x288 with 1 Axes>"
      ]
     },
     "metadata": {
      "needs_background": "light"
     },
     "output_type": "display_data"
    }
   ],
   "source": [
    "build_ave.plot(x='square_feet',y='meter_reading',kind='scatter')\n",
    "plt.ylim(1,10000)\n",
    "plt.xlim(1000,800000)\n",
    "plt.yscale('log')\n",
    "plt.xscale('log')"
   ]
  },
  {
   "cell_type": "code",
   "execution_count": 172,
   "metadata": {},
   "outputs": [
    {
     "data": {
      "text/html": [
       "<div>\n",
       "<style scoped>\n",
       "    .dataframe tbody tr th:only-of-type {\n",
       "        vertical-align: middle;\n",
       "    }\n",
       "\n",
       "    .dataframe tbody tr th {\n",
       "        vertical-align: top;\n",
       "    }\n",
       "\n",
       "    .dataframe thead th {\n",
       "        text-align: right;\n",
       "    }\n",
       "</style>\n",
       "<table border=\"1\" class=\"dataframe\">\n",
       "  <thead>\n",
       "    <tr style=\"text-align: right;\">\n",
       "      <th></th>\n",
       "      <th>meter_reading</th>\n",
       "      <th>square_feet</th>\n",
       "    </tr>\n",
       "  </thead>\n",
       "  <tbody>\n",
       "    <tr>\n",
       "      <th>meter_reading</th>\n",
       "      <td>1.000000</td>\n",
       "      <td>0.599923</td>\n",
       "    </tr>\n",
       "    <tr>\n",
       "      <th>square_feet</th>\n",
       "      <td>0.599923</td>\n",
       "      <td>1.000000</td>\n",
       "    </tr>\n",
       "  </tbody>\n",
       "</table>\n",
       "</div>"
      ],
      "text/plain": [
       "               meter_reading  square_feet\n",
       "meter_reading       1.000000     0.599923\n",
       "square_feet         0.599923     1.000000"
      ]
     },
     "execution_count": 172,
     "metadata": {},
     "output_type": "execute_result"
    }
   ],
   "source": [
    "build_ave[['meter_reading','square_feet']].corr()"
   ]
  },
  {
   "cell_type": "code",
   "execution_count": 163,
   "metadata": {},
   "outputs": [],
   "source": [
    "# reg with square feet only\n",
    "#lr = LinearRegression()\n",
    "X = build_ave['square_feet']\n",
    "y = build_ave['meter_reading']\n",
    "f1= np.polyfit(X,y,1)\n"
   ]
  },
  {
   "cell_type": "code",
   "execution_count": 164,
   "metadata": {},
   "outputs": [
    {
     "data": {
      "text/plain": [
       "array([ 4.05598512e-03, -1.57823673e+02])"
      ]
     },
     "execution_count": 164,
     "metadata": {},
     "output_type": "execute_result"
    }
   ],
   "source": [
    "f1"
   ]
  },
  {
   "cell_type": "code",
   "execution_count": 165,
   "metadata": {},
   "outputs": [
    {
     "data": {
      "text/plain": [
       "array([[1.        , 0.61273966],\n",
       "       [0.61273966, 1.        ]])"
      ]
     },
     "execution_count": 165,
     "metadata": {},
     "output_type": "execute_result"
    }
   ],
   "source": [
    "np.corrcoef(X,y)"
   ]
  },
  {
   "cell_type": "code",
   "execution_count": 153,
   "metadata": {},
   "outputs": [
    {
     "data": {
      "text/plain": [
       "(532, 2)"
      ]
     },
     "execution_count": 153,
     "metadata": {},
     "output_type": "execute_result"
    }
   ],
   "source": [
    "X = np.array( [np.log(build_ave['square_feet']), build_ave['air_temperature']] )\n",
    "X = np.transpose(X)\n",
    "X.shape"
   ]
  },
  {
   "cell_type": "code",
   "execution_count": 173,
   "metadata": {},
   "outputs": [
    {
     "data": {
      "text/plain": [
       "LinearRegression(copy_X=True, fit_intercept=True, n_jobs=None, normalize=False)"
      ]
     },
     "execution_count": 173,
     "metadata": {},
     "output_type": "execute_result"
    }
   ],
   "source": [
    "\n",
    "lr = LinearRegression()\n",
    "X = np.array( [np.log(build_ave['square_feet']), build_ave['air_temperature']] )\n",
    "X = np.transpose(X)\n",
    "\n",
    "y = np.log(build_ave['meter_reading']+1)\n",
    "lr.fit(X,y)"
   ]
  },
  {
   "cell_type": "code",
   "execution_count": 174,
   "metadata": {},
   "outputs": [
    {
     "data": {
      "text/plain": [
       "0.5000417453176721"
      ]
     },
     "execution_count": 174,
     "metadata": {},
     "output_type": "execute_result"
    }
   ],
   "source": [
    "lr.score(X,y)"
   ]
  },
  {
   "cell_type": "code",
   "execution_count": 156,
   "metadata": {},
   "outputs": [],
   "source": [
    "pred = lr.predict(X)"
   ]
  },
  {
   "cell_type": "code",
   "execution_count": 161,
   "metadata": {},
   "outputs": [
    {
     "data": {
      "text/plain": [
       "[<matplotlib.lines.Line2D at 0x174a5723e48>]"
      ]
     },
     "execution_count": 161,
     "metadata": {},
     "output_type": "execute_result"
    },
    {
     "data": {
      "image/png": "[encoded data removed]",
      "text/plain": [
       "<Figure size 432x288 with 1 Axes>"
      ]
     },
     "metadata": {
      "needs_background": "light"
     },
     "output_type": "display_data"
    }
   ],
   "source": [
    "fig = plt.figure()\n",
    "ax = fig.add_subplot()\n",
    "ax.plot(pred,y,marker='.',linewidth=0)\n",
    "ax.plot([0 ,8],[0,8])\n",
    "#plt.xscale('log')\n",
    "#plt.yscale('log')"
   ]
  },
  {
   "cell_type": "code",
   "execution_count": 55,
   "metadata": {},
   "outputs": [
    {
     "data": {
      "image/png": "[encoded data removed]",
      "text/plain": [
       "<Figure size 432x288 with 1 Axes>"
      ]
     },
     "metadata": {
      "needs_background": "light"
     },
     "output_type": "display_data"
    }
   ],
   "source": [
    "bid = 1\n",
    "bb = tb_edu0[tb_edu0['building_id']==bid];\n",
    "bb.groupby('weeknumber')['meter_reading'].mean().plot();\n",
    "plt.grid()"
   ]
  },
  {
   "cell_type": "markdown",
   "metadata": {},
   "source": [
    "# Regressions"
   ]
  },
  {
   "cell_type": "code",
   "execution_count": 26,
   "metadata": {},
   "outputs": [],
   "source": [
    "use_list = np.unique(building_df['primary_use'])\n",
    "meter_list = np.arange(0,4)\n",
    "features_list=['weeknumber','weekday','hour','log_square_feet','air_temperature']"
   ]
  },
  {
   "cell_type": "code",
   "execution_count": 30,
   "metadata": {},
   "outputs": [
    {
     "data": {
      "text/plain": [
       "'Education'"
      ]
     },
     "execution_count": 30,
     "metadata": {},
     "output_type": "execute_result"
    }
   ],
   "source": [
    "use_list[0]"
   ]
  },
  {
   "cell_type": "code",
   "execution_count": 36,
   "metadata": {},
   "outputs": [
    {
     "name": "stdout",
     "output_type": "stream",
     "text": [
      "---------------------\n",
      "Extracting data for:  Education 0\n",
      "\n",
      "4577522 datapoints\n",
      "Train-test split...\n",
      "X_train shape:  (3433141, 5)\n",
      "X_test shape:  (1144381, 5)\n",
      "Fitting model...\n",
      "Fit in 21.8s\n",
      "Validating...\n",
      "R2 : 0.973198610428083\n",
      "MSE : 0.08369786091096103\n",
      "Done\n",
      "\n",
      "---------------------\n",
      "Extracting data for:  Education 1\n",
      "\n",
      "1812418 datapoints\n",
      "Train-test split...\n",
      "X_train shape:  (1359313, 5)\n",
      "X_test shape:  (453105, 5)\n",
      "Fitting model...\n",
      "Fit in 7.5s\n",
      "Validating...\n",
      "R2 : 0.9010963627059718\n",
      "MSE : 0.6683176555659004\n",
      "Done\n",
      "\n",
      "---------------------\n",
      "Extracting data for:  Education 2\n",
      "\n",
      "1125729 datapoints\n",
      "Train-test split...\n",
      "X_train shape:  (844296, 5)\n",
      "X_test shape:  (281433, 5)\n",
      "Fitting model...\n",
      "Fit in 4.5s\n",
      "Validating...\n",
      "R2 : 0.8295194146994276\n",
      "MSE : 1.2436525095256816\n",
      "Done\n",
      "\n",
      "---------------------\n",
      "Extracting data for:  Education 3\n",
      "\n",
      "606440 datapoints\n",
      "Train-test split...\n",
      "X_train shape:  (454830, 5)\n",
      "X_test shape:  (151610, 5)\n",
      "Fitting model...\n",
      "Fit in 1.9s\n",
      "Validating...\n",
      "R2 : 0.8449321368327856\n",
      "MSE : 1.0107098030554085\n",
      "Done\n",
      "\n",
      "---------------------\n",
      "Extracting data for:  Entertainment/public assembly 0\n",
      "\n",
      "1505695 datapoints\n",
      "Train-test split...\n",
      "X_train shape:  (1129271, 5)\n",
      "X_test shape:  (376424, 5)\n",
      "Fitting model...\n",
      "Fit in 5.4s\n",
      "Validating...\n",
      "R2 : 0.9737906101003185\n",
      "MSE : 0.08463362636391825\n",
      "Done\n",
      "\n",
      "---------------------\n",
      "Extracting data for:  Entertainment/public assembly 1\n",
      "\n",
      "369548 datapoints\n",
      "Train-test split...\n",
      "X_train shape:  (277161, 5)\n",
      "X_test shape:  (92387, 5)\n",
      "Fitting model...\n",
      "Fit in 1.0s\n",
      "Validating...\n",
      "R2 : 0.9155780738904288\n",
      "MSE : 0.5492630969032647\n",
      "Done\n",
      "\n",
      "---------------------\n",
      "Extracting data for:  Entertainment/public assembly 2\n",
      "\n",
      "240055 datapoints\n",
      "Train-test split...\n",
      "X_train shape:  (180041, 5)\n",
      "X_test shape:  (60014, 5)\n",
      "Fitting model...\n",
      "Fit in 0.7s\n",
      "Validating...\n",
      "R2 : 0.687538911258422\n",
      "MSE : 1.6498138587934648\n",
      "Done\n",
      "\n",
      "---------------------\n",
      "Extracting data for:  Entertainment/public assembly 3\n",
      "\n",
      "138796 datapoints\n",
      "Train-test split...\n",
      "X_train shape:  (104097, 5)\n",
      "X_test shape:  (34699, 5)\n",
      "Fitting model...\n",
      "Fit in 0.3s\n",
      "Validating...\n",
      "R2 : 0.6288464604557578\n",
      "MSE : 3.2496417414656253\n",
      "Done\n",
      "\n",
      "---------------------\n",
      "Extracting data for:  Food sales and service 0\n",
      "\n",
      "43804 datapoints\n",
      "Train-test split...\n",
      "X_train shape:  (32853, 5)\n",
      "X_test shape:  (10951, 5)\n",
      "Fitting model...\n",
      "Fit in 0.1s\n",
      "Validating...\n",
      "R2 : 0.8432779536538808\n",
      "MSE : 0.10599970498886324\n",
      "Done\n",
      "\n",
      "---------------------\n",
      "Extracting data for:  Food sales and service 1\n",
      "\n",
      "35112 datapoints\n",
      "Train-test split...\n",
      "X_train shape:  (26334, 5)\n",
      "X_test shape:  (8778, 5)\n",
      "Fitting model...\n",
      "Fit in 0.1s\n",
      "Validating...\n",
      "R2 : 0.9134639015509839\n",
      "MSE : 0.451382034809537\n",
      "Done\n",
      "\n",
      "---------------------\n",
      "Extracting data for:  Food sales and service 2\n",
      "\n",
      "17558 datapoints\n",
      "Train-test split...\n",
      "X_train shape:  (13168, 5)\n",
      "X_test shape:  (4390, 5)\n",
      "Fitting model...\n",
      "Fit in 0.0s\n",
      "Validating...\n",
      "R2 : 0.7151943320043355\n",
      "MSE : 0.4101469576487442\n",
      "Done\n",
      "\n",
      "---------------------\n",
      "Extracting data for:  Food sales and service 3\n",
      "\n",
      "17554 datapoints\n",
      "Train-test split...\n",
      "X_train shape:  (13165, 5)\n",
      "X_test shape:  (4389, 5)\n",
      "Fitting model...\n",
      "Fit in 0.0s\n",
      "Validating...\n",
      "R2 : 0.8165115952191117\n",
      "MSE : 0.4517732813357167\n",
      "Done\n",
      "\n",
      "---------------------\n",
      "Extracting data for:  Healthcare 0\n",
      "\n",
      "184178 datapoints\n",
      "Train-test split...\n",
      "X_train shape:  (138133, 5)\n",
      "X_test shape:  (46045, 5)\n",
      "Fitting model...\n",
      "Fit in 0.5s\n",
      "Validating...\n",
      "R2 : 0.9474480353222388\n",
      "MSE : 0.1341312392957663\n",
      "Done\n",
      "\n",
      "---------------------\n",
      "Extracting data for:  Healthcare 1\n",
      "\n",
      "110967 datapoints\n",
      "Train-test split...\n",
      "X_train shape:  (83225, 5)\n",
      "X_test shape:  (27742, 5)\n",
      "Fitting model...\n",
      "Fit in 0.3s\n",
      "Validating...\n",
      "R2 : 0.9283383003476186\n",
      "MSE : 0.5073536550715877\n",
      "Done\n",
      "\n",
      "---------------------\n",
      "Extracting data for:  Healthcare 2\n",
      "\n",
      "77461 datapoints\n",
      "Train-test split...\n",
      "X_train shape:  (58095, 5)\n",
      "X_test shape:  (19366, 5)\n",
      "Fitting model...\n",
      "Fit in 0.2s\n",
      "Validating...\n",
      "R2 : 0.9031047251664668\n",
      "MSE : 0.9520843463017318\n",
      "Done\n",
      "\n",
      "---------------------\n",
      "Extracting data for:  Healthcare 3\n",
      "\n",
      "25322 datapoints\n",
      "Train-test split...\n",
      "X_train shape:  (18991, 5)\n",
      "X_test shape:  (6331, 5)\n",
      "Fitting model...\n",
      "Fit in 0.1s\n",
      "Validating...\n",
      "R2 : 0.9009747509514844\n",
      "MSE : 0.8119561649114084\n",
      "Done\n",
      "\n",
      "---------------------\n",
      "Extracting data for:  Lodging/residential 0\n",
      "\n",
      "1219932 datapoints\n",
      "Train-test split...\n",
      "X_train shape:  (914949, 5)\n",
      "X_test shape:  (304983, 5)\n",
      "Fitting model...\n",
      "Fit in 4.1s\n",
      "Validating...\n",
      "R2 : 0.9767699737689878\n",
      "MSE : 0.06263977289343638\n",
      "Done\n",
      "\n",
      "---------------------\n",
      "Extracting data for:  Lodging/residential 1\n",
      "\n",
      "454137 datapoints\n",
      "Train-test split...\n",
      "X_train shape:  (340602, 5)\n",
      "X_test shape:  (113535, 5)\n",
      "Fitting model...\n",
      "Fit in 1.3s\n",
      "Validating...\n",
      "R2 : 0.8746208308901982\n",
      "MSE : 0.6426148957313107\n",
      "Done\n",
      "\n",
      "---------------------\n",
      "Extracting data for:  Lodging/residential 2\n",
      "\n",
      "360378 datapoints\n",
      "Train-test split...\n",
      "X_train shape:  (270283, 5)\n",
      "X_test shape:  (90095, 5)\n",
      "Fitting model...\n",
      "Fit in 1.0s\n",
      "Validating...\n",
      "R2 : 0.7604076194269256\n",
      "MSE : 1.474457950769702\n",
      "Done\n",
      "\n",
      "---------------------\n",
      "Extracting data for:  Lodging/residential 3\n",
      "\n",
      "95816 datapoints\n",
      "Train-test split...\n",
      "X_train shape:  (71862, 5)\n",
      "X_test shape:  (23954, 5)\n",
      "Fitting model...\n",
      "Fit in 0.2s\n",
      "Validating...\n",
      "R2 : 0.8414654382202855\n",
      "MSE : 0.4758831592248991\n",
      "Done\n",
      "\n",
      "---------------------\n",
      "Extracting data for:  Manufacturing/industrial 0\n",
      "\n",
      "84521 datapoints\n",
      "Train-test split...\n",
      "X_train shape:  (63390, 5)\n",
      "X_test shape:  (21131, 5)\n",
      "Fitting model...\n",
      "Fit in 0.2s\n",
      "Validating...\n",
      "R2 : 0.9514712240984419\n",
      "MSE : 0.06718853632670863\n",
      "Done\n",
      "\n",
      "---------------------\n",
      "Extracting data for:  Manufacturing/industrial 1\n",
      "\n",
      "6405 datapoints\n",
      "Train-test split...\n",
      "X_train shape:  (4803, 5)\n",
      "X_test shape:  (1602, 5)\n",
      "Fitting model...\n",
      "Fit in 0.0s\n",
      "Validating...\n",
      "R2 : 0.9425049184580452\n",
      "MSE : 0.24936595641727732\n",
      "Done\n",
      "\n",
      "---------------------\n",
      "Extracting data for:  Manufacturing/industrial 2\n",
      "\n",
      "33518 datapoints\n",
      "Train-test split...\n",
      "X_train shape:  (25138, 5)\n",
      "X_test shape:  (8380, 5)\n",
      "Fitting model...\n",
      "Fit in 0.1s\n",
      "Validating...\n",
      "R2 : 0.7858995940792839\n",
      "MSE : 0.6575818873338956\n",
      "Done\n",
      "\n",
      "---------------------\n",
      "Extracting data for:  Manufacturing/industrial 3\n",
      "\n",
      "0 datapoints\n",
      "---------------------\n",
      "Extracting data for:  Office 0\n",
      "\n",
      "2302813 datapoints\n",
      "Train-test split...\n",
      "X_train shape:  (1727109, 5)\n",
      "X_test shape:  (575704, 5)\n",
      "Fitting model...\n",
      "Fit in 9.1s\n",
      "Validating...\n",
      "R2 : 0.9726823462019244\n",
      "MSE : 0.07032812020900625\n",
      "Done\n",
      "\n",
      "---------------------\n",
      "Extracting data for:  Office 1\n",
      "\n",
      "1112021 datapoints\n",
      "Train-test split...\n",
      "X_train shape:  (834015, 5)\n",
      "X_test shape:  (278006, 5)\n",
      "Fitting model...\n",
      "Fit in 3.8s\n",
      "Validating...\n",
      "R2 : 0.9020509016859136\n",
      "MSE : 0.5748214376633167\n",
      "Done\n",
      "\n",
      "---------------------\n",
      "Extracting data for:  Office 2\n",
      "\n",
      "674002 datapoints\n",
      "Train-test split...\n",
      "X_train shape:  (505501, 5)\n",
      "X_test shape:  (168501, 5)\n",
      "Fitting model...\n",
      "Fit in 2.2s\n",
      "Validating...\n",
      "R2 : 0.8509746707743456\n",
      "MSE : 1.0122086000053605\n",
      "Done\n",
      "\n",
      "---------------------\n",
      "Extracting data for:  Office 3\n",
      "\n",
      "289434 datapoints\n",
      "Train-test split...\n",
      "X_train shape:  (217075, 5)\n",
      "X_test shape:  (72359, 5)\n",
      "Fitting model...\n",
      "Fit in 0.8s\n",
      "Validating...\n",
      "R2 : 0.7756708399737429\n",
      "MSE : 1.5805822049919018\n",
      "Done\n",
      "\n",
      "---------------------\n",
      "Extracting data for:  Other 0\n",
      "\n",
      "210579 datapoints\n",
      "Train-test split...\n",
      "X_train shape:  (157934, 5)\n",
      "X_test shape:  (52645, 5)\n",
      "Fitting model...\n",
      "Fit in 0.5s\n",
      "Validating...\n",
      "R2 : 0.9666628015401111\n",
      "MSE : 0.0904392783854185\n",
      "Done\n",
      "\n",
      "---------------------\n",
      "Extracting data for:  Other 1\n",
      "\n",
      "22623 datapoints\n",
      "Train-test split...\n",
      "X_train shape:  (16967, 5)\n",
      "X_test shape:  (5656, 5)\n",
      "Fitting model...\n",
      "Fit in 0.0s\n",
      "Validating...\n",
      "R2 : 0.8529024892192453\n",
      "MSE : 1.400675363138642\n",
      "Done\n",
      "\n",
      "---------------------\n",
      "Extracting data for:  Other 2\n",
      "\n",
      "8782 datapoints\n",
      "Train-test split...\n",
      "X_train shape:  (6586, 5)\n",
      "X_test shape:  (2196, 5)\n",
      "Fitting model...\n",
      "Fit in 0.0s\n",
      "Validating...\n",
      "R2 : 0.9170012044334956\n",
      "MSE : 0.26744473909097777\n",
      "Done\n",
      "\n",
      "---------------------\n",
      "Extracting data for:  Other 3\n",
      "\n",
      "0 datapoints\n",
      "---------------------\n",
      "Extracting data for:  Parking 0\n",
      "\n",
      "187393 datapoints\n",
      "Train-test split...\n",
      "X_train shape:  (140544, 5)\n",
      "X_test shape:  (46849, 5)\n",
      "Fitting model...\n",
      "Fit in 0.4s\n",
      "Validating...\n",
      "R2 : 0.9354809917215569\n",
      "MSE : 0.16336909282142284\n",
      "Done\n",
      "\n",
      "---------------------\n",
      "Extracting data for:  Parking 1\n",
      "\n",
      "8779 datapoints\n",
      "Train-test split...\n",
      "X_train shape:  (6584, 5)\n",
      "X_test shape:  (2195, 5)\n",
      "Fitting model...\n",
      "Fit in 0.0s\n",
      "Validating...\n",
      "R2 : 0.8933957986507809\n",
      "MSE : 0.056361646215124135\n",
      "Done\n",
      "\n",
      "---------------------\n",
      "Extracting data for:  Parking 2\n",
      "\n"
     ]
    },
    {
     "name": "stdout",
     "output_type": "stream",
     "text": [
      "17564 datapoints\n",
      "Train-test split...\n",
      "X_train shape:  (13173, 5)\n",
      "X_test shape:  (4391, 5)\n",
      "Fitting model...\n",
      "Fit in 0.1s\n",
      "Validating...\n",
      "R2 : 0.8355755278291275\n",
      "MSE : 0.4490471166580793\n",
      "Done\n",
      "\n",
      "---------------------\n",
      "Extracting data for:  Parking 3\n",
      "\n",
      "0 datapoints\n",
      "---------------------\n",
      "Extracting data for:  Public services 0\n",
      "\n",
      "1317166 datapoints\n",
      "Train-test split...\n",
      "X_train shape:  (987874, 5)\n",
      "X_test shape:  (329292, 5)\n",
      "Fitting model...\n",
      "Fit in 5.4s\n",
      "Validating...\n",
      "R2 : 0.9691700619321588\n",
      "MSE : 0.05067697845687203\n",
      "Done\n",
      "\n",
      "---------------------\n",
      "Extracting data for:  Public services 1\n",
      "\n",
      "179273 datapoints\n",
      "Train-test split...\n",
      "X_train shape:  (134454, 5)\n",
      "X_test shape:  (44819, 5)\n",
      "Fitting model...\n",
      "Fit in 0.7s\n",
      "Validating...\n",
      "R2 : 0.8508244253244648\n",
      "MSE : 0.8734500579873715\n",
      "Done\n",
      "\n",
      "---------------------\n",
      "Extracting data for:  Public services 2\n",
      "\n",
      "82960 datapoints\n",
      "Train-test split...\n",
      "X_train shape:  (62220, 5)\n",
      "X_test shape:  (20740, 5)\n",
      "Fitting model...\n",
      "Fit in 0.2s\n",
      "Validating...\n",
      "R2 : 0.8625343406828296\n",
      "MSE : 0.8839143401735458\n",
      "Done\n",
      "\n",
      "---------------------\n",
      "Extracting data for:  Public services 3\n",
      "\n",
      "78928 datapoints\n",
      "Train-test split...\n",
      "X_train shape:  (59196, 5)\n",
      "X_test shape:  (19732, 5)\n",
      "Fitting model...\n",
      "Fit in 0.2s\n",
      "Validating...\n",
      "R2 : 0.7842422434114468\n",
      "MSE : 1.5494974295889818\n",
      "Done\n",
      "\n",
      "---------------------\n",
      "Extracting data for:  Religious worship 0\n",
      "\n",
      "24728 datapoints\n",
      "Train-test split...\n",
      "X_train shape:  (18546, 5)\n",
      "X_test shape:  (6182, 5)\n",
      "Fitting model...\n",
      "Fit in 0.1s\n",
      "Validating...\n",
      "R2 : 0.8426245434433051\n",
      "MSE : 0.07631229045310157\n",
      "Done\n",
      "\n",
      "---------------------\n",
      "Extracting data for:  Religious worship 1\n",
      "\n",
      "7042 datapoints\n",
      "Train-test split...\n",
      "X_train shape:  (5281, 5)\n",
      "X_test shape:  (1761, 5)\n",
      "Fitting model...\n",
      "Fit in 0.0s\n",
      "Validating...\n",
      "R2 : 0.9146163771469101\n",
      "MSE : 0.027319291076495392\n",
      "Done\n",
      "\n",
      "---------------------\n",
      "Extracting data for:  Religious worship 2\n",
      "\n",
      "0 datapoints\n",
      "---------------------\n",
      "Extracting data for:  Religious worship 3\n",
      "\n",
      "0 datapoints\n",
      "---------------------\n",
      "Extracting data for:  Retail 0\n",
      "\n",
      "96503 datapoints\n",
      "Train-test split...\n",
      "X_train shape:  (72377, 5)\n",
      "X_test shape:  (24126, 5)\n",
      "Fitting model...\n",
      "Fit in 0.2s\n",
      "Validating...\n",
      "R2 : 0.982791012283089\n",
      "MSE : 0.07552276783272707\n",
      "Done\n",
      "\n",
      "---------------------\n",
      "Extracting data for:  Retail 1\n",
      "\n",
      "16037 datapoints\n",
      "Train-test split...\n",
      "X_train shape:  (12027, 5)\n",
      "X_test shape:  (4010, 5)\n",
      "Fitting model...\n",
      "Fit in 0.1s\n",
      "Validating...\n",
      "R2 : 0.8585277899766923\n",
      "MSE : 0.6881522260587241\n",
      "Done\n",
      "\n",
      "---------------------\n",
      "Extracting data for:  Retail 2\n",
      "\n",
      "0 datapoints\n",
      "---------------------\n",
      "Extracting data for:  Retail 3\n",
      "\n",
      "0 datapoints\n",
      "---------------------\n",
      "Extracting data for:  Services 0\n",
      "\n",
      "78898 datapoints\n",
      "Train-test split...\n",
      "X_train shape:  (59173, 5)\n",
      "X_test shape:  (19725, 5)\n",
      "Fitting model...\n",
      "Fit in 0.3s\n",
      "Validating...\n",
      "R2 : 0.953318964112275\n",
      "MSE : 0.04246696346067032\n",
      "Done\n",
      "\n",
      "---------------------\n",
      "Extracting data for:  Services 1\n",
      "\n",
      "0 datapoints\n",
      "---------------------\n",
      "Extracting data for:  Services 2\n",
      "\n",
      "17564 datapoints\n",
      "Train-test split...\n",
      "X_train shape:  (13173, 5)\n",
      "X_test shape:  (4391, 5)\n",
      "Fitting model...\n",
      "Fit in 0.1s\n",
      "Validating...\n",
      "R2 : 0.8989489093346038\n",
      "MSE : 1.7755525103032694\n",
      "Done\n",
      "\n",
      "---------------------\n",
      "Extracting data for:  Services 3\n",
      "\n",
      "0 datapoints\n",
      "---------------------\n",
      "Extracting data for:  Technology/science 0\n",
      "\n",
      "44945 datapoints\n",
      "Train-test split...\n",
      "X_train shape:  (33708, 5)\n",
      "X_test shape:  (11237, 5)\n",
      "Fitting model...\n",
      "Fit in 0.2s\n",
      "Validating...\n",
      "R2 : 0.9808685593027027\n",
      "MSE : 0.010726393501772043\n",
      "Done\n",
      "\n",
      "---------------------\n",
      "Extracting data for:  Technology/science 1\n",
      "\n",
      "15795 datapoints\n",
      "Train-test split...\n",
      "X_train shape:  (11846, 5)\n",
      "X_test shape:  (3949, 5)\n",
      "Fitting model...\n",
      "Fit in 0.0s\n",
      "Validating...\n",
      "R2 : 0.8224946088951397\n",
      "MSE : 0.9459085589077615\n",
      "Done\n",
      "\n",
      "---------------------\n",
      "Extracting data for:  Technology/science 2\n",
      "\n",
      "7176 datapoints\n",
      "Train-test split...\n",
      "X_train shape:  (5382, 5)\n",
      "X_test shape:  (1794, 5)\n",
      "Fitting model...\n",
      "Fit in 0.0s\n",
      "Validating...\n",
      "R2 : 0.7960158816321606\n",
      "MSE : 0.21020001056251972\n",
      "Done\n",
      "\n",
      "---------------------\n",
      "Extracting data for:  Technology/science 3\n",
      "\n",
      "8748 datapoints\n",
      "Train-test split...\n",
      "X_train shape:  (6561, 5)\n",
      "X_test shape:  (2187, 5)\n",
      "Fitting model...\n",
      "Fit in 0.0s\n",
      "Validating...\n",
      "R2 : 0.5448425155886927\n",
      "MSE : 4.545503544118313\n",
      "Done\n",
      "\n",
      "---------------------\n",
      "Extracting data for:  Utility 0\n",
      "\n",
      "31881 datapoints\n",
      "Train-test split...\n",
      "X_train shape:  (23910, 5)\n",
      "X_test shape:  (7971, 5)\n",
      "Fitting model...\n",
      "Fit in 0.1s\n",
      "Validating...\n",
      "R2 : 0.8923780579893401\n",
      "MSE : 0.11879070062761216\n",
      "Done\n",
      "\n",
      "---------------------\n",
      "Extracting data for:  Utility 1\n",
      "\n",
      "8781 datapoints\n",
      "Train-test split...\n",
      "X_train shape:  (6585, 5)\n",
      "X_test shape:  (2196, 5)\n",
      "Fitting model...\n",
      "Fit in 0.0s\n",
      "Validating...\n",
      "R2 : 0.9298938874086997\n",
      "MSE : 0.040646259862166086\n",
      "Done\n",
      "\n",
      "---------------------\n",
      "Extracting data for:  Utility 2\n",
      "\n",
      "14352 datapoints\n",
      "Train-test split...\n",
      "X_train shape:  (10764, 5)\n",
      "X_test shape:  (3588, 5)\n",
      "Fitting model...\n",
      "Fit in 0.0s\n",
      "Validating...\n",
      "R2 : 0.8002798704140706\n",
      "MSE : 0.1768216978203713\n",
      "Done\n",
      "\n",
      "---------------------\n",
      "Extracting data for:  Utility 3\n",
      "\n",
      "0 datapoints\n",
      "---------------------\n",
      "Extracting data for:  Warehouse/storage 0\n",
      "\n",
      "103027 datapoints\n",
      "Train-test split...\n",
      "X_train shape:  (77270, 5)\n",
      "X_test shape:  (25757, 5)\n",
      "Fitting model...\n",
      "Fit in 0.3s\n",
      "Validating...\n",
      "R2 : 0.9591237738261262\n",
      "MSE : 0.0656186224177005\n",
      "Done\n",
      "\n",
      "---------------------\n",
      "Extracting data for:  Warehouse/storage 1\n",
      "\n",
      "0 datapoints\n",
      "---------------------\n",
      "Extracting data for:  Warehouse/storage 2\n",
      "\n",
      "8782 datapoints\n",
      "Train-test split...\n",
      "X_train shape:  (6586, 5)\n",
      "X_test shape:  (2196, 5)\n",
      "Fitting model...\n",
      "Fit in 0.0s\n",
      "Validating...\n",
      "R2 : 0.9653201177668638\n",
      "MSE : 0.2006147661757502\n",
      "Done\n",
      "\n",
      "---------------------\n",
      "Extracting data for:  Warehouse/storage 3\n",
      "\n",
      "0 datapoints\n"
     ]
    }
   ],
   "source": [
    "from sklearn.model_selection import train_test_split\n",
    "from sklearn.tree import DecisionTreeRegressor\n",
    "from sklearn.metrics import r2_score, mean_squared_error\n",
    "\n",
    "out = []\n",
    "dtrs = []\n",
    "for use in use_list:\n",
    "    for meter in meter_list:\n",
    "        print('---------------------')\n",
    "        print('Extracting data for: ', use, meter)\n",
    "        print('')\n",
    "        # extract by primary use and meter value\n",
    "        sub_df = tbw[(tbw['primary_use']== use) & (tbw['meter']==meter)]\n",
    "        \n",
    "        X=sub_df[features_list]\n",
    "        y=sub_df['log_meter_reading']\n",
    "        \n",
    "        #eliminate points with no temperature\n",
    "        cond = ~X['air_temperature'].isnull() \n",
    "        print(sum(cond),'datapoints')\n",
    "        X = X[cond]\n",
    "        y = y[cond]\n",
    "        \n",
    "        if len(y)==0:\n",
    "            continue        \n",
    "        \n",
    "        print('Train-test split...')\n",
    "        # train-test split\n",
    "        X_train, X_test, y_train, y_test = train_test_split(X,y,train_size = 0.75, random_state=42)\n",
    "        print('X_train shape: ', X_train.shape)\n",
    "        print('X_test shape: ', X_test.shape)\n",
    "\n",
    "        # fit\n",
    "        print('Fitting model...')\n",
    "        t0 = time()\n",
    "        dtr = DecisionTreeRegressor(min_samples_leaf = 1, min_samples_split=2)\n",
    "        dtr.fit(X_train,y_train)\n",
    "        print('Fit in {:.1f}s'.format(time()-t0) )\n",
    "        \n",
    "        print('Validating...')\n",
    "        # predict\n",
    "        pred = dtr.predict(X_test)\n",
    "        \n",
    "        # validate model\n",
    "        R2 = r2_score(y_test,pred)\n",
    "        mse = mean_squared_error(y_test,pred)\n",
    "        print('R2 :', R2)\n",
    "        print('MSE :', mse)\n",
    "        \n",
    "        # attach results\n",
    "        out.append([use, meter, len(y), R2, mse])\n",
    "        dtrs.append(dtr)\n",
    "        print('Done')\n",
    "        print('')\n",
    "        \n",
    "        "
   ]
  },
  {
   "cell_type": "code",
   "execution_count": 38,
   "metadata": {},
   "outputs": [
    {
     "data": {
      "text/html": [
       "<div>\n",
       "<style scoped>\n",
       "    .dataframe tbody tr th:only-of-type {\n",
       "        vertical-align: middle;\n",
       "    }\n",
       "\n",
       "    .dataframe tbody tr th {\n",
       "        vertical-align: top;\n",
       "    }\n",
       "\n",
       "    .dataframe thead th {\n",
       "        text-align: right;\n",
       "    }\n",
       "</style>\n",
       "<table border=\"1\" class=\"dataframe\">\n",
       "  <thead>\n",
       "    <tr style=\"text-align: right;\">\n",
       "      <th></th>\n",
       "      <th>use</th>\n",
       "      <th>meter</th>\n",
       "      <th>n_data</th>\n",
       "      <th>R2</th>\n",
       "      <th>mse</th>\n",
       "    </tr>\n",
       "  </thead>\n",
       "  <tbody>\n",
       "    <tr>\n",
       "      <th>0</th>\n",
       "      <td>Education</td>\n",
       "      <td>0</td>\n",
       "      <td>4577522</td>\n",
       "      <td>0.973199</td>\n",
       "      <td>0.083698</td>\n",
       "    </tr>\n",
       "    <tr>\n",
       "      <th>1</th>\n",
       "      <td>Education</td>\n",
       "      <td>1</td>\n",
       "      <td>1812418</td>\n",
       "      <td>0.901096</td>\n",
       "      <td>0.668318</td>\n",
       "    </tr>\n",
       "    <tr>\n",
       "      <th>2</th>\n",
       "      <td>Education</td>\n",
       "      <td>2</td>\n",
       "      <td>1125729</td>\n",
       "      <td>0.829519</td>\n",
       "      <td>1.243653</td>\n",
       "    </tr>\n",
       "    <tr>\n",
       "      <th>3</th>\n",
       "      <td>Education</td>\n",
       "      <td>3</td>\n",
       "      <td>606440</td>\n",
       "      <td>0.844932</td>\n",
       "      <td>1.010710</td>\n",
       "    </tr>\n",
       "    <tr>\n",
       "      <th>4</th>\n",
       "      <td>Entertainment/public assembly</td>\n",
       "      <td>0</td>\n",
       "      <td>1505695</td>\n",
       "      <td>0.973791</td>\n",
       "      <td>0.084634</td>\n",
       "    </tr>\n",
       "  </tbody>\n",
       "</table>\n",
       "</div>"
      ],
      "text/plain": [
       "                             use  meter   n_data        R2       mse\n",
       "0                      Education      0  4577522  0.973199  0.083698\n",
       "1                      Education      1  1812418  0.901096  0.668318\n",
       "2                      Education      2  1125729  0.829519  1.243653\n",
       "3                      Education      3   606440  0.844932  1.010710\n",
       "4  Entertainment/public assembly      0  1505695  0.973791  0.084634"
      ]
     },
     "execution_count": 38,
     "metadata": {},
     "output_type": "execute_result"
    }
   ],
   "source": [
    "res =pd.DataFrame(out,columns=['use','meter','n_data','R2','mse'])\n",
    "res.head()"
   ]
  },
  {
   "cell_type": "code",
   "execution_count": 85,
   "metadata": {},
   "outputs": [
    {
     "data": {
      "text/html": [
       "<div>\n",
       "<style scoped>\n",
       "    .dataframe tbody tr th:only-of-type {\n",
       "        vertical-align: middle;\n",
       "    }\n",
       "\n",
       "    .dataframe tbody tr th {\n",
       "        vertical-align: top;\n",
       "    }\n",
       "\n",
       "    .dataframe thead th {\n",
       "        text-align: right;\n",
       "    }\n",
       "</style>\n",
       "<table border=\"1\" class=\"dataframe\">\n",
       "  <thead>\n",
       "    <tr style=\"text-align: right;\">\n",
       "      <th></th>\n",
       "      <th>use</th>\n",
       "      <th>meter</th>\n",
       "      <th>n_data</th>\n",
       "      <th>R2</th>\n",
       "      <th>mse</th>\n",
       "    </tr>\n",
       "  </thead>\n",
       "  <tbody>\n",
       "    <tr>\n",
       "      <th>46</th>\n",
       "      <td>Technology/science</td>\n",
       "      <td>3</td>\n",
       "      <td>8748</td>\n",
       "      <td>0.544843</td>\n",
       "      <td>4.545504</td>\n",
       "    </tr>\n",
       "    <tr>\n",
       "      <th>7</th>\n",
       "      <td>Entertainment/public assembly</td>\n",
       "      <td>3</td>\n",
       "      <td>138796</td>\n",
       "      <td>0.628846</td>\n",
       "      <td>3.249642</td>\n",
       "    </tr>\n",
       "    <tr>\n",
       "      <th>42</th>\n",
       "      <td>Services</td>\n",
       "      <td>2</td>\n",
       "      <td>17564</td>\n",
       "      <td>0.898949</td>\n",
       "      <td>1.775553</td>\n",
       "    </tr>\n",
       "    <tr>\n",
       "      <th>6</th>\n",
       "      <td>Entertainment/public assembly</td>\n",
       "      <td>2</td>\n",
       "      <td>240055</td>\n",
       "      <td>0.687539</td>\n",
       "      <td>1.649814</td>\n",
       "    </tr>\n",
       "    <tr>\n",
       "      <th>26</th>\n",
       "      <td>Office</td>\n",
       "      <td>3</td>\n",
       "      <td>289434</td>\n",
       "      <td>0.775671</td>\n",
       "      <td>1.580582</td>\n",
       "    </tr>\n",
       "  </tbody>\n",
       "</table>\n",
       "</div>"
      ],
      "text/plain": [
       "                              use  meter  n_data        R2       mse\n",
       "46             Technology/science      3    8748  0.544843  4.545504\n",
       "7   Entertainment/public assembly      3  138796  0.628846  3.249642\n",
       "42                       Services      2   17564  0.898949  1.775553\n",
       "6   Entertainment/public assembly      2  240055  0.687539  1.649814\n",
       "26                         Office      3  289434  0.775671  1.580582"
      ]
     },
     "execution_count": 85,
     "metadata": {},
     "output_type": "execute_result"
    }
   ],
   "source": [
    "res_sort = res.sort_values(by='mse', ascending=False)\n",
    "res_sort.head()"
   ]
  },
  {
   "cell_type": "code",
   "execution_count": 104,
   "metadata": {},
   "outputs": [
    {
     "data": {
      "text/plain": [
       "Int64Index([46,  7, 42,  6, 26, 36, 18, 28,  2, 25,  3, 14, 44, 35, 34, 15, 40,\n",
       "             1, 22, 17, 24,  5, 13, 19, 11,  9, 32, 10, 29, 21, 45, 51, 49, 30,\n",
       "            12, 47,  8, 27,  4,  0, 37, 39, 23, 20, 50, 16, 31, 33, 41, 48, 38,\n",
       "            43],\n",
       "           dtype='int64')"
      ]
     },
     "execution_count": 104,
     "metadata": {},
     "output_type": "execute_result"
    }
   ],
   "source": [
    "res_sort.index"
   ]
  },
  {
   "cell_type": "code",
   "execution_count": 69,
   "metadata": {},
   "outputs": [
    {
     "data": {
      "text/plain": [
       "use       Technology/science\n",
       "meter                      3\n",
       "n_data                  8748\n",
       "R2                  0.544843\n",
       "mse                   4.5455\n",
       "Name: 46, dtype: object"
      ]
     },
     "execution_count": 69,
     "metadata": {},
     "output_type": "execute_result"
    }
   ],
   "source": [
    "worst_data= res.loc[res['mse'].idxmax()]\n",
    "worst_data"
   ]
  },
  {
   "cell_type": "code",
   "execution_count": 88,
   "metadata": {},
   "outputs": [
    {
     "data": {
      "text/plain": [
       "'Entertainment/public assembly'"
      ]
     },
     "execution_count": 88,
     "metadata": {},
     "output_type": "execute_result"
    }
   ],
   "source": [
    "res_sort.iloc[1,0]"
   ]
  },
  {
   "cell_type": "code",
   "execution_count": 166,
   "metadata": {},
   "outputs": [
    {
     "name": "stdout",
     "output_type": "stream",
     "text": [
      "use       Technology/science\n",
      "meter                      3\n",
      "n_data                  8748\n",
      "R2                  0.544843\n",
      "mse                   4.5455\n",
      "Name: 46, dtype: object\n"
     ]
    },
    {
     "data": {
      "text/html": [
       "<div>\n",
       "<style scoped>\n",
       "    .dataframe tbody tr th:only-of-type {\n",
       "        vertical-align: middle;\n",
       "    }\n",
       "\n",
       "    .dataframe tbody tr th {\n",
       "        vertical-align: top;\n",
       "    }\n",
       "\n",
       "    .dataframe thead th {\n",
       "        text-align: right;\n",
       "    }\n",
       "</style>\n",
       "<table border=\"1\" class=\"dataframe\">\n",
       "  <thead>\n",
       "    <tr style=\"text-align: right;\">\n",
       "      <th></th>\n",
       "      <th>building_id</th>\n",
       "      <th>meter</th>\n",
       "      <th>timestamp</th>\n",
       "      <th>meter_reading</th>\n",
       "      <th>log_meter_reading</th>\n",
       "      <th>hour</th>\n",
       "      <th>day</th>\n",
       "      <th>year</th>\n",
       "      <th>weeknumber</th>\n",
       "      <th>weekday</th>\n",
       "      <th>...</th>\n",
       "      <th>primary_use</th>\n",
       "      <th>square_feet</th>\n",
       "      <th>log_square_feet</th>\n",
       "      <th>air_temperature</th>\n",
       "      <th>cloud_coverage</th>\n",
       "      <th>dew_temperature</th>\n",
       "      <th>precip_depth_1_hr</th>\n",
       "      <th>sea_level_pressure</th>\n",
       "      <th>wind_direction</th>\n",
       "      <th>wind_speed</th>\n",
       "    </tr>\n",
       "  </thead>\n",
       "  <tbody>\n",
       "    <tr>\n",
       "      <th>2591</th>\n",
       "      <td>1017</td>\n",
       "      <td>3</td>\n",
       "      <td>2016-01-01 01:00:00</td>\n",
       "      <td>1110.140015</td>\n",
       "      <td>7.013142</td>\n",
       "      <td>1</td>\n",
       "      <td>1</td>\n",
       "      <td>2016</td>\n",
       "      <td>53</td>\n",
       "      <td>4</td>\n",
       "      <td>...</td>\n",
       "      <td>Technology/science</td>\n",
       "      <td>109263</td>\n",
       "      <td>11.601513</td>\n",
       "      <td>-10.601562</td>\n",
       "      <td>0.0</td>\n",
       "      <td>-13.898438</td>\n",
       "      <td>0.0</td>\n",
       "      <td>1037.0</td>\n",
       "      <td>0.0</td>\n",
       "      <td>0.000000</td>\n",
       "    </tr>\n",
       "    <tr>\n",
       "      <th>4887</th>\n",
       "      <td>1017</td>\n",
       "      <td>3</td>\n",
       "      <td>2016-01-01 02:00:00</td>\n",
       "      <td>1085.979980</td>\n",
       "      <td>6.991158</td>\n",
       "      <td>2</td>\n",
       "      <td>1</td>\n",
       "      <td>2016</td>\n",
       "      <td>53</td>\n",
       "      <td>4</td>\n",
       "      <td>...</td>\n",
       "      <td>Technology/science</td>\n",
       "      <td>109263</td>\n",
       "      <td>11.601513</td>\n",
       "      <td>-11.101562</td>\n",
       "      <td>0.0</td>\n",
       "      <td>-13.898438</td>\n",
       "      <td>0.0</td>\n",
       "      <td>1037.0</td>\n",
       "      <td>0.0</td>\n",
       "      <td>0.000000</td>\n",
       "    </tr>\n",
       "    <tr>\n",
       "      <th>7185</th>\n",
       "      <td>1017</td>\n",
       "      <td>3</td>\n",
       "      <td>2016-01-01 03:00:00</td>\n",
       "      <td>1267.750000</td>\n",
       "      <td>7.145787</td>\n",
       "      <td>3</td>\n",
       "      <td>1</td>\n",
       "      <td>2016</td>\n",
       "      <td>53</td>\n",
       "      <td>4</td>\n",
       "      <td>...</td>\n",
       "      <td>Technology/science</td>\n",
       "      <td>109263</td>\n",
       "      <td>11.601513</td>\n",
       "      <td>-10.000000</td>\n",
       "      <td>0.0</td>\n",
       "      <td>-15.000000</td>\n",
       "      <td>0.0</td>\n",
       "      <td>1037.0</td>\n",
       "      <td>280.0</td>\n",
       "      <td>2.599609</td>\n",
       "    </tr>\n",
       "    <tr>\n",
       "      <th>9480</th>\n",
       "      <td>1017</td>\n",
       "      <td>3</td>\n",
       "      <td>2016-01-01 04:00:00</td>\n",
       "      <td>2000.550049</td>\n",
       "      <td>7.601677</td>\n",
       "      <td>4</td>\n",
       "      <td>1</td>\n",
       "      <td>2016</td>\n",
       "      <td>53</td>\n",
       "      <td>4</td>\n",
       "      <td>...</td>\n",
       "      <td>Technology/science</td>\n",
       "      <td>109263</td>\n",
       "      <td>11.601513</td>\n",
       "      <td>-13.296875</td>\n",
       "      <td>0.0</td>\n",
       "      <td>-15.601562</td>\n",
       "      <td>0.0</td>\n",
       "      <td>1038.0</td>\n",
       "      <td>230.0</td>\n",
       "      <td>1.500000</td>\n",
       "    </tr>\n",
       "    <tr>\n",
       "      <th>11538</th>\n",
       "      <td>1017</td>\n",
       "      <td>3</td>\n",
       "      <td>2016-01-01 05:00:00</td>\n",
       "      <td>1121.640015</td>\n",
       "      <td>7.023438</td>\n",
       "      <td>5</td>\n",
       "      <td>1</td>\n",
       "      <td>2016</td>\n",
       "      <td>53</td>\n",
       "      <td>4</td>\n",
       "      <td>...</td>\n",
       "      <td>Technology/science</td>\n",
       "      <td>109263</td>\n",
       "      <td>11.601513</td>\n",
       "      <td>-14.398438</td>\n",
       "      <td>0.0</td>\n",
       "      <td>-17.203125</td>\n",
       "      <td>0.0</td>\n",
       "      <td>1037.0</td>\n",
       "      <td>310.0</td>\n",
       "      <td>4.101562</td>\n",
       "    </tr>\n",
       "  </tbody>\n",
       "</table>\n",
       "<p>5 rows × 22 columns</p>\n",
       "</div>"
      ],
      "text/plain": [
       "       building_id  meter           timestamp  meter_reading  \\\n",
       "2591          1017      3 2016-01-01 01:00:00    1110.140015   \n",
       "4887          1017      3 2016-01-01 02:00:00    1085.979980   \n",
       "7185          1017      3 2016-01-01 03:00:00    1267.750000   \n",
       "9480          1017      3 2016-01-01 04:00:00    2000.550049   \n",
       "11538         1017      3 2016-01-01 05:00:00    1121.640015   \n",
       "\n",
       "       log_meter_reading  hour  day  year  weeknumber  weekday  ...  \\\n",
       "2591            7.013142     1    1  2016          53        4  ...   \n",
       "4887            6.991158     2    1  2016          53        4  ...   \n",
       "7185            7.145787     3    1  2016          53        4  ...   \n",
       "9480            7.601677     4    1  2016          53        4  ...   \n",
       "11538           7.023438     5    1  2016          53        4  ...   \n",
       "\n",
       "              primary_use  square_feet log_square_feet  air_temperature  \\\n",
       "2591   Technology/science       109263       11.601513       -10.601562   \n",
       "4887   Technology/science       109263       11.601513       -11.101562   \n",
       "7185   Technology/science       109263       11.601513       -10.000000   \n",
       "9480   Technology/science       109263       11.601513       -13.296875   \n",
       "11538  Technology/science       109263       11.601513       -14.398438   \n",
       "\n",
       "       cloud_coverage  dew_temperature  precip_depth_1_hr  sea_level_pressure  \\\n",
       "2591              0.0       -13.898438                0.0              1037.0   \n",
       "4887              0.0       -13.898438                0.0              1037.0   \n",
       "7185              0.0       -15.000000                0.0              1037.0   \n",
       "9480              0.0       -15.601562                0.0              1038.0   \n",
       "11538             0.0       -17.203125                0.0              1037.0   \n",
       "\n",
       "       wind_direction  wind_speed  \n",
       "2591              0.0    0.000000  \n",
       "4887              0.0    0.000000  \n",
       "7185            280.0    2.599609  \n",
       "9480            230.0    1.500000  \n",
       "11538           310.0    4.101562  \n",
       "\n",
       "[5 rows x 22 columns]"
      ]
     },
     "execution_count": 166,
     "metadata": {},
     "output_type": "execute_result"
    }
   ],
   "source": [
    "k = 0\n",
    "sub_ix = res_sort.iloc[k]\n",
    "print(sub_ix) \n",
    "\n",
    "sub_worst_data= tbw[(tbw['primary_use']==sub_ix['use']) & (tbw['meter']==sub_ix['meter'])]\n",
    "sub_worst_data.head()"
   ]
  },
  {
   "cell_type": "code",
   "execution_count": 197,
   "metadata": {},
   "outputs": [
    {
     "name": "stdout",
     "output_type": "stream",
     "text": [
      "8748 datapoints\n",
      "Train-test split...\n",
      "X_train shape:  (6561, 5)\n",
      "X_test shape:  (2187, 5)\n",
      "Fitting model...\n",
      "Fit in 0.0s\n",
      "R2 : 0.7367085121594606\n",
      "MSE : 2.629402859678921\n"
     ]
    }
   ],
   "source": [
    "# refine bad trees\n",
    "\n",
    "X=sub_worst_data[features_list]\n",
    "y=sub_worst_data['log_meter_reading']\n",
    "\n",
    "#eliminate points with no temperature\n",
    "cond = ~X['air_temperature'].isnull() \n",
    "print(sum(cond),'datapoints')\n",
    "X = X[cond]\n",
    "y = y[cond]\n",
    "\n",
    "print('Train-test split...')\n",
    "# train-test split\n",
    "X_train, X_test, y_train, y_test = train_test_split(X,y,train_size = 0.75, random_state=42)\n",
    "print('X_train shape: ', X_train.shape)\n",
    "print('X_test shape: ', X_test.shape)\n",
    "\n",
    "# fit\n",
    "print('Fitting model...')\n",
    "t0 = time()\n",
    "dtr = DecisionTreeRegressor(min_samples_leaf = 1, min_samples_split=300)\n",
    "dtr.fit(X_train,y_train)\n",
    "print('Fit in {:.1f}s'.format(time()-t0) )\n",
    "\n",
    "# predict\n",
    "pred = dtr.predict(X_test)\n",
    "\n",
    "# validate model\n",
    "R2 = r2_score(y_test,pred)\n",
    "mse = mean_squared_error(y_test,pred)\n",
    "print('R2 :', R2)\n",
    "print('MSE :', mse)\n"
   ]
  },
  {
   "cell_type": "code",
   "execution_count": 198,
   "metadata": {},
   "outputs": [
    {
     "data": {
      "text/plain": [
       "<matplotlib.collections.PathCollection at 0x23f2a9f5188>"
      ]
     },
     "execution_count": 198,
     "metadata": {},
     "output_type": "execute_result"
    },
    {
     "data": {
      "image/png": "[encoded data removed]",
      "text/plain": [
       "<Figure size 432x288 with 1 Axes>"
      ]
     },
     "metadata": {
      "needs_background": "light"
     },
     "output_type": "display_data"
    }
   ],
   "source": [
    "plt.scatter(y_test, pred)"
   ]
  },
  {
   "cell_type": "code",
   "execution_count": 196,
   "metadata": {},
   "outputs": [
    {
     "name": "stderr",
     "output_type": "stream",
     "text": [
      "C:\\Users\\Roberto\\Anaconda3\\lib\\site-packages\\sklearn\\model_selection\\_search.py:813: DeprecationWarning: The default of the `iid` parameter will change from True to False in version 0.22 and will be removed in 0.24. This will change numeric results when test-set sizes are unequal.\n",
      "  DeprecationWarning)\n"
     ]
    },
    {
     "data": {
      "text/plain": [
       "{'min_samples_split': 300}"
      ]
     },
     "execution_count": 196,
     "metadata": {},
     "output_type": "execute_result"
    }
   ],
   "source": [
    "from sklearn.model_selection import GridSearchCV\n",
    "params = {'min_samples_split':np.arange(50,1000,50)}#, 'min_samples_leaf':[1,3, 5,8,10]}\n",
    "\n",
    "dtr = DecisionTreeRegressor()\n",
    "gscv = GridSearchCV(dtr, params, cv=5, verbose=0)\n",
    "\n",
    "gscv.fit(X, y)\n",
    "\n",
    "gscv.best_params_"
   ]
  },
  {
   "cell_type": "code",
   "execution_count": 200,
   "metadata": {},
   "outputs": [
    {
     "data": {
      "text/plain": [
       "use       Technology/science\n",
       "meter                      3\n",
       "n_data                  8748\n",
       "R2                  0.544843\n",
       "mse                   4.5455\n",
       "Name: 46, dtype: object"
      ]
     },
     "execution_count": 200,
     "metadata": {},
     "output_type": "execute_result"
    }
   ],
   "source": [
    "res.iloc[res_sort.index[0]]"
   ]
  },
  {
   "cell_type": "code",
   "execution_count": 202,
   "metadata": {},
   "outputs": [
    {
     "data": {
      "text/plain": [
       "DecisionTreeRegressor(criterion='mse', max_depth=None, max_features=None,\n",
       "                      max_leaf_nodes=None, min_impurity_decrease=0.0,\n",
       "                      min_impurity_split=None, min_samples_leaf=1,\n",
       "                      min_samples_split=300, min_weight_fraction_leaf=0.0,\n",
       "                      presort=False, random_state=None, splitter='best')"
      ]
     },
     "execution_count": 202,
     "metadata": {},
     "output_type": "execute_result"
    }
   ],
   "source": [
    "dtr"
   ]
  },
  {
   "cell_type": "code",
   "execution_count": 203,
   "metadata": {},
   "outputs": [
    {
     "data": {
      "text/plain": [
       "DecisionTreeRegressor(criterion='mse', max_depth=None, max_features=None,\n",
       "                      max_leaf_nodes=None, min_impurity_decrease=0.0,\n",
       "                      min_impurity_split=None, min_samples_leaf=1,\n",
       "                      min_samples_split=300, min_weight_fraction_leaf=0.0,\n",
       "                      presort=False, random_state=None, splitter='best')"
      ]
     },
     "execution_count": 203,
     "metadata": {},
     "output_type": "execute_result"
    }
   ],
   "source": [
    "# put tuned tree into dtrs\n",
    "dtrs[res_sort.index[0]] = dtr\n",
    "dtrs[res_sort.index[0]]"
   ]
  },
  {
   "cell_type": "code",
   "execution_count": 97,
   "metadata": {},
   "outputs": [
    {
     "data": {
      "text/html": [
       "<div>\n",
       "<style scoped>\n",
       "    .dataframe tbody tr th:only-of-type {\n",
       "        vertical-align: middle;\n",
       "    }\n",
       "\n",
       "    .dataframe tbody tr th {\n",
       "        vertical-align: top;\n",
       "    }\n",
       "\n",
       "    .dataframe thead th {\n",
       "        text-align: right;\n",
       "    }\n",
       "</style>\n",
       "<table border=\"1\" class=\"dataframe\">\n",
       "  <thead>\n",
       "    <tr style=\"text-align: right;\">\n",
       "      <th></th>\n",
       "      <th>meter_reading</th>\n",
       "    </tr>\n",
       "    <tr>\n",
       "      <th>building_id</th>\n",
       "      <th></th>\n",
       "    </tr>\n",
       "  </thead>\n",
       "  <tbody>\n",
       "    <tr>\n",
       "      <th>177</th>\n",
       "      <td>8780</td>\n",
       "    </tr>\n",
       "    <tr>\n",
       "      <th>200</th>\n",
       "      <td>8780</td>\n",
       "    </tr>\n",
       "    <tr>\n",
       "      <th>232</th>\n",
       "      <td>8781</td>\n",
       "    </tr>\n",
       "    <tr>\n",
       "      <th>236</th>\n",
       "      <td>8781</td>\n",
       "    </tr>\n",
       "    <tr>\n",
       "      <th>249</th>\n",
       "      <td>8780</td>\n",
       "    </tr>\n",
       "    <tr>\n",
       "      <th>254</th>\n",
       "      <td>8782</td>\n",
       "    </tr>\n",
       "    <tr>\n",
       "      <th>284</th>\n",
       "      <td>8782</td>\n",
       "    </tr>\n",
       "    <tr>\n",
       "      <th>1021</th>\n",
       "      <td>8773</td>\n",
       "    </tr>\n",
       "    <tr>\n",
       "      <th>1270</th>\n",
       "      <td>8777</td>\n",
       "    </tr>\n",
       "    <tr>\n",
       "      <th>1317</th>\n",
       "      <td>8764</td>\n",
       "    </tr>\n",
       "    <tr>\n",
       "      <th>1318</th>\n",
       "      <td>8777</td>\n",
       "    </tr>\n",
       "    <tr>\n",
       "      <th>1319</th>\n",
       "      <td>8777</td>\n",
       "    </tr>\n",
       "    <tr>\n",
       "      <th>1321</th>\n",
       "      <td>8777</td>\n",
       "    </tr>\n",
       "    <tr>\n",
       "      <th>1322</th>\n",
       "      <td>8777</td>\n",
       "    </tr>\n",
       "    <tr>\n",
       "      <th>1324</th>\n",
       "      <td>8777</td>\n",
       "    </tr>\n",
       "    <tr>\n",
       "      <th>1325</th>\n",
       "      <td>7169</td>\n",
       "    </tr>\n",
       "  </tbody>\n",
       "</table>\n",
       "</div>"
      ],
      "text/plain": [
       "             meter_reading\n",
       "building_id               \n",
       "177                   8780\n",
       "200                   8780\n",
       "232                   8781\n",
       "236                   8781\n",
       "249                   8780\n",
       "254                   8782\n",
       "284                   8782\n",
       "1021                  8773\n",
       "1270                  8777\n",
       "1317                  8764\n",
       "1318                  8777\n",
       "1319                  8777\n",
       "1321                  8777\n",
       "1322                  8777\n",
       "1324                  8777\n",
       "1325                  7169"
      ]
     },
     "execution_count": 97,
     "metadata": {},
     "output_type": "execute_result"
    }
   ],
   "source": [
    "sub_worst_data.groupby('building_id')['meter_reading'].count().to_frame()"
   ]
  },
  {
   "cell_type": "code",
   "execution_count": 75,
   "metadata": {},
   "outputs": [
    {
     "data": {
      "text/plain": [
       "(8772, 22)"
      ]
     },
     "execution_count": 75,
     "metadata": {},
     "output_type": "execute_result"
    }
   ],
   "source": [
    "sub_worst_data.shape"
   ]
  },
  {
   "cell_type": "code",
   "execution_count": 103,
   "metadata": {},
   "outputs": [
    {
     "data": {
      "image/png": "[encoded data removed]",
      "text/plain": [
       "<Figure size 576x432 with 1 Axes>"
      ]
     },
     "metadata": {
      "needs_background": "light"
     },
     "output_type": "display_data"
    }
   ],
   "source": [
    "fig, ax = plt.subplots(figsize=(8,6))\n",
    "for key, d in sub_worst_data.groupby('building_id'):\n",
    "    d.plot(x='timestamp',y='meter_reading',ax=ax,label=key)\n",
    "\n",
    "plt.grid();"
   ]
  },
  {
   "cell_type": "code",
   "execution_count": 79,
   "metadata": {},
   "outputs": [],
   "source": [
    "building_per_category = tbw.groupby(['primary_use','meter'])['building_id'].nunique().to_frame()"
   ]
  },
  {
   "cell_type": "code",
   "execution_count": 80,
   "metadata": {},
   "outputs": [
    {
     "data": {
      "image/png": "[encoded data removed]",
      "text/plain": [
       "<Figure size 432x288 with 1 Axes>"
      ]
     },
     "metadata": {
      "needs_background": "light"
     },
     "output_type": "display_data"
    }
   ],
   "source": [
    "plt.plot(building_per_category.building_id, res.mse,marker='.',linewidth=0)\n",
    "plt.grid();"
   ]
  },
  {
   "cell_type": "code",
   "execution_count": 49,
   "metadata": {},
   "outputs": [
    {
     "data": {
      "text/plain": [
       "[<matplotlib.lines.Line2D at 0x23ea57cdb88>]"
      ]
     },
     "execution_count": 49,
     "metadata": {},
     "output_type": "execute_result"
    },
    {
     "data": {
      "image/png": "[encoded data removed]",
      "text/plain": [
       "<Figure size 432x288 with 1 Axes>"
      ]
     },
     "metadata": {
      "needs_background": "light"
     },
     "output_type": "display_data"
    }
   ],
   "source": [
    "plt.plot(res.R2.sort_values(ascending=False).values)"
   ]
  },
  {
   "cell_type": "code",
   "execution_count": 100,
   "metadata": {},
   "outputs": [
    {
     "data": {
      "image/png": "[encoded data removed]",
      "text/plain": [
       "<Figure size 432x288 with 1 Axes>"
      ]
     },
     "metadata": {
      "needs_background": "light"
     },
     "output_type": "display_data"
    }
   ],
   "source": [
    "plt.plot(res.mse.sort_values().values,marker='.')\n",
    "plt.grid()"
   ]
  },
  {
   "cell_type": "code",
   "execution_count": 50,
   "metadata": {},
   "outputs": [
    {
     "data": {
      "text/plain": [
       "<matplotlib.axes._subplots.AxesSubplot at 0x23eac3a4a88>"
      ]
     },
     "execution_count": 50,
     "metadata": {},
     "output_type": "execute_result"
    },
    {
     "data": {
      "image/png": "[encoded data removed]",
      "text/plain": [
       "<Figure size 432x288 with 1 Axes>"
      ]
     },
     "metadata": {
      "needs_background": "light"
     },
     "output_type": "display_data"
    }
   ],
   "source": [
    "res.plot(x='n_data',y='R2',kind='scatter')"
   ]
  },
  {
   "cell_type": "code",
   "execution_count": 53,
   "metadata": {},
   "outputs": [
    {
     "data": {
      "image/png": "[encoded data removed]",
      "text/plain": [
       "<Figure size 432x288 with 1 Axes>"
      ]
     },
     "metadata": {
      "needs_background": "light"
     },
     "output_type": "display_data"
    }
   ],
   "source": [
    "res.plot(x='R2',y='mse',kind='scatter')\n",
    "plt.grid();"
   ]
  },
  {
   "cell_type": "code",
   "execution_count": 369,
   "metadata": {},
   "outputs": [
    {
     "data": {
      "text/plain": [
       "numpy.ndarray"
      ]
     },
     "execution_count": 369,
     "metadata": {},
     "output_type": "execute_result"
    }
   ],
   "source": [
    "type(pred)"
   ]
  },
  {
   "cell_type": "code",
   "execution_count": 401,
   "metadata": {},
   "outputs": [
    {
     "data": {
      "image/png": "[encoded data removed]",
      "text/plain": [
       "<Figure size 432x288 with 1 Axes>"
      ]
     },
     "metadata": {
      "needs_background": "light"
     },
     "output_type": "display_data"
    }
   ],
   "source": [
    "import random\n",
    "ixx = np.random.randint(1, 1e6, size=(50000,1))\n",
    "plt.scatter(y_test_values[ixx], pred[ixx]);"
   ]
  },
  {
   "cell_type": "code",
   "execution_count": 403,
   "metadata": {},
   "outputs": [
    {
     "data": {
      "image/png": "[encoded data removed]",
      "text/plain": [
       "<Figure size 432x288 with 1 Axes>"
      ]
     },
     "metadata": {
      "needs_background": "light"
     },
     "output_type": "display_data"
    }
   ],
   "source": [
    "plt.hist(y_test_values[ixx]- pred[ixx]);\n",
    "plt.yscale('log');"
   ]
  },
  {
   "cell_type": "code",
   "execution_count": 67,
   "metadata": {},
   "outputs": [],
   "source": [
    "from xgboost import plot_tree\n",
    "\n",
    "#plot_tree(dtrs[0], max_depth=3)"
   ]
  },
  {
   "cell_type": "code",
   "execution_count": 114,
   "metadata": {},
   "outputs": [
    {
     "data": {
      "text/plain": [
       "52"
      ]
     },
     "execution_count": 114,
     "metadata": {},
     "output_type": "execute_result"
    }
   ],
   "source": [
    "len(res_sort)"
   ]
  },
  {
   "cell_type": "code",
   "execution_count": 163,
   "metadata": {},
   "outputs": [],
   "source": [
    "k=0"
   ]
  },
  {
   "cell_type": "code",
   "execution_count": 164,
   "metadata": {},
   "outputs": [
    {
     "data": {
      "image/png": "[encoded data removed]",
      "text/plain": [
       "<Figure size 432x288 with 1 Axes>"
      ]
     },
     "metadata": {
      "needs_background": "light"
     },
     "output_type": "display_data"
    }
   ],
   "source": [
    "ixx = res_sort.index\n",
    "k=k+1\n",
    "fig, ax = plt.subplots()\n",
    "ax.plot(dtrs[ixx[k]].feature_importances_)\n",
    "ax.set_xticks(range(len(features_list)))\n",
    "ax.set_xticklabels(features_list);\n",
    "plt.ylim(0,1);\n",
    "plt.title(str(k));\n",
    "\n",
    "plt.grid();"
   ]
  },
  {
   "cell_type": "code",
   "execution_count": 165,
   "metadata": {},
   "outputs": [
    {
     "data": {
      "text/plain": [
       "use       Entertainment/public assembly\n",
       "meter                                 3\n",
       "n_data                           138796\n",
       "R2                             0.628846\n",
       "mse                             3.24964\n",
       "Name: 7, dtype: object"
      ]
     },
     "execution_count": 165,
     "metadata": {},
     "output_type": "execute_result"
    }
   ],
   "source": [
    "res_sort.iloc[k]"
   ]
  },
  {
   "cell_type": "code",
   "execution_count": 60,
   "metadata": {},
   "outputs": [
    {
     "data": {
      "image/png": "[encoded data removed]",
      "text/plain": [
       "<Figure size 432x288 with 1 Axes>"
      ]
     },
     "metadata": {
      "needs_background": "light"
     },
     "output_type": "display_data"
    }
   ],
   "source": [
    "fig, ax = plt.subplots()\n",
    "for dtr in dtrs:\n",
    "    ax.plot(dtr.feature_importances_)\n",
    "ax.set_xticks(range(len(features_list)))\n",
    "ax.set_xticklabels(features_list);\n",
    "plt.grid();"
   ]
  },
  {
   "cell_type": "code",
   "execution_count": 66,
   "metadata": {},
   "outputs": [
    {
     "data": {
      "text/plain": [
       "0.6977077840930719"
      ]
     },
     "execution_count": 66,
     "metadata": {},
     "output_type": "execute_result"
    }
   ],
   "source": [
    "xx=dtrs[0].feature_importances_\n"
   ]
  },
  {
   "cell_type": "markdown",
   "metadata": {},
   "source": [
    "# grid search on tree"
   ]
  },
  {
   "cell_type": "code",
   "execution_count": 254,
   "metadata": {},
   "outputs": [
    {
     "name": "stdout",
     "output_type": "stream",
     "text": [
      "Fitting 3 folds for each of 9 candidates, totalling 27 fits\n",
      "[CV] min_samples_leaf=1, min_samples_split=2 .........................\n"
     ]
    },
    {
     "name": "stderr",
     "output_type": "stream",
     "text": [
      "[Parallel(n_jobs=1)]: Using backend SequentialBackend with 1 concurrent workers.\n"
     ]
    },
    {
     "name": "stdout",
     "output_type": "stream",
     "text": [
      "[CV]  min_samples_leaf=1, min_samples_split=2, score=0.967, total=  14.9s\n",
      "[CV] min_samples_leaf=1, min_samples_split=2 .........................\n"
     ]
    },
    {
     "name": "stderr",
     "output_type": "stream",
     "text": [
      "[Parallel(n_jobs=1)]: Done   1 out of   1 | elapsed:   14.9s remaining:    0.0s\n"
     ]
    },
    {
     "name": "stdout",
     "output_type": "stream",
     "text": [
      "[CV]  min_samples_leaf=1, min_samples_split=2, score=0.968, total=  14.8s\n",
      "[CV] min_samples_leaf=1, min_samples_split=2 .........................\n"
     ]
    },
    {
     "name": "stderr",
     "output_type": "stream",
     "text": [
      "[Parallel(n_jobs=1)]: Done   2 out of   2 | elapsed:   29.8s remaining:    0.0s\n"
     ]
    },
    {
     "name": "stdout",
     "output_type": "stream",
     "text": [
      "[CV]  min_samples_leaf=1, min_samples_split=2, score=0.968, total=  15.1s\n",
      "[CV] min_samples_leaf=1, min_samples_split=3 .........................\n",
      "[CV]  min_samples_leaf=1, min_samples_split=3, score=0.968, total=  14.4s\n",
      "[CV] min_samples_leaf=1, min_samples_split=3 .........................\n",
      "[CV]  min_samples_leaf=1, min_samples_split=3, score=0.969, total=  14.3s\n",
      "[CV] min_samples_leaf=1, min_samples_split=3 .........................\n",
      "[CV]  min_samples_leaf=1, min_samples_split=3, score=0.969, total=  14.9s\n",
      "[CV] min_samples_leaf=1, min_samples_split=5 .........................\n",
      "[CV]  min_samples_leaf=1, min_samples_split=5, score=0.970, total=  13.4s\n",
      "[CV] min_samples_leaf=1, min_samples_split=5 .........................\n",
      "[CV]  min_samples_leaf=1, min_samples_split=5, score=0.971, total=  13.4s\n",
      "[CV] min_samples_leaf=1, min_samples_split=5 .........................\n",
      "[CV]  min_samples_leaf=1, min_samples_split=5, score=0.971, total=  13.6s\n",
      "[CV] min_samples_leaf=3, min_samples_split=2 .........................\n",
      "[CV]  min_samples_leaf=3, min_samples_split=2, score=0.972, total=  13.0s\n",
      "[CV] min_samples_leaf=3, min_samples_split=2 .........................\n",
      "[CV]  min_samples_leaf=3, min_samples_split=2, score=0.973, total=  13.0s\n",
      "[CV] min_samples_leaf=3, min_samples_split=2 .........................\n",
      "[CV]  min_samples_leaf=3, min_samples_split=2, score=0.972, total=  13.0s\n",
      "[CV] min_samples_leaf=3, min_samples_split=3 .........................\n",
      "[CV]  min_samples_leaf=3, min_samples_split=3, score=0.972, total=  13.1s\n",
      "[CV] min_samples_leaf=3, min_samples_split=3 .........................\n",
      "[CV]  min_samples_leaf=3, min_samples_split=3, score=0.973, total=  12.8s\n",
      "[CV] min_samples_leaf=3, min_samples_split=3 .........................\n",
      "[CV]  min_samples_leaf=3, min_samples_split=3, score=0.972, total=  14.0s\n",
      "[CV] min_samples_leaf=3, min_samples_split=5 .........................\n",
      "[CV]  min_samples_leaf=3, min_samples_split=5, score=0.972, total=  13.2s\n",
      "[CV] min_samples_leaf=3, min_samples_split=5 .........................\n",
      "[CV]  min_samples_leaf=3, min_samples_split=5, score=0.973, total=  13.9s\n",
      "[CV] min_samples_leaf=3, min_samples_split=5 .........................\n",
      "[CV]  min_samples_leaf=3, min_samples_split=5, score=0.972, total=  13.3s\n",
      "[CV] min_samples_leaf=5, min_samples_split=2 .........................\n",
      "[CV]  min_samples_leaf=5, min_samples_split=2, score=0.971, total=  12.9s\n",
      "[CV] min_samples_leaf=5, min_samples_split=2 .........................\n",
      "[CV]  min_samples_leaf=5, min_samples_split=2, score=0.972, total=  13.2s\n",
      "[CV] min_samples_leaf=5, min_samples_split=2 .........................\n",
      "[CV]  min_samples_leaf=5, min_samples_split=2, score=0.971, total=  12.6s\n",
      "[CV] min_samples_leaf=5, min_samples_split=3 .........................\n",
      "[CV]  min_samples_leaf=5, min_samples_split=3, score=0.971, total=  12.9s\n",
      "[CV] min_samples_leaf=5, min_samples_split=3 .........................\n",
      "[CV]  min_samples_leaf=5, min_samples_split=3, score=0.972, total=  12.2s\n",
      "[CV] min_samples_leaf=5, min_samples_split=3 .........................\n",
      "[CV]  min_samples_leaf=5, min_samples_split=3, score=0.971, total=  12.7s\n",
      "[CV] min_samples_leaf=5, min_samples_split=5 .........................\n",
      "[CV]  min_samples_leaf=5, min_samples_split=5, score=0.971, total=  13.9s\n",
      "[CV] min_samples_leaf=5, min_samples_split=5 .........................\n",
      "[CV]  min_samples_leaf=5, min_samples_split=5, score=0.972, total=  12.9s\n",
      "[CV] min_samples_leaf=5, min_samples_split=5 .........................\n",
      "[CV]  min_samples_leaf=5, min_samples_split=5, score=0.971, total=  12.4s\n"
     ]
    },
    {
     "name": "stderr",
     "output_type": "stream",
     "text": [
      "[Parallel(n_jobs=1)]: Done  27 out of  27 | elapsed:  6.1min finished\n"
     ]
    },
    {
     "name": "stdout",
     "output_type": "stream",
     "text": [
      "Grid Search CV in 383.5s\n"
     ]
    }
   ],
   "source": [
    "params = {'min_samples_split':[2,3,5], 'min_samples_leaf':[1,3, 5]}\n",
    "\n",
    "from sklearn.model_selection import GridSearchCV\n",
    "gscv = GridSearchCV( dtr, params, cv=3, verbose=3)\n",
    "\n",
    "t0 = time()\n",
    "gscv.fit(X_train, y_train)\n",
    "print('Grid Search CV in {:.1f}s'.format(time()-t0) )"
   ]
  },
  {
   "cell_type": "code",
   "execution_count": 257,
   "metadata": {},
   "outputs": [
    {
     "data": {
      "text/plain": [
       "{'min_samples_leaf': 3, 'min_samples_split': 2}"
      ]
     },
     "execution_count": 257,
     "metadata": {},
     "output_type": "execute_result"
    }
   ],
   "source": [
    "gscv.best_params_"
   ]
  },
  {
   "cell_type": "code",
   "execution_count": 34,
   "metadata": {},
   "outputs": [
    {
     "data": {
      "text/plain": [
       "<matplotlib.axes._subplots.AxesSubplot at 0x21b9cca74c8>"
      ]
     },
     "execution_count": 34,
     "metadata": {},
     "output_type": "execute_result"
    },
    {
     "data": {
      "image/png": "[encoded data removed]",
      "text/plain": [
       "<Figure size 432x288 with 1 Axes>"
      ]
     },
     "metadata": {
      "needs_background": "light"
     },
     "output_type": "display_data"
    }
   ],
   "source": [
    "building_df.groupby('primary_use')['primary_use'].count().plot()"
   ]
  },
  {
   "cell_type": "code",
   "execution_count": 5,
   "metadata": {},
   "outputs": [
    {
     "data": {
      "text/plain": [
       "(20216100, 4)"
      ]
     },
     "execution_count": 5,
     "metadata": {},
     "output_type": "execute_result"
    }
   ],
   "source": [
    "train_df.shape"
   ]
  },
  {
   "cell_type": "code",
   "execution_count": 36,
   "metadata": {},
   "outputs": [
    {
     "name": "stdout",
     "output_type": "stream",
     "text": [
      "building_id                     1099\n",
      "meter                              2\n",
      "timestamp        2016-06-13 09:00:00\n",
      "meter_reading            2.19047e+07\n",
      "Name: 8907488, dtype: object\n"
     ]
    }
   ],
   "source": [
    "buildmax = train_df.iloc[train_df['meter_reading'].idxmax()]\n",
    "print(buildmax)"
   ]
  },
  {
   "cell_type": "code",
   "execution_count": 38,
   "metadata": {},
   "outputs": [
    {
     "data": {
      "text/plain": [
       "(2708713, 4)"
      ]
     },
     "execution_count": 38,
     "metadata": {},
     "output_type": "execute_result"
    }
   ],
   "source": [
    "train_m2 = train_df[train_df['meter']==2]\n",
    "train_m2.shape"
   ]
  },
  {
   "cell_type": "code",
   "execution_count": 75,
   "metadata": {},
   "outputs": [
    {
     "data": {
      "text/plain": [
       "meter_reading    3.81388e+06\n",
       "site_id                   13\n",
       "building_id             1099\n",
       "primary_use        Education\n",
       "square_feet           332884\n",
       "year_built               NaN\n",
       "floor_count              NaN\n",
       "Name: 1099, dtype: object"
      ]
     },
     "execution_count": 75,
     "metadata": {},
     "output_type": "execute_result"
    }
   ],
   "source": [
    "train_m2_exp.loc[train_m2_exp['meter_reading'].idxmax()]"
   ]
  },
  {
   "cell_type": "code",
   "execution_count": 34,
   "metadata": {},
   "outputs": [
    {
     "data": {
      "text/html": [
       "<div>\n",
       "<style scoped>\n",
       "    .dataframe tbody tr th:only-of-type {\n",
       "        vertical-align: middle;\n",
       "    }\n",
       "\n",
       "    .dataframe tbody tr th {\n",
       "        vertical-align: top;\n",
       "    }\n",
       "\n",
       "    .dataframe thead th {\n",
       "        text-align: right;\n",
       "    }\n",
       "</style>\n",
       "<table border=\"1\" class=\"dataframe\">\n",
       "  <thead>\n",
       "    <tr style=\"text-align: right;\">\n",
       "      <th></th>\n",
       "      <th>site_id</th>\n",
       "      <th>building_id</th>\n",
       "      <th>primary_use</th>\n",
       "      <th>square_feet</th>\n",
       "      <th>year_built</th>\n",
       "      <th>floor_count</th>\n",
       "    </tr>\n",
       "  </thead>\n",
       "  <tbody>\n",
       "    <tr>\n",
       "      <th>1099</th>\n",
       "      <td>13</td>\n",
       "      <td>1099</td>\n",
       "      <td>Education</td>\n",
       "      <td>332884</td>\n",
       "      <td>NaN</td>\n",
       "      <td>NaN</td>\n",
       "    </tr>\n",
       "  </tbody>\n",
       "</table>\n",
       "</div>"
      ],
      "text/plain": [
       "      site_id  building_id primary_use  square_feet  year_built  floor_count\n",
       "1099       13         1099   Education       332884         NaN          NaN"
      ]
     },
     "execution_count": 34,
     "metadata": {},
     "output_type": "execute_result"
    }
   ],
   "source": [
    "building_df[building_df['building_id']== buildmax]"
   ]
  },
  {
   "cell_type": "code",
   "execution_count": 57,
   "metadata": {},
   "outputs": [
    {
     "data": {
      "image/png": "[encoded data removed]",
      "text/plain": [
       "<Figure size 1080x360 with 1 Axes>"
      ]
     },
     "metadata": {
      "needs_background": "light"
     },
     "output_type": "display_data"
    }
   ],
   "source": [
    "trainbuilding_edu_df.groupby('weeknumber')['meter_reading'].mean().plot(figsize=(15,5));\n",
    "plt.grid()"
   ]
  },
  {
   "cell_type": "code",
   "execution_count": 82,
   "metadata": {},
   "outputs": [
    {
     "data": {
      "text/plain": [
       "Text(0, 0.5, 'datapoints')"
      ]
     },
     "execution_count": 82,
     "metadata": {},
     "output_type": "execute_result"
    },
    {
     "data": {
      "image/png": "[encoded data removed]",
      "text/plain": [
       "<Figure size 432x288 with 1 Axes>"
      ]
     },
     "metadata": {
      "needs_background": "light"
     },
     "output_type": "display_data"
    }
   ],
   "source": [
    "plt.hist(np.log10(1+train_df['meter_reading']))\n",
    "plt.yscale('log');\n",
    "plt.grid();\n",
    "plt.xlabel('log10[meter_reading]')\n",
    "plt.ylabel('datapoints');"
   ]
  },
  {
   "cell_type": "code",
   "execution_count": 83,
   "metadata": {},
   "outputs": [
    {
     "data": {
      "image/png": "[encoded data removed]",
      "text/plain": [
       "<Figure size 432x288 with 1 Axes>"
      ]
     },
     "metadata": {
      "needs_background": "light"
     },
     "output_type": "display_data"
    }
   ],
   "source": [
    "plt.hist(np.log10(1+building_df['square_feet']))\n",
    "plt.yscale('log');\n",
    "plt.grid();\n",
    "plt.xlabel('log10[square_feet]')\n",
    "plt.ylabel('datapoints');"
   ]
  },
  {
   "cell_type": "markdown",
   "metadata": {},
   "source": [
    "# Prediction"
   ]
  },
  {
   "cell_type": "code",
   "execution_count": 213,
   "metadata": {},
   "outputs": [
    {
     "name": "stdout",
     "output_type": "stream",
     "text": [
      "test.csv read in 19.2 s\n",
      "Mem. usage decreased to 596.49 Mb (53.1% reduction)\n"
     ]
    }
   ],
   "source": [
    "test_df = read_file('test.csv')"
   ]
  },
  {
   "cell_type": "code",
   "execution_count": 214,
   "metadata": {},
   "outputs": [],
   "source": [
    "# convert into timestamp object\n",
    "test_df['timestamp'] = pd.to_datetime(test_df['timestamp'],format='%Y-%m-%d %H:%M:%S')\n",
    "# split timestamp\n",
    "test_df = split_timestamp(test_df)"
   ]
  },
  {
   "cell_type": "code",
   "execution_count": 215,
   "metadata": {},
   "outputs": [
    {
     "data": {
      "text/html": [
       "<div>\n",
       "<style scoped>\n",
       "    .dataframe tbody tr th:only-of-type {\n",
       "        vertical-align: middle;\n",
       "    }\n",
       "\n",
       "    .dataframe tbody tr th {\n",
       "        vertical-align: top;\n",
       "    }\n",
       "\n",
       "    .dataframe thead th {\n",
       "        text-align: right;\n",
       "    }\n",
       "</style>\n",
       "<table border=\"1\" class=\"dataframe\">\n",
       "  <thead>\n",
       "    <tr style=\"text-align: right;\">\n",
       "      <th></th>\n",
       "      <th>row_id</th>\n",
       "      <th>building_id</th>\n",
       "      <th>meter</th>\n",
       "      <th>timestamp</th>\n",
       "      <th>hour</th>\n",
       "      <th>day</th>\n",
       "      <th>year</th>\n",
       "      <th>weeknumber</th>\n",
       "      <th>weekday</th>\n",
       "      <th>month</th>\n",
       "    </tr>\n",
       "  </thead>\n",
       "  <tbody>\n",
       "    <tr>\n",
       "      <th>0</th>\n",
       "      <td>0</td>\n",
       "      <td>0</td>\n",
       "      <td>0</td>\n",
       "      <td>2017-01-01</td>\n",
       "      <td>0</td>\n",
       "      <td>1</td>\n",
       "      <td>2017</td>\n",
       "      <td>52</td>\n",
       "      <td>6</td>\n",
       "      <td>1</td>\n",
       "    </tr>\n",
       "    <tr>\n",
       "      <th>1</th>\n",
       "      <td>1</td>\n",
       "      <td>1</td>\n",
       "      <td>0</td>\n",
       "      <td>2017-01-01</td>\n",
       "      <td>0</td>\n",
       "      <td>1</td>\n",
       "      <td>2017</td>\n",
       "      <td>52</td>\n",
       "      <td>6</td>\n",
       "      <td>1</td>\n",
       "    </tr>\n",
       "    <tr>\n",
       "      <th>2</th>\n",
       "      <td>2</td>\n",
       "      <td>2</td>\n",
       "      <td>0</td>\n",
       "      <td>2017-01-01</td>\n",
       "      <td>0</td>\n",
       "      <td>1</td>\n",
       "      <td>2017</td>\n",
       "      <td>52</td>\n",
       "      <td>6</td>\n",
       "      <td>1</td>\n",
       "    </tr>\n",
       "    <tr>\n",
       "      <th>3</th>\n",
       "      <td>3</td>\n",
       "      <td>3</td>\n",
       "      <td>0</td>\n",
       "      <td>2017-01-01</td>\n",
       "      <td>0</td>\n",
       "      <td>1</td>\n",
       "      <td>2017</td>\n",
       "      <td>52</td>\n",
       "      <td>6</td>\n",
       "      <td>1</td>\n",
       "    </tr>\n",
       "    <tr>\n",
       "      <th>4</th>\n",
       "      <td>4</td>\n",
       "      <td>4</td>\n",
       "      <td>0</td>\n",
       "      <td>2017-01-01</td>\n",
       "      <td>0</td>\n",
       "      <td>1</td>\n",
       "      <td>2017</td>\n",
       "      <td>52</td>\n",
       "      <td>6</td>\n",
       "      <td>1</td>\n",
       "    </tr>\n",
       "  </tbody>\n",
       "</table>\n",
       "</div>"
      ],
      "text/plain": [
       "   row_id  building_id  meter  timestamp  hour  day  year  weeknumber  \\\n",
       "0       0            0      0 2017-01-01     0    1  2017          52   \n",
       "1       1            1      0 2017-01-01     0    1  2017          52   \n",
       "2       2            2      0 2017-01-01     0    1  2017          52   \n",
       "3       3            3      0 2017-01-01     0    1  2017          52   \n",
       "4       4            4      0 2017-01-01     0    1  2017          52   \n",
       "\n",
       "   weekday  month  \n",
       "0        6      1  \n",
       "1        6      1  \n",
       "2        6      1  \n",
       "3        6      1  \n",
       "4        6      1  "
      ]
     },
     "execution_count": 215,
     "metadata": {},
     "output_type": "execute_result"
    }
   ],
   "source": [
    "test_df.head()"
   ]
  },
  {
   "cell_type": "code",
   "execution_count": 216,
   "metadata": {},
   "outputs": [
    {
     "name": "stdout",
     "output_type": "stream",
     "text": [
      "weather_test.csv read in 1.1 s\n",
      "Mem. usage decreased to  6.08 Mb (68.1% reduction)\n"
     ]
    }
   ],
   "source": [
    "weather_test = read_file('weather_test.csv')"
   ]
  },
  {
   "cell_type": "code",
   "execution_count": 217,
   "metadata": {},
   "outputs": [
    {
     "data": {
      "text/html": [
       "<div>\n",
       "<style scoped>\n",
       "    .dataframe tbody tr th:only-of-type {\n",
       "        vertical-align: middle;\n",
       "    }\n",
       "\n",
       "    .dataframe tbody tr th {\n",
       "        vertical-align: top;\n",
       "    }\n",
       "\n",
       "    .dataframe thead th {\n",
       "        text-align: right;\n",
       "    }\n",
       "</style>\n",
       "<table border=\"1\" class=\"dataframe\">\n",
       "  <thead>\n",
       "    <tr style=\"text-align: right;\">\n",
       "      <th></th>\n",
       "      <th>row_id</th>\n",
       "      <th>building_id</th>\n",
       "      <th>meter</th>\n",
       "      <th>timestamp</th>\n",
       "      <th>hour</th>\n",
       "      <th>day</th>\n",
       "      <th>year</th>\n",
       "      <th>weeknumber</th>\n",
       "      <th>weekday</th>\n",
       "      <th>month</th>\n",
       "      <th>site_id</th>\n",
       "      <th>primary_use</th>\n",
       "      <th>square_feet</th>\n",
       "      <th>year_built</th>\n",
       "      <th>floor_count</th>\n",
       "      <th>log_square_feet</th>\n",
       "    </tr>\n",
       "  </thead>\n",
       "  <tbody>\n",
       "    <tr>\n",
       "      <th>0</th>\n",
       "      <td>0</td>\n",
       "      <td>0</td>\n",
       "      <td>0</td>\n",
       "      <td>2017-01-01</td>\n",
       "      <td>0</td>\n",
       "      <td>1</td>\n",
       "      <td>2017</td>\n",
       "      <td>52</td>\n",
       "      <td>6</td>\n",
       "      <td>1</td>\n",
       "      <td>0</td>\n",
       "      <td>Education</td>\n",
       "      <td>7432</td>\n",
       "      <td>2008.0</td>\n",
       "      <td>NaN</td>\n",
       "      <td>8.913550</td>\n",
       "    </tr>\n",
       "    <tr>\n",
       "      <th>1</th>\n",
       "      <td>1</td>\n",
       "      <td>1</td>\n",
       "      <td>0</td>\n",
       "      <td>2017-01-01</td>\n",
       "      <td>0</td>\n",
       "      <td>1</td>\n",
       "      <td>2017</td>\n",
       "      <td>52</td>\n",
       "      <td>6</td>\n",
       "      <td>1</td>\n",
       "      <td>0</td>\n",
       "      <td>Education</td>\n",
       "      <td>2720</td>\n",
       "      <td>2004.0</td>\n",
       "      <td>NaN</td>\n",
       "      <td>7.908387</td>\n",
       "    </tr>\n",
       "    <tr>\n",
       "      <th>2</th>\n",
       "      <td>2</td>\n",
       "      <td>2</td>\n",
       "      <td>0</td>\n",
       "      <td>2017-01-01</td>\n",
       "      <td>0</td>\n",
       "      <td>1</td>\n",
       "      <td>2017</td>\n",
       "      <td>52</td>\n",
       "      <td>6</td>\n",
       "      <td>1</td>\n",
       "      <td>0</td>\n",
       "      <td>Education</td>\n",
       "      <td>5376</td>\n",
       "      <td>1991.0</td>\n",
       "      <td>NaN</td>\n",
       "      <td>8.589700</td>\n",
       "    </tr>\n",
       "    <tr>\n",
       "      <th>3</th>\n",
       "      <td>3</td>\n",
       "      <td>3</td>\n",
       "      <td>0</td>\n",
       "      <td>2017-01-01</td>\n",
       "      <td>0</td>\n",
       "      <td>1</td>\n",
       "      <td>2017</td>\n",
       "      <td>52</td>\n",
       "      <td>6</td>\n",
       "      <td>1</td>\n",
       "      <td>0</td>\n",
       "      <td>Education</td>\n",
       "      <td>23685</td>\n",
       "      <td>2002.0</td>\n",
       "      <td>NaN</td>\n",
       "      <td>10.072597</td>\n",
       "    </tr>\n",
       "    <tr>\n",
       "      <th>4</th>\n",
       "      <td>4</td>\n",
       "      <td>4</td>\n",
       "      <td>0</td>\n",
       "      <td>2017-01-01</td>\n",
       "      <td>0</td>\n",
       "      <td>1</td>\n",
       "      <td>2017</td>\n",
       "      <td>52</td>\n",
       "      <td>6</td>\n",
       "      <td>1</td>\n",
       "      <td>0</td>\n",
       "      <td>Education</td>\n",
       "      <td>116607</td>\n",
       "      <td>1975.0</td>\n",
       "      <td>NaN</td>\n",
       "      <td>11.666565</td>\n",
       "    </tr>\n",
       "  </tbody>\n",
       "</table>\n",
       "</div>"
      ],
      "text/plain": [
       "   row_id  building_id  meter  timestamp  hour  day  year  weeknumber  \\\n",
       "0       0            0      0 2017-01-01     0    1  2017          52   \n",
       "1       1            1      0 2017-01-01     0    1  2017          52   \n",
       "2       2            2      0 2017-01-01     0    1  2017          52   \n",
       "3       3            3      0 2017-01-01     0    1  2017          52   \n",
       "4       4            4      0 2017-01-01     0    1  2017          52   \n",
       "\n",
       "   weekday  month  site_id primary_use  square_feet  year_built  floor_count  \\\n",
       "0        6      1        0   Education         7432      2008.0          NaN   \n",
       "1        6      1        0   Education         2720      2004.0          NaN   \n",
       "2        6      1        0   Education         5376      1991.0          NaN   \n",
       "3        6      1        0   Education        23685      2002.0          NaN   \n",
       "4        6      1        0   Education       116607      1975.0          NaN   \n",
       "\n",
       "   log_square_feet  \n",
       "0         8.913550  \n",
       "1         7.908387  \n",
       "2         8.589700  \n",
       "3        10.072597  \n",
       "4        11.666565  "
      ]
     },
     "execution_count": 217,
     "metadata": {},
     "output_type": "execute_result"
    }
   ],
   "source": [
    "test_bw = pd.merge(test_df, building_df, how='left', left_on='building_id',right_on='building_id')\n",
    "test_bw.head()"
   ]
  }
 ],
 "metadata": {
  "kernelspec": {
   "display_name": "Python 3",
   "language": "python",
   "name": "python3"
  },
  "language_info": {
   "codemirror_mode": {
    "name": "ipython",
    "version": 3
   },
   "file_extension": ".py",
   "mimetype": "text/x-python",
   "name": "python",
   "nbconvert_exporter": "python",
   "pygments_lexer": "ipython3",
   "version": "3.7.4"
  }
 },
 "nbformat": 4,
 "nbformat_minor": 2
}
