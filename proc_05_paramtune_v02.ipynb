{
 "cells": [
  {
   "cell_type": "code",
   "execution_count": null,
   "metadata": {},
   "outputs": [],
   "source": [
    "import pandas as pd\n",
    "import numpy as np\n",
    "import matplotlib.pyplot as plt\n",
    "from time import time\n",
    "import datetime as dt\n",
    "import importlib\n",
    "\n",
    "import aux_funcs as aux"
   ]
  },
  {
   "cell_type": "markdown",
   "metadata": {},
   "source": [
    "## data import"
   ]
  },
  {
   "cell_type": "code",
   "execution_count": 2,
   "metadata": {},
   "outputs": [
    {
     "name": "stdout",
     "output_type": "stream",
     "text": [
      "train.csv read in 9.7 s\n",
      "Mem. usage decreased to 289.19 Mb (53.1% reduction)\n",
      "(20216100, 11)\n",
      "   building_id  meter  timestamp  meter_reading  hour  day  year  weeknumber  \\\n",
      "0            0      0 2016-01-01            0.0     0    1  2016          53   \n",
      "1            1      0 2016-01-01            0.0     0    1  2016          53   \n",
      "2            2      0 2016-01-01            0.0     0    1  2016          53   \n",
      "3            3      0 2016-01-01            0.0     0    1  2016          53   \n",
      "4            4      0 2016-01-01            0.0     0    1  2016          53   \n",
      "\n",
      "   weekday  month  log_meter_reading  \n",
      "0        4      1                0.0  \n",
      "1        4      1                0.0  \n",
      "2        4      1                0.0  \n",
      "3        4      1                0.0  \n",
      "4        4      1                0.0  \n"
     ]
    }
   ],
   "source": [
    "train = aux.read_train_data()"
   ]
  },
  {
   "cell_type": "code",
   "execution_count": 3,
   "metadata": {},
   "outputs": [
    {
     "name": "stdout",
     "output_type": "stream",
     "text": [
      "building_metadata.csv read in 0.1 s\n",
      "Mem. usage decreased to  0.03 Mb (60.3% reduction)\n",
      "(1449, 7)\n",
      "   site_id  building_id primary_use  square_feet  year_built  floor_count  \\\n",
      "0        0            0   Education         7432      2008.0          NaN   \n",
      "1        0            1   Education         2720      2004.0          NaN   \n",
      "2        0            2   Education         5376      1991.0          NaN   \n",
      "3        0            3   Education        23685      2002.0          NaN   \n",
      "4        0            4   Education       116607      1975.0          NaN   \n",
      "\n",
      "   log_square_feet  \n",
      "0         8.913550  \n",
      "1         7.908387  \n",
      "2         8.589700  \n",
      "3        10.072597  \n",
      "4        11.666565  \n"
     ]
    }
   ],
   "source": [
    "building = aux.read_building_data()"
   ]
  },
  {
   "cell_type": "code",
   "execution_count": 4,
   "metadata": {},
   "outputs": [
    {
     "name": "stdout",
     "output_type": "stream",
     "text": [
      "weather_train.csv read in 0.3 s\n",
      "Mem. usage decreased to  3.07 Mb (68.1% reduction)\n"
     ]
    }
   ],
   "source": [
    "weather_train = aux.read_weather_train_data()"
   ]
  },
  {
   "cell_type": "markdown",
   "metadata": {},
   "source": [
    "### join"
   ]
  },
  {
   "cell_type": "code",
   "execution_count": 5,
   "metadata": {},
   "outputs": [],
   "source": [
    "tbw = train.join(building, on='building_id', rsuffix = 'r')\n",
    "\n",
    "tbw.drop(columns=['year_built','floor_count','building_idr'],inplace=True)"
   ]
  },
  {
   "cell_type": "code",
   "execution_count": 6,
   "metadata": {},
   "outputs": [
    {
     "data": {
      "text/html": [
       "<div>\n",
       "<style scoped>\n",
       "    .dataframe tbody tr th:only-of-type {\n",
       "        vertical-align: middle;\n",
       "    }\n",
       "\n",
       "    .dataframe tbody tr th {\n",
       "        vertical-align: top;\n",
       "    }\n",
       "\n",
       "    .dataframe thead th {\n",
       "        text-align: right;\n",
       "    }\n",
       "</style>\n",
       "<table border=\"1\" class=\"dataframe\">\n",
       "  <thead>\n",
       "    <tr style=\"text-align: right;\">\n",
       "      <th></th>\n",
       "      <th>building_id</th>\n",
       "      <th>meter</th>\n",
       "      <th>timestamp</th>\n",
       "      <th>meter_reading</th>\n",
       "      <th>hour</th>\n",
       "      <th>day</th>\n",
       "      <th>year</th>\n",
       "      <th>weeknumber</th>\n",
       "      <th>weekday</th>\n",
       "      <th>month</th>\n",
       "      <th>...</th>\n",
       "      <th>primary_use</th>\n",
       "      <th>square_feet</th>\n",
       "      <th>log_square_feet</th>\n",
       "      <th>air_temperature</th>\n",
       "      <th>cloud_coverage</th>\n",
       "      <th>dew_temperature</th>\n",
       "      <th>precip_depth_1_hr</th>\n",
       "      <th>sea_level_pressure</th>\n",
       "      <th>wind_direction</th>\n",
       "      <th>wind_speed</th>\n",
       "    </tr>\n",
       "  </thead>\n",
       "  <tbody>\n",
       "    <tr>\n",
       "      <th>0</th>\n",
       "      <td>0</td>\n",
       "      <td>0</td>\n",
       "      <td>2016-01-01</td>\n",
       "      <td>0.0</td>\n",
       "      <td>0</td>\n",
       "      <td>1</td>\n",
       "      <td>2016</td>\n",
       "      <td>53</td>\n",
       "      <td>4</td>\n",
       "      <td>1</td>\n",
       "      <td>...</td>\n",
       "      <td>Education</td>\n",
       "      <td>7432</td>\n",
       "      <td>8.913550</td>\n",
       "      <td>25.0</td>\n",
       "      <td>6.0</td>\n",
       "      <td>20.0</td>\n",
       "      <td>NaN</td>\n",
       "      <td>1019.5</td>\n",
       "      <td>0.0</td>\n",
       "      <td>0.0</td>\n",
       "    </tr>\n",
       "    <tr>\n",
       "      <th>1</th>\n",
       "      <td>1</td>\n",
       "      <td>0</td>\n",
       "      <td>2016-01-01</td>\n",
       "      <td>0.0</td>\n",
       "      <td>0</td>\n",
       "      <td>1</td>\n",
       "      <td>2016</td>\n",
       "      <td>53</td>\n",
       "      <td>4</td>\n",
       "      <td>1</td>\n",
       "      <td>...</td>\n",
       "      <td>Education</td>\n",
       "      <td>2720</td>\n",
       "      <td>7.908387</td>\n",
       "      <td>25.0</td>\n",
       "      <td>6.0</td>\n",
       "      <td>20.0</td>\n",
       "      <td>NaN</td>\n",
       "      <td>1019.5</td>\n",
       "      <td>0.0</td>\n",
       "      <td>0.0</td>\n",
       "    </tr>\n",
       "    <tr>\n",
       "      <th>2</th>\n",
       "      <td>2</td>\n",
       "      <td>0</td>\n",
       "      <td>2016-01-01</td>\n",
       "      <td>0.0</td>\n",
       "      <td>0</td>\n",
       "      <td>1</td>\n",
       "      <td>2016</td>\n",
       "      <td>53</td>\n",
       "      <td>4</td>\n",
       "      <td>1</td>\n",
       "      <td>...</td>\n",
       "      <td>Education</td>\n",
       "      <td>5376</td>\n",
       "      <td>8.589700</td>\n",
       "      <td>25.0</td>\n",
       "      <td>6.0</td>\n",
       "      <td>20.0</td>\n",
       "      <td>NaN</td>\n",
       "      <td>1019.5</td>\n",
       "      <td>0.0</td>\n",
       "      <td>0.0</td>\n",
       "    </tr>\n",
       "    <tr>\n",
       "      <th>3</th>\n",
       "      <td>3</td>\n",
       "      <td>0</td>\n",
       "      <td>2016-01-01</td>\n",
       "      <td>0.0</td>\n",
       "      <td>0</td>\n",
       "      <td>1</td>\n",
       "      <td>2016</td>\n",
       "      <td>53</td>\n",
       "      <td>4</td>\n",
       "      <td>1</td>\n",
       "      <td>...</td>\n",
       "      <td>Education</td>\n",
       "      <td>23685</td>\n",
       "      <td>10.072597</td>\n",
       "      <td>25.0</td>\n",
       "      <td>6.0</td>\n",
       "      <td>20.0</td>\n",
       "      <td>NaN</td>\n",
       "      <td>1019.5</td>\n",
       "      <td>0.0</td>\n",
       "      <td>0.0</td>\n",
       "    </tr>\n",
       "    <tr>\n",
       "      <th>4</th>\n",
       "      <td>4</td>\n",
       "      <td>0</td>\n",
       "      <td>2016-01-01</td>\n",
       "      <td>0.0</td>\n",
       "      <td>0</td>\n",
       "      <td>1</td>\n",
       "      <td>2016</td>\n",
       "      <td>53</td>\n",
       "      <td>4</td>\n",
       "      <td>1</td>\n",
       "      <td>...</td>\n",
       "      <td>Education</td>\n",
       "      <td>116607</td>\n",
       "      <td>11.666565</td>\n",
       "      <td>25.0</td>\n",
       "      <td>6.0</td>\n",
       "      <td>20.0</td>\n",
       "      <td>NaN</td>\n",
       "      <td>1019.5</td>\n",
       "      <td>0.0</td>\n",
       "      <td>0.0</td>\n",
       "    </tr>\n",
       "  </tbody>\n",
       "</table>\n",
       "<p>5 rows × 22 columns</p>\n",
       "</div>"
      ],
      "text/plain": [
       "   building_id  meter  timestamp  meter_reading  hour  day  year  weeknumber  \\\n",
       "0            0      0 2016-01-01            0.0     0    1  2016          53   \n",
       "1            1      0 2016-01-01            0.0     0    1  2016          53   \n",
       "2            2      0 2016-01-01            0.0     0    1  2016          53   \n",
       "3            3      0 2016-01-01            0.0     0    1  2016          53   \n",
       "4            4      0 2016-01-01            0.0     0    1  2016          53   \n",
       "\n",
       "   weekday  month  ...  primary_use  square_feet log_square_feet  \\\n",
       "0        4      1  ...    Education         7432        8.913550   \n",
       "1        4      1  ...    Education         2720        7.908387   \n",
       "2        4      1  ...    Education         5376        8.589700   \n",
       "3        4      1  ...    Education        23685       10.072597   \n",
       "4        4      1  ...    Education       116607       11.666565   \n",
       "\n",
       "   air_temperature  cloud_coverage  dew_temperature  precip_depth_1_hr  \\\n",
       "0             25.0             6.0             20.0                NaN   \n",
       "1             25.0             6.0             20.0                NaN   \n",
       "2             25.0             6.0             20.0                NaN   \n",
       "3             25.0             6.0             20.0                NaN   \n",
       "4             25.0             6.0             20.0                NaN   \n",
       "\n",
       "   sea_level_pressure  wind_direction  wind_speed  \n",
       "0              1019.5             0.0         0.0  \n",
       "1              1019.5             0.0         0.0  \n",
       "2              1019.5             0.0         0.0  \n",
       "3              1019.5             0.0         0.0  \n",
       "4              1019.5             0.0         0.0  \n",
       "\n",
       "[5 rows x 22 columns]"
      ]
     },
     "execution_count": 6,
     "metadata": {},
     "output_type": "execute_result"
    }
   ],
   "source": [
    "tbw = pd.merge(tbw, weather_train,left_on=['site_id','timestamp'],right_on=['site_id','timestamp'])\n",
    "tbw.head()"
   ]
  },
  {
   "cell_type": "markdown",
   "metadata": {},
   "source": [
    "## fit adjust"
   ]
  },
  {
   "cell_type": "code",
   "execution_count": 7,
   "metadata": {},
   "outputs": [],
   "source": [
    "use_list = np.unique(building['primary_use'])\n",
    "meter_list = np.arange(0,4)\n",
    "features_list=['weeknumber','weekday','hour','log_square_feet','air_temperature']"
   ]
  },
  {
   "cell_type": "code",
   "execution_count": 10,
   "metadata": {},
   "outputs": [],
   "source": [
    "import pickle\n",
    "# untuned tree of trees\n",
    "with open('tree_of_trees_191023.pkl','rb') as treefile:\n",
    "    dtrs = pickle.load(treefile)"
   ]
  },
  {
   "cell_type": "code",
   "execution_count": 11,
   "metadata": {},
   "outputs": [],
   "source": [
    "from sklearn.model_selection import train_test_split\n",
    "from sklearn.tree import DecisionTreeRegressor\n",
    "from sklearn.metrics import r2_score, mean_squared_error"
   ]
  },
  {
   "cell_type": "code",
   "execution_count": 12,
   "metadata": {},
   "outputs": [
    {
     "data": {
      "text/html": [
       "<div>\n",
       "<style scoped>\n",
       "    .dataframe tbody tr th:only-of-type {\n",
       "        vertical-align: middle;\n",
       "    }\n",
       "\n",
       "    .dataframe tbody tr th {\n",
       "        vertical-align: top;\n",
       "    }\n",
       "\n",
       "    .dataframe thead th {\n",
       "        text-align: right;\n",
       "    }\n",
       "</style>\n",
       "<table border=\"1\" class=\"dataframe\">\n",
       "  <thead>\n",
       "    <tr style=\"text-align: right;\">\n",
       "      <th></th>\n",
       "      <th>use</th>\n",
       "      <th>meter</th>\n",
       "      <th>n_data</th>\n",
       "      <th>R2</th>\n",
       "      <th>mse</th>\n",
       "    </tr>\n",
       "  </thead>\n",
       "  <tbody>\n",
       "    <tr>\n",
       "      <th>0</th>\n",
       "      <td>Education</td>\n",
       "      <td>0</td>\n",
       "      <td>4577522</td>\n",
       "      <td>0.973049</td>\n",
       "      <td>0.084164</td>\n",
       "    </tr>\n",
       "    <tr>\n",
       "      <th>1</th>\n",
       "      <td>Education</td>\n",
       "      <td>1</td>\n",
       "      <td>1812418</td>\n",
       "      <td>0.900901</td>\n",
       "      <td>0.669636</td>\n",
       "    </tr>\n",
       "    <tr>\n",
       "      <th>2</th>\n",
       "      <td>Education</td>\n",
       "      <td>2</td>\n",
       "      <td>1125729</td>\n",
       "      <td>0.830636</td>\n",
       "      <td>1.235509</td>\n",
       "    </tr>\n",
       "    <tr>\n",
       "      <th>3</th>\n",
       "      <td>Education</td>\n",
       "      <td>3</td>\n",
       "      <td>606440</td>\n",
       "      <td>0.845317</td>\n",
       "      <td>1.008202</td>\n",
       "    </tr>\n",
       "    <tr>\n",
       "      <th>4</th>\n",
       "      <td>Entertainment/public assembly</td>\n",
       "      <td>0</td>\n",
       "      <td>1505695</td>\n",
       "      <td>0.973836</td>\n",
       "      <td>0.084488</td>\n",
       "    </tr>\n",
       "  </tbody>\n",
       "</table>\n",
       "</div>"
      ],
      "text/plain": [
       "                             use  meter   n_data        R2       mse\n",
       "0                      Education      0  4577522  0.973049  0.084164\n",
       "1                      Education      1  1812418  0.900901  0.669636\n",
       "2                      Education      2  1125729  0.830636  1.235509\n",
       "3                      Education      3   606440  0.845317  1.008202\n",
       "4  Entertainment/public assembly      0  1505695  0.973836  0.084488"
      ]
     },
     "execution_count": 12,
     "metadata": {},
     "output_type": "execute_result"
    }
   ],
   "source": [
    "res = pd.read_csv('tree_of_trees_notune.csv')\n",
    "res.head()"
   ]
  },
  {
   "cell_type": "code",
   "execution_count": 14,
   "metadata": {},
   "outputs": [
    {
     "data": {
      "text/html": [
       "<div>\n",
       "<style scoped>\n",
       "    .dataframe tbody tr th:only-of-type {\n",
       "        vertical-align: middle;\n",
       "    }\n",
       "\n",
       "    .dataframe tbody tr th {\n",
       "        vertical-align: top;\n",
       "    }\n",
       "\n",
       "    .dataframe thead th {\n",
       "        text-align: right;\n",
       "    }\n",
       "</style>\n",
       "<table border=\"1\" class=\"dataframe\">\n",
       "  <thead>\n",
       "    <tr style=\"text-align: right;\">\n",
       "      <th></th>\n",
       "      <th>use</th>\n",
       "      <th>meter</th>\n",
       "      <th>n_data</th>\n",
       "      <th>R2</th>\n",
       "      <th>mse</th>\n",
       "    </tr>\n",
       "  </thead>\n",
       "  <tbody>\n",
       "    <tr>\n",
       "      <th>46</th>\n",
       "      <td>Technology/science</td>\n",
       "      <td>3</td>\n",
       "      <td>8748</td>\n",
       "      <td>0.550210</td>\n",
       "      <td>4.491899</td>\n",
       "    </tr>\n",
       "    <tr>\n",
       "      <th>7</th>\n",
       "      <td>Entertainment/public assembly</td>\n",
       "      <td>3</td>\n",
       "      <td>138796</td>\n",
       "      <td>0.628268</td>\n",
       "      <td>3.254709</td>\n",
       "    </tr>\n",
       "    <tr>\n",
       "      <th>42</th>\n",
       "      <td>Services</td>\n",
       "      <td>2</td>\n",
       "      <td>17564</td>\n",
       "      <td>0.898381</td>\n",
       "      <td>1.785532</td>\n",
       "    </tr>\n",
       "    <tr>\n",
       "      <th>6</th>\n",
       "      <td>Entertainment/public assembly</td>\n",
       "      <td>2</td>\n",
       "      <td>240055</td>\n",
       "      <td>0.686833</td>\n",
       "      <td>1.653541</td>\n",
       "    </tr>\n",
       "    <tr>\n",
       "      <th>26</th>\n",
       "      <td>Office</td>\n",
       "      <td>3</td>\n",
       "      <td>289434</td>\n",
       "      <td>0.777705</td>\n",
       "      <td>1.566249</td>\n",
       "    </tr>\n",
       "  </tbody>\n",
       "</table>\n",
       "</div>"
      ],
      "text/plain": [
       "                              use  meter  n_data        R2       mse\n",
       "46             Technology/science      3    8748  0.550210  4.491899\n",
       "7   Entertainment/public assembly      3  138796  0.628268  3.254709\n",
       "42                       Services      2   17564  0.898381  1.785532\n",
       "6   Entertainment/public assembly      2  240055  0.686833  1.653541\n",
       "26                         Office      3  289434  0.777705  1.566249"
      ]
     },
     "execution_count": 14,
     "metadata": {},
     "output_type": "execute_result"
    }
   ],
   "source": [
    "res_sort = res.sort_values(by='mse', ascending=False)\n",
    "res_sort.head()"
   ]
  },
  {
   "cell_type": "code",
   "execution_count": 16,
   "metadata": {},
   "outputs": [],
   "source": [
    "# initialise new variables\n",
    "new_dtrs = dtrs\n",
    "new_res_sort = res_sort"
   ]
  },
  {
   "cell_type": "code",
   "execution_count": 17,
   "metadata": {},
   "outputs": [],
   "source": [
    "new_res_sort['min_samples_leaf'] = 0\n",
    "new_res_sort['min_samples_split'] = 0"
   ]
  },
  {
   "cell_type": "markdown",
   "metadata": {},
   "source": [
    "### loop"
   ]
  },
  {
   "cell_type": "code",
   "execution_count": 118,
   "metadata": {},
   "outputs": [
    {
     "data": {
      "text/plain": [
       "use                    Office\n",
       "meter                       2\n",
       "n_data                 674002\n",
       "R2                   0.851947\n",
       "mse                    1.0056\n",
       "min_samples_leaf            0\n",
       "min_samples_split           0\n",
       "Name: 25, dtype: object"
      ]
     },
     "execution_count": 118,
     "metadata": {},
     "output_type": "execute_result"
    }
   ],
   "source": [
    "k = 10 # tree to fix\n",
    "curr = res_sort.iloc[k]\n",
    "curr"
   ]
  },
  {
   "cell_type": "code",
   "execution_count": 119,
   "metadata": {},
   "outputs": [
    {
     "name": "stdout",
     "output_type": "stream",
     "text": [
      "674002 datapoints\n"
     ]
    }
   ],
   "source": [
    "# extract by primary use and meter value\n",
    "sub_df = tbw[(tbw['primary_use']== curr['use']) & (tbw['meter']==curr['meter'])]\n",
    "\n",
    "X=sub_df[features_list]\n",
    "y=sub_df['log_meter_reading']\n",
    "\n",
    "#eliminate points with no temperature\n",
    "cond = ~X['air_temperature'].isnull() \n",
    "print(sum(cond),'datapoints')\n",
    "X = X[cond]\n",
    "y = y[cond]"
   ]
  },
  {
   "cell_type": "code",
   "execution_count": 122,
   "metadata": {},
   "outputs": [
    {
     "name": "stdout",
     "output_type": "stream",
     "text": [
      "Fitting 5 folds for each of 3 candidates, totalling 15 fits\n"
     ]
    },
    {
     "name": "stderr",
     "output_type": "stream",
     "text": [
      "[Parallel(n_jobs=1)]: Using backend SequentialBackend with 1 concurrent workers.\n",
      "[Parallel(n_jobs=1)]: Done  15 out of  15 | elapsed:   20.0s finished\n"
     ]
    },
    {
     "name": "stdout",
     "output_type": "stream",
     "text": [
      "{'min_samples_leaf': 250, 'min_samples_split': 4}\n"
     ]
    },
    {
     "data": {
      "image/png": "[encoded data removed]",
      "text/plain": [
       "<Figure size 432x288 with 1 Axes>"
      ]
     },
     "metadata": {
      "needs_background": "light"
     },
     "output_type": "display_data"
    }
   ],
   "source": [
    "from sklearn.model_selection import GridSearchCV\n",
    "params = {'min_samples_leaf':[150,200,250], 'min_samples_split':[4]}\n",
    "\n",
    "dtr_tune = DecisionTreeRegressor()\n",
    "gscv = GridSearchCV(dtr_tune, params, cv=5, verbose=1)\n",
    "\n",
    "gscv.fit(X, y)\n",
    "\n",
    "print(gscv.best_params_)\n",
    "\n",
    "mts= np.array(gscv.cv_results_['mean_test_score'])\n",
    "plt.plot(mts);\n",
    "plt.grid()\n",
    "plt.show()"
   ]
  },
  {
   "cell_type": "code",
   "execution_count": 123,
   "metadata": {},
   "outputs": [
    {
     "name": "stdout",
     "output_type": "stream",
     "text": [
      "X_train shape:  (505501, 5)\n",
      "X_test shape:  (168501, 5)\n",
      "Fitting model...\n",
      "Fit in 1.7s\n",
      "Validating...\n",
      "R2 : 0.8293851649520467\n",
      "MSE : 1.1588486616428475\n"
     ]
    }
   ],
   "source": [
    "# train-test split\n",
    "X_train, X_test, y_train, y_test = train_test_split(X,y,train_size = 0.75, random_state=42)\n",
    "print('X_train shape: ', X_train.shape)\n",
    "print('X_test shape: ', X_test.shape)\n",
    "\n",
    "# fit\n",
    "print('Fitting model...')\n",
    "t0 = time()\n",
    "dtr = DecisionTreeRegressor(min_samples_leaf = gscv.best_params_['min_samples_leaf'],\\\n",
    "                            min_samples_split=gscv.best_params_['min_samples_split'])\n",
    "dtr.fit(X_train,y_train)\n",
    "print('Fit in {:.1f}s'.format(time()-t0) )\n",
    "\n",
    "print('Validating...')\n",
    "# predict\n",
    "pred = dtr.predict(X_test)\n",
    "\n",
    "# validate model\n",
    "R2 = r2_score(y_test,pred)\n",
    "mse = mean_squared_error(y_test,pred)\n",
    "print('R2 :', R2)\n",
    "print('MSE :', mse)\n"
   ]
  },
  {
   "cell_type": "code",
   "execution_count": 124,
   "metadata": {},
   "outputs": [
    {
     "data": {
      "text/plain": [
       "use                    Office\n",
       "meter                       2\n",
       "n_data                 674002\n",
       "R2                   0.851947\n",
       "mse                    1.0056\n",
       "min_samples_leaf            0\n",
       "min_samples_split           0\n",
       "Name: 25, dtype: object"
      ]
     },
     "execution_count": 124,
     "metadata": {},
     "output_type": "execute_result"
    }
   ],
   "source": [
    "#remind where we started from\n",
    "res_sort.iloc[k,:]"
   ]
  },
  {
   "cell_type": "code",
   "execution_count": 125,
   "metadata": {},
   "outputs": [
    {
     "data": {
      "text/html": [
       "<div>\n",
       "<style scoped>\n",
       "    .dataframe tbody tr th:only-of-type {\n",
       "        vertical-align: middle;\n",
       "    }\n",
       "\n",
       "    .dataframe tbody tr th {\n",
       "        vertical-align: top;\n",
       "    }\n",
       "\n",
       "    .dataframe thead th {\n",
       "        text-align: right;\n",
       "    }\n",
       "</style>\n",
       "<table border=\"1\" class=\"dataframe\">\n",
       "  <thead>\n",
       "    <tr style=\"text-align: right;\">\n",
       "      <th></th>\n",
       "      <th>use</th>\n",
       "      <th>meter</th>\n",
       "      <th>n_data</th>\n",
       "      <th>R2</th>\n",
       "      <th>mse</th>\n",
       "      <th>min_samples_leaf</th>\n",
       "      <th>min_samples_split</th>\n",
       "    </tr>\n",
       "  </thead>\n",
       "  <tbody>\n",
       "    <tr>\n",
       "      <th>46</th>\n",
       "      <td>Technology/science</td>\n",
       "      <td>3</td>\n",
       "      <td>8748</td>\n",
       "      <td>0.702061</td>\n",
       "      <td>2.975416</td>\n",
       "      <td>300</td>\n",
       "      <td>4</td>\n",
       "    </tr>\n",
       "    <tr>\n",
       "      <th>7</th>\n",
       "      <td>Entertainment/public assembly</td>\n",
       "      <td>3</td>\n",
       "      <td>138796</td>\n",
       "      <td>0.656662</td>\n",
       "      <td>3.006102</td>\n",
       "      <td>300</td>\n",
       "      <td>4</td>\n",
       "    </tr>\n",
       "    <tr>\n",
       "      <th>42</th>\n",
       "      <td>Services</td>\n",
       "      <td>2</td>\n",
       "      <td>17564</td>\n",
       "      <td>0.886513</td>\n",
       "      <td>1.994059</td>\n",
       "      <td>50</td>\n",
       "      <td>4</td>\n",
       "    </tr>\n",
       "    <tr>\n",
       "      <th>6</th>\n",
       "      <td>Entertainment/public assembly</td>\n",
       "      <td>2</td>\n",
       "      <td>240055</td>\n",
       "      <td>0.802099</td>\n",
       "      <td>1.044930</td>\n",
       "      <td>50</td>\n",
       "      <td>4</td>\n",
       "    </tr>\n",
       "    <tr>\n",
       "      <th>26</th>\n",
       "      <td>Office</td>\n",
       "      <td>3</td>\n",
       "      <td>289434</td>\n",
       "      <td>0.737647</td>\n",
       "      <td>1.848495</td>\n",
       "      <td>525</td>\n",
       "      <td>4</td>\n",
       "    </tr>\n",
       "    <tr>\n",
       "      <th>36</th>\n",
       "      <td>Public services</td>\n",
       "      <td>3</td>\n",
       "      <td>78928</td>\n",
       "      <td>0.817184</td>\n",
       "      <td>1.312920</td>\n",
       "      <td>150</td>\n",
       "      <td>4</td>\n",
       "    </tr>\n",
       "    <tr>\n",
       "      <th>18</th>\n",
       "      <td>Lodging/residential</td>\n",
       "      <td>2</td>\n",
       "      <td>360378</td>\n",
       "      <td>0.814392</td>\n",
       "      <td>1.142239</td>\n",
       "      <td>100</td>\n",
       "      <td>4</td>\n",
       "    </tr>\n",
       "    <tr>\n",
       "      <th>28</th>\n",
       "      <td>Other</td>\n",
       "      <td>1</td>\n",
       "      <td>22623</td>\n",
       "      <td>0.871341</td>\n",
       "      <td>1.225100</td>\n",
       "      <td>80</td>\n",
       "      <td>4</td>\n",
       "    </tr>\n",
       "    <tr>\n",
       "      <th>2</th>\n",
       "      <td>Education</td>\n",
       "      <td>2</td>\n",
       "      <td>1125729</td>\n",
       "      <td>0.853747</td>\n",
       "      <td>1.066914</td>\n",
       "      <td>100</td>\n",
       "      <td>4</td>\n",
       "    </tr>\n",
       "    <tr>\n",
       "      <th>3</th>\n",
       "      <td>Education</td>\n",
       "      <td>3</td>\n",
       "      <td>606440</td>\n",
       "      <td>0.859646</td>\n",
       "      <td>0.914806</td>\n",
       "      <td>80</td>\n",
       "      <td>4</td>\n",
       "    </tr>\n",
       "    <tr>\n",
       "      <th>25</th>\n",
       "      <td>Office</td>\n",
       "      <td>2</td>\n",
       "      <td>674002</td>\n",
       "      <td>0.829385</td>\n",
       "      <td>1.158849</td>\n",
       "      <td>250</td>\n",
       "      <td>4</td>\n",
       "    </tr>\n",
       "  </tbody>\n",
       "</table>\n",
       "</div>"
      ],
      "text/plain": [
       "                              use  meter   n_data        R2       mse  \\\n",
       "46             Technology/science      3     8748  0.702061  2.975416   \n",
       "7   Entertainment/public assembly      3   138796  0.656662  3.006102   \n",
       "42                       Services      2    17564  0.886513  1.994059   \n",
       "6   Entertainment/public assembly      2   240055  0.802099  1.044930   \n",
       "26                         Office      3   289434  0.737647  1.848495   \n",
       "36                Public services      3    78928  0.817184  1.312920   \n",
       "18            Lodging/residential      2   360378  0.814392  1.142239   \n",
       "28                          Other      1    22623  0.871341  1.225100   \n",
       "2                       Education      2  1125729  0.853747  1.066914   \n",
       "3                       Education      3   606440  0.859646  0.914806   \n",
       "25                         Office      2   674002  0.829385  1.158849   \n",
       "\n",
       "    min_samples_leaf  min_samples_split  \n",
       "46               300                  4  \n",
       "7                300                  4  \n",
       "42                50                  4  \n",
       "6                 50                  4  \n",
       "26               525                  4  \n",
       "36               150                  4  \n",
       "18               100                  4  \n",
       "28                80                  4  \n",
       "2                100                  4  \n",
       "3                 80                  4  \n",
       "25               250                  4  "
      ]
     },
     "execution_count": 125,
     "metadata": {},
     "output_type": "execute_result"
    }
   ],
   "source": [
    "# attach results to table\n",
    "new_res_sort.iloc[k,3] = R2\n",
    "new_res_sort.iloc[k,4] = mse\n",
    "new_res_sort.iloc[k,5] = gscv.best_params_['min_samples_leaf']\n",
    "new_res_sort.iloc[k,6] = gscv.best_params_['min_samples_split']\n",
    "new_res_sort.head(k+1)\n"
   ]
  },
  {
   "cell_type": "code",
   "execution_count": 126,
   "metadata": {},
   "outputs": [
    {
     "data": {
      "text/plain": [
       "DecisionTreeRegressor(criterion='mse', max_depth=None, max_features=None,\n",
       "                      max_leaf_nodes=None, min_impurity_decrease=0.0,\n",
       "                      min_impurity_split=None, min_samples_leaf=250,\n",
       "                      min_samples_split=4, min_weight_fraction_leaf=0.0,\n",
       "                      presort=False, random_state=None, splitter='best')"
      ]
     },
     "execution_count": 126,
     "metadata": {},
     "output_type": "execute_result"
    }
   ],
   "source": [
    "# attach new tree\n",
    "new_dtrs[new_res_sort.index[k]] = dtr\n",
    "new_dtrs[new_res_sort.index[k]]"
   ]
  },
  {
   "cell_type": "markdown",
   "metadata": {},
   "source": [
    "## save files"
   ]
  },
  {
   "cell_type": "code",
   "execution_count": 127,
   "metadata": {},
   "outputs": [],
   "source": [
    "new_res_sort.to_csv('tuned_tree_of_trees_perf_v02.csv')"
   ]
  },
  {
   "cell_type": "code",
   "execution_count": 129,
   "metadata": {},
   "outputs": [],
   "source": [
    "with open('tuned_tree_of_trees_191026_v02.pkl','ab') as treefile:\n",
    "    pickle.dump(new_dtrs, treefile)"
   ]
  },
  {
   "cell_type": "code",
   "execution_count": 128,
   "metadata": {},
   "outputs": [
    {
     "name": "stdout",
     "output_type": "stream",
     "text": [
      "<class 'sklearn.tree.tree.DecisionTreeRegressor'>\n",
      "<class 'sklearn.tree.tree.DecisionTreeRegressor'>\n",
      "<class 'sklearn.tree.tree.DecisionTreeRegressor'>\n",
      "<class 'sklearn.tree.tree.DecisionTreeRegressor'>\n",
      "<class 'sklearn.tree.tree.DecisionTreeRegressor'>\n",
      "<class 'sklearn.tree.tree.DecisionTreeRegressor'>\n",
      "<class 'sklearn.tree.tree.DecisionTreeRegressor'>\n",
      "<class 'sklearn.tree.tree.DecisionTreeRegressor'>\n",
      "<class 'sklearn.tree.tree.DecisionTreeRegressor'>\n",
      "<class 'sklearn.tree.tree.DecisionTreeRegressor'>\n",
      "<class 'sklearn.tree.tree.DecisionTreeRegressor'>\n",
      "<class 'sklearn.tree.tree.DecisionTreeRegressor'>\n",
      "<class 'sklearn.tree.tree.DecisionTreeRegressor'>\n",
      "<class 'sklearn.tree.tree.DecisionTreeRegressor'>\n",
      "<class 'sklearn.tree.tree.DecisionTreeRegressor'>\n",
      "<class 'sklearn.tree.tree.DecisionTreeRegressor'>\n",
      "<class 'sklearn.tree.tree.DecisionTreeRegressor'>\n",
      "<class 'sklearn.tree.tree.DecisionTreeRegressor'>\n",
      "<class 'sklearn.tree.tree.DecisionTreeRegressor'>\n",
      "<class 'sklearn.tree.tree.DecisionTreeRegressor'>\n",
      "<class 'sklearn.tree.tree.DecisionTreeRegressor'>\n",
      "<class 'sklearn.tree.tree.DecisionTreeRegressor'>\n",
      "<class 'sklearn.tree.tree.DecisionTreeRegressor'>\n",
      "<class 'sklearn.tree.tree.DecisionTreeRegressor'>\n",
      "<class 'sklearn.tree.tree.DecisionTreeRegressor'>\n",
      "<class 'sklearn.tree.tree.DecisionTreeRegressor'>\n",
      "<class 'sklearn.tree.tree.DecisionTreeRegressor'>\n",
      "<class 'sklearn.tree.tree.DecisionTreeRegressor'>\n",
      "<class 'sklearn.tree.tree.DecisionTreeRegressor'>\n",
      "<class 'sklearn.tree.tree.DecisionTreeRegressor'>\n",
      "<class 'sklearn.tree.tree.DecisionTreeRegressor'>\n",
      "<class 'sklearn.tree.tree.DecisionTreeRegressor'>\n",
      "<class 'sklearn.tree.tree.DecisionTreeRegressor'>\n",
      "<class 'sklearn.tree.tree.DecisionTreeRegressor'>\n",
      "<class 'sklearn.tree.tree.DecisionTreeRegressor'>\n",
      "<class 'sklearn.tree.tree.DecisionTreeRegressor'>\n",
      "<class 'sklearn.tree.tree.DecisionTreeRegressor'>\n",
      "<class 'sklearn.tree.tree.DecisionTreeRegressor'>\n",
      "<class 'sklearn.tree.tree.DecisionTreeRegressor'>\n",
      "<class 'sklearn.tree.tree.DecisionTreeRegressor'>\n",
      "<class 'sklearn.tree.tree.DecisionTreeRegressor'>\n",
      "<class 'sklearn.tree.tree.DecisionTreeRegressor'>\n",
      "<class 'sklearn.tree.tree.DecisionTreeRegressor'>\n",
      "<class 'sklearn.tree.tree.DecisionTreeRegressor'>\n",
      "<class 'sklearn.tree.tree.DecisionTreeRegressor'>\n",
      "<class 'sklearn.tree.tree.DecisionTreeRegressor'>\n",
      "<class 'sklearn.tree.tree.DecisionTreeRegressor'>\n",
      "<class 'sklearn.tree.tree.DecisionTreeRegressor'>\n",
      "<class 'sklearn.tree.tree.DecisionTreeRegressor'>\n",
      "<class 'sklearn.tree.tree.DecisionTreeRegressor'>\n",
      "<class 'sklearn.tree.tree.DecisionTreeRegressor'>\n",
      "<class 'sklearn.tree.tree.DecisionTreeRegressor'>\n"
     ]
    }
   ],
   "source": [
    "for tr in new_dtrs:\n",
    "    print(type(tr))"
   ]
  }
 ],
 "metadata": {
  "kernelspec": {
   "display_name": "Python 3",
   "language": "python",
   "name": "python3"
  },
  "language_info": {
   "codemirror_mode": {
    "name": "ipython",
    "version": 3
   },
   "file_extension": ".py",
   "mimetype": "text/x-python",
   "name": "python",
   "nbconvert_exporter": "python",
   "pygments_lexer": "ipython3",
   "version": "3.7.4"
  }
 },
 "nbformat": 4,
 "nbformat_minor": 2
}
